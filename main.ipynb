{
 "cells": [
  {
   "cell_type": "markdown",
   "id": "b1fd8974-2acd-4254-9886-e07c5bce32cd",
   "metadata": {},
   "source": [
    "# Part 1"
   ]
  },
  {
   "cell_type": "markdown",
   "id": "a9e07a89-49af-442f-bfc3-66641af36957",
   "metadata": {
    "tags": []
   },
   "source": [
    "## 1.1"
   ]
  },
  {
   "cell_type": "code",
   "execution_count": 1,
   "id": "2216bfe8-15e6-4644-9fa8-9ca25bf4cdd9",
   "metadata": {},
   "outputs": [],
   "source": [
    "#part1\n",
    "import numpy as np      \n",
    "import matplotlib.pyplot as plt \n",
    "import scipy.io.wavfile \n",
    "import subprocess\n",
    "import librosa\n",
    "import librosa.display\n",
    "import IPython.display as ipd\n",
    "\n",
    "from pathlib import Path, PurePath   \n",
    "from tqdm.notebook import tqdm\n",
    "\n",
    "import random\n",
    "import pandas as pd\n",
    "import sympy\n",
    "import difflib\n",
    "from scipy.spatial import distance\n",
    "\n",
    "import matplotlib.pyplot as plt\n",
    "import sklearn\n",
    "from pandas.api.types import is_string_dtype\n",
    "from pandas.api.types import is_numeric_dtype\n",
    "from sklearn.preprocessing import StandardScaler\n",
    "from sklearn.decomposition import PCA\n",
    "\n",
    "import prince\n",
    "from prince import FAMD\n",
    "import scipy.spatial.distance as dist\n",
    "from collections import defaultdict\n",
    "from yellowbrick.cluster import KElbowVisualizer\n",
    "\n",
    "#part3\n",
    "from random import randint"
   ]
  },
  {
   "cell_type": "markdown",
   "id": "8bdb0088-63ea-4646-a9d6-47111989b5cc",
   "metadata": {},
   "source": [
    "### Utility functions"
   ]
  },
  {
   "cell_type": "code",
   "execution_count": 2,
   "id": "891a3802-b428-4007-9b5e-6a50deef2f4e",
   "metadata": {},
   "outputs": [],
   "source": [
    "def convert_mp3_to_wav(audio:str) -> str:  \n",
    "    \"\"\"Convert an input MP3 audio track into a WAV file.\n",
    "\n",
    "    Args:\n",
    "        audio (str): An input audio track.\n",
    "\n",
    "    Returns:\n",
    "        [str]: WAV filename.\n",
    "    \"\"\"\n",
    "    if audio[-3:] == \"mp3\":\n",
    "        wav_audio = audio[:-3] + \"wav\"\n",
    "        if not Path(wav_audio).exists():\n",
    "                subprocess.check_output(f\"ffmpeg -i {audio} {wav_audio}\", shell=True)\n",
    "        return wav_audio\n",
    "    \n",
    "    return audio\n",
    "\n",
    "def plot_spectrogram_and_picks(track:np.ndarray, sr:int, peaks:np.ndarray, onset_env:np.ndarray) -> None:\n",
    "    \"\"\"[summary]\n",
    "\n",
    "    Args:\n",
    "        track (np.ndarray): A track.\n",
    "        sr (int): Aampling rate.\n",
    "        peaks (np.ndarray): Indices of peaks in the track.\n",
    "        onset_env (np.ndarray): Vector containing the onset strength envelope.\n",
    "    \"\"\"\n",
    "    times = librosa.frames_to_time(np.arange(len(onset_env)),\n",
    "                            sr=sr, hop_length=HOP_SIZE)\n",
    "\n",
    "    plt.figure()\n",
    "    ax = plt.subplot(2, 1, 2)\n",
    "    D = librosa.stft(track)\n",
    "    librosa.display.specshow(librosa.amplitude_to_db(np.abs(D), ref=np.max),\n",
    "                            y_axis='log', x_axis='time')\n",
    "    plt.subplot(2, 1, 1, sharex=ax)\n",
    "    plt.plot(times, onset_env, alpha=0.8, label='Onset strength')\n",
    "    plt.vlines(times[peaks], 0,\n",
    "            onset_env.max(), color='r', alpha=0.8,\n",
    "            label='Selected peaks')\n",
    "    plt.legend(frameon=True, framealpha=0.8)\n",
    "    plt.axis('tight')\n",
    "    plt.tight_layout()\n",
    "    plt.show()\n",
    "\n",
    "def load_audio_picks(audio, duration, hop_size):\n",
    "    \"\"\"[summary]\n",
    "\n",
    "    Args:\n",
    "        audio (string, int, pathlib.Path or file-like object): [description]\n",
    "        duration (int): [description]\n",
    "        hop_size (int): \n",
    "\n",
    "    Returns:\n",
    "        tuple: Returns the audio time series (track) and sampling rate (sr), a vector containing the onset strength envelope\n",
    "        (onset_env), and the indices of peaks in track (peaks).\n",
    "    \"\"\"\n",
    "    try:\n",
    "        track, sr = librosa.load(audio, duration=duration)\n",
    "        onset_env = librosa.onset.onset_strength(track, sr=sr, hop_length=hop_size)\n",
    "        peaks = librosa.util.peak_pick(onset_env, 10, 10, 10, 10, 0.5, 0.5)\n",
    "    except Error as e:\n",
    "        print('An error occurred processing ', str(audio))\n",
    "        print(e)\n",
    "\n",
    "    return track, sr, onset_env, peaks"
   ]
  },
  {
   "cell_type": "markdown",
   "id": "89ca9f7c-036d-468f-8326-b5a6753b902b",
   "metadata": {
    "tags": []
   },
   "source": [
    "### Settings"
   ]
  },
  {
   "cell_type": "code",
   "execution_count": 3,
   "id": "79f4626c-948a-48af-8f56-3fdc4f3357bc",
   "metadata": {},
   "outputs": [],
   "source": [
    "N_TRACKS = 1413\n",
    "HOP_SIZE = 512\n",
    "DURATION = 60\n",
    "THRESHOLD = 0 # TODO: to be tuned!"
   ]
  },
  {
   "cell_type": "code",
   "execution_count": 4,
   "id": "3f2dfafc-32da-4dea-bdf4-51069cf16230",
   "metadata": {},
   "outputs": [],
   "source": [
    "data_folder = Path(\"Part1/archive/mp3s-32k/\")\n",
    "mp3_tracks = data_folder.glob(\"*/*/*.mp3\")\n",
    "tracks = data_folder.glob(\"*/*/*.wav\") "
   ]
  },
  {
   "cell_type": "markdown",
   "id": "a80a04ea-06a4-4c09-83d9-787b46d60c72",
   "metadata": {
    "tags": []
   },
   "source": [
    "### Preprocessing"
   ]
  },
  {
   "cell_type": "code",
   "execution_count": 5,
   "id": "06637ebd-38a8-49cf-8ad6-1513878ac8b7",
   "metadata": {},
   "outputs": [
    {
     "data": {
      "application/vnd.jupyter.widget-view+json": {
       "model_id": "013f5151793746909c6c79e2405fa916",
       "version_major": 2,
       "version_minor": 0
      },
      "text/plain": [
       "  0%|          | 0/1413 [00:00<?, ?it/s]"
      ]
     },
     "metadata": {},
     "output_type": "display_data"
    }
   ],
   "source": [
    "for track in tqdm(mp3_tracks, total=N_TRACKS):\n",
    "    convert_mp3_to_wav(str(track))"
   ]
  },
  {
   "cell_type": "markdown",
   "id": "56ba8f9d-98f0-46ed-934c-49e64f3cac55",
   "metadata": {},
   "source": [
    "### Store peaks values and tracks titles"
   ]
  },
  {
   "cell_type": "code",
   "execution_count": 6,
   "id": "79375fbe-fa5c-4694-a23a-3a1d46441f21",
   "metadata": {},
   "outputs": [
    {
     "data": {
      "application/vnd.jupyter.widget-view+json": {
       "model_id": "fa867bc82e4c4e0da875588d554d6c90",
       "version_major": 2,
       "version_minor": 0
      },
      "text/plain": [
       "0it [00:00, ?it/s]"
      ]
     },
     "metadata": {},
     "output_type": "display_data"
    }
   ],
   "source": [
    "all_peaks=[]\n",
    "titles=[]\n",
    "t=open('titles.txt','w')\n",
    "p=open('peaks60.txt','w')\n",
    "for ind,audio in tqdm(enumerate(tracks)):\n",
    "    track, sr, onset_env, peaks = load_audio_picks(audio, DURATION, HOP_SIZE)\n",
    "    all_peaks.append(peaks)\n",
    "    title=str(audio).replace('Part1/archive/mp3s-32k/','').replace('.wav','')\n",
    "    #print(title)\n",
    "    titles.append(title)\n",
    "    t.write(title+'\\n')\n",
    "    p.write(str(peaks)+'\\n')\n",
    "t.close()\n",
    "p.close()"
   ]
  },
  {
   "cell_type": "markdown",
   "id": "c1a89740-0983-4dc2-a449-1ca78675554e",
   "metadata": {},
   "source": [
    "## 1.2"
   ]
  },
  {
   "cell_type": "markdown",
   "id": "38c1031b-2961-4f00-958c-44ce27b5b3d7",
   "metadata": {
    "tags": []
   },
   "source": [
    "### Create our Database"
   ]
  },
  {
   "cell_type": "markdown",
   "id": "7ba7f626-145c-4767-ac81-afba6d228f87",
   "metadata": {},
   "source": [
    "Create a dictionary with all the possible peaks as keys and values set to 0, we will use it to map the peaks previously stored into a space that is $\\mathbb{R}^{k}$, with $k=\\#\\,total\\, peaks$. Each of these vectors will be composed by only 0's and 1's, each value representing if the peak appears for that song (0=False, 1=True)."
   ]
  },
  {
   "cell_type": "code",
   "execution_count": 7,
   "id": "4f3ee3d0-f2b0-49e8-a354-03ca8fd17be5",
   "metadata": {},
   "outputs": [],
   "source": [
    "dic={}\n",
    "for peaks in all_peaks:\n",
    "    for peak in peaks:\n",
    "        if peak not in dic:\n",
    "            dic[peak]=0"
   ]
  },
  {
   "cell_type": "markdown",
   "id": "5dcb7dc6-c2e9-4bdd-afc3-1783b67f3dd0",
   "metadata": {},
   "source": [
    "The following function maps each of the peaks array (representing the peaks of a single song) into the space $\\mathbb{R}^{k}$ and returns the vector as a numpy array."
   ]
  },
  {
   "cell_type": "code",
   "execution_count": 8,
   "id": "111059fe-c76a-4971-9faf-f4aefdb51b64",
   "metadata": {},
   "outputs": [],
   "source": [
    "def transform01(array,dic):\n",
    "    \n",
    "    dic=dict.fromkeys(dic, 0) #initialize to 0 all values, we wil call this func multiple tiems and don't want\n",
    "                              #mistakes in storing the \n",
    "    \n",
    "    for i in range(len(array)):\n",
    "        dic[array[i]]=1\n",
    "    \n",
    "\n",
    "    return (list(dic.values()))"
   ]
  },
  {
   "cell_type": "code",
   "execution_count": 9,
   "id": "0a70c232-a4e2-4ecd-995d-fd590a6a6696",
   "metadata": {},
   "outputs": [],
   "source": [
    "peaks_01=[]\n",
    "for i in range(len(all_peaks)):\n",
    "    peaks_01.append(transform01(all_peaks[i],dic))  #peaks_01 now contains all the 01 vectors"
   ]
  },
  {
   "cell_type": "code",
   "execution_count": 10,
   "id": "43d23024-a2bd-4f82-a697-060bdcefb660",
   "metadata": {},
   "outputs": [
    {
     "name": "stdout",
     "output_type": "stream",
     "text": [
      "1413 2579\n"
     ]
    }
   ],
   "source": [
    "print(len(peaks_01),len(peaks_01[0])) #---> k=2587"
   ]
  },
  {
   "cell_type": "code",
   "execution_count": 11,
   "id": "62a95086-18a7-4141-9dd0-221c46e446ef",
   "metadata": {},
   "outputs": [],
   "source": [
    "def scaler(array,scale):\n",
    "    scaled_01=[]\n",
    "    for i in range(0,len(array),scale):\n",
    "        summ=max(array[i:i+scale])\n",
    "        scaled_01.append(summ)\n",
    "    return np.asarray(scaled_01)"
   ]
  },
  {
   "cell_type": "code",
   "execution_count": 12,
   "id": "51dd7773-efa3-4717-ae58-ceb94289fa14",
   "metadata": {},
   "outputs": [],
   "source": [
    "scale=3"
   ]
  },
  {
   "cell_type": "code",
   "execution_count": 13,
   "id": "6be369e2-1c51-45c8-9e62-9526af9e63d8",
   "metadata": {},
   "outputs": [],
   "source": [
    "for i in range(len(peaks_01)):\n",
    "    peaks_01[i]=scaler(peaks_01[i],scale)"
   ]
  },
  {
   "cell_type": "code",
   "execution_count": 14,
   "id": "3b975544-50c3-4d83-9526-fb07ed4adb2a",
   "metadata": {},
   "outputs": [
    {
     "name": "stdout",
     "output_type": "stream",
     "text": [
      "1413 860\n"
     ]
    }
   ],
   "source": [
    "print(len(peaks_01),len(peaks_01[0])) #---> k=860"
   ]
  },
  {
   "cell_type": "markdown",
   "id": "c0473a6b-69e6-481f-b3f2-ccf07c6c689c",
   "metadata": {},
   "source": [
    "Now that a 01 vector for each song has been obtained, it will be used to produce a signature as follows:\\\n",
    "Repeat for $n_{permutation}=300$ times:\n",
    "\n",
    "1.   Perform a random shuffling over the elements of the 01 vector;\n",
    "1.   Store the index of the first \"1\" element into the signature for the song;\n",
    "\n",
    "By doing this we are further reducing the dimensions of each vector from $\\mathbb{R}^{k=1287}$ to $\\mathbb{R}^{n_{permutation}=300}$, this will allow for faster operations on the vectors  "
   ]
  },
  {
   "cell_type": "code",
   "execution_count": 15,
   "id": "9c81cb3c-6eb4-4cfb-8106-90022e5bfed8",
   "metadata": {},
   "outputs": [],
   "source": [
    "n_perms=300"
   ]
  },
  {
   "cell_type": "code",
   "execution_count": 16,
   "id": "9d28d9dc-a67b-4bda-815a-955bdbc61b80",
   "metadata": {},
   "outputs": [],
   "source": [
    "def first1(array): #returns the index of the first '1' element of a np.array\n",
    "    return np.where(array==1)[0][0]"
   ]
  },
  {
   "cell_type": "code",
   "execution_count": 17,
   "id": "fedcd40a-17f5-4f83-a1bf-1fb6419cb12d",
   "metadata": {},
   "outputs": [],
   "source": [
    "def minHash(array,n_perms): #return list with indexes of first element of the given array\n",
    "    \n",
    "    indexes=[]\n",
    "    random.seed(42) #set seed so we are applying the same transformation to the vectors when iterating(see later)\n",
    "    \n",
    "    for i in range(n_perms):\n",
    "        random.shuffle(array)\n",
    "        indexes.append(first1(array))\n",
    "    return indexes"
   ]
  },
  {
   "cell_type": "code",
   "execution_count": 18,
   "id": "81e22ef6-2745-443c-9c5d-48cac4d10624",
   "metadata": {},
   "outputs": [
    {
     "data": {
      "application/vnd.jupyter.widget-view+json": {
       "model_id": "797376aca7e14b228a55675f6745c9ec",
       "version_major": 2,
       "version_minor": 0
      },
      "text/plain": [
       "  0%|          | 0/1413 [00:00<?, ?it/s]"
      ]
     },
     "metadata": {},
     "output_type": "display_data"
    }
   ],
   "source": [
    "#now save in an array the values we get applying minHash on the whole list of vectors\n",
    "new_indexes=[]\n",
    "for i in tqdm(range(len(peaks_01))): #new_indexes will have as elements the columns of the signature matrix \n",
    "    indexes=minHash(peaks_01[i], n_perms) #we are trying to reduce the dimensions by a factor ~4, \n",
    "    new_indexes.append(np.asarray(indexes))    #that's why 300 perms \n",
    "    #new indexes is list of np.array"
   ]
  },
  {
   "cell_type": "code",
   "execution_count": 19,
   "id": "98254ec5-ed3d-4478-b0cf-118ae3b46efc",
   "metadata": {},
   "outputs": [
    {
     "name": "stdout",
     "output_type": "stream",
     "text": [
      "300 1413\n"
     ]
    }
   ],
   "source": [
    "print(len(new_indexes[0]),len(new_indexes)) #we have 1413 vectors long 300 each, seems fine"
   ]
  },
  {
   "cell_type": "markdown",
   "id": "96b999da-486a-42e8-be3f-fb905bd12894",
   "metadata": {},
   "source": [
    "So now we have the list 'new_indexes' that contains the columns of the signature matrix, which is a matrix (300,1413) "
   ]
  },
  {
   "cell_type": "markdown",
   "id": "8f7d3a6c-186b-43b2-ad3c-1ff4b8a28592",
   "metadata": {},
   "source": [
    "\n",
    "### Create Buckets for faster matching with queries"
   ]
  },
  {
   "cell_type": "markdown",
   "id": "83766aba-c7f5-46f4-ad73-306e700470da",
   "metadata": {},
   "source": [
    "In this section we are dividing the signature matrix in bands, each band containing $bandwidth=10$ rows. Then we map each of the bands through a hash function into a value $v\\,\\epsilon\\,(0,1423)$. After this we store the data obtained in a dictionary as follows $data[v]=index$ where index refers to the index of the song, which we will use to retrieve the songs' titles later on when trying to match queries."
   ]
  },
  {
   "cell_type": "code",
   "execution_count": 20,
   "id": "ae067b95-c74d-493c-a7f7-5943c972bc4e",
   "metadata": {},
   "outputs": [],
   "source": [
    "bandwidth=10"
   ]
  },
  {
   "cell_type": "code",
   "execution_count": 21,
   "id": "cb4685a0-85b6-4a5d-af1e-269c0e49aa60",
   "metadata": {},
   "outputs": [],
   "source": [
    "def findMod(l_01,bandwidth):\n",
    "    m=(l_01**bandwidth)\n",
    "    while(True):\n",
    "        m+=1\n",
    "        if(sympy.isprime(m)):\n",
    "            break\n",
    "    print(\"Module value chosen for the hash is: \",m)\n",
    "    return(m)"
   ]
  },
  {
   "cell_type": "code",
   "execution_count": 22,
   "id": "2ba9abcc-c34c-4276-8712-0f32e4bbd0da",
   "metadata": {},
   "outputs": [
    {
     "name": "stdout",
     "output_type": "stream",
     "text": [
      "Module value chosen for the hash is:  221301578888030709760000000171\n"
     ]
    }
   ],
   "source": [
    "mod=findMod(len(peaks_01[0]),bandwidth)"
   ]
  },
  {
   "cell_type": "code",
   "execution_count": 23,
   "id": "94ce32c0-493a-4928-9e3c-6ef965169f81",
   "metadata": {},
   "outputs": [],
   "source": [
    "#if I want to do with hash function.... choose prime number =1423\n",
    "def rands(n,prime):\n",
    "    a=[]\n",
    "    random.seed(42)\n",
    "    for i in range(n):\n",
    "        a.append(random.randint(0, prime-1))\n",
    "    return a\n",
    "\n",
    "def hashf(A,a,prime,mod):\n",
    "    a=np.asarray(a)\n",
    "    A=np.asarray(A)\n",
    "    return (np.sum(a*A))%prime\n",
    "\n",
    "def mapHash(A,bandwidth,mod):\n",
    "    prime=1423\n",
    "    a=rands(bandwidth,prime)\n",
    "    return hashf(A,a,prime,mod)"
   ]
  },
  {
   "cell_type": "code",
   "execution_count": 24,
   "id": "bf64aefa-9c3c-47a1-a422-6b951098d206",
   "metadata": {},
   "outputs": [],
   "source": [
    "def Bucket1(array, data, bandwidth,mod):\n",
    "    \n",
    "    for j in tqdm(range(len(array))):\n",
    "        \n",
    "        for i in range(0,len(array[j]),bandwidth):\n",
    "            \n",
    "            key=mapHash(array[j][i:i+bandwidth],bandwidth,mod)\n",
    "            \n",
    "            if key not in data:\n",
    "                data[key]=[]\n",
    "                data[key].append(int(j))\n",
    "            else:\n",
    "                data[key].append(int(j))\n",
    "    return data"
   ]
  },
  {
   "cell_type": "code",
   "execution_count": 25,
   "id": "25b607b2-5010-4359-9418-40ae05ffd84d",
   "metadata": {},
   "outputs": [
    {
     "data": {
      "application/vnd.jupyter.widget-view+json": {
       "model_id": "bc8b909c3b864aa38c151f158cc24e12",
       "version_major": 2,
       "version_minor": 0
      },
      "text/plain": [
       "  0%|          | 0/1413 [00:00<?, ?it/s]"
      ]
     },
     "metadata": {},
     "output_type": "display_data"
    }
   ],
   "source": [
    "data={}\n",
    "data=dict.fromkeys(data, 0)\n",
    "data=Bucket1(new_indexes,data,bandwidth,mod)"
   ]
  },
  {
   "cell_type": "markdown",
   "id": "a197e6fd-0b5a-4486-b4c3-0ca434f2d9bd",
   "metadata": {},
   "source": [
    "### Prepare to compare queries with dataset"
   ]
  },
  {
   "cell_type": "markdown",
   "id": "1a998157-3a8d-455b-bcb0-24cb05f77bb9",
   "metadata": {},
   "source": [
    "Define a similarity score to compare the query with the elements in our dataset and a function to retrieve the title of a song given its index."
   ]
  },
  {
   "cell_type": "code",
   "execution_count": 26,
   "id": "1663a920-854b-42ff-80e0-617ff0ddf832",
   "metadata": {
    "tags": []
   },
   "outputs": [],
   "source": [
    "def sim_score(a1,a2): #returns value in interval (0,1) that states how similar two arrays are\n",
    "    return difflib.SequenceMatcher(None,a1,a2).ratio()\n",
    "\n",
    "    \n",
    "def retrieveTitle(index): #Return the title of a song given its index\n",
    "    f=open('titles.txt')\n",
    "    lines=f.readlines()\n",
    "    f.close()\n",
    "    return lines[index]"
   ]
  },
  {
   "cell_type": "markdown",
   "id": "b482c348-3975-4d14-a32a-23445f83ee39",
   "metadata": {},
   "source": [
    "For each of the query songs we do the following:\n",
    "1. Get the values of its peaks\n",
    "1. Transform them into a 01 vector\n",
    "1. Apply minHash to retrieve a vector we called $sign\\_colq$\n",
    "1. Map to buckets\n",
    "1. Compare the vector $sign\\_colq$ with the possible vectors saved in the buckets (actually their index $index\\,song$ is saved)\n",
    "1. Pick the song with highest similarity value"
   ]
  },
  {
   "cell_type": "code",
   "execution_count": 27,
   "id": "69b28038-1b58-4a89-afbe-2dd23aa95d66",
   "metadata": {},
   "outputs": [
    {
     "name": "stdout",
     "output_type": "stream",
     "text": [
      "Requested song of track track1 should be aerosmith/Aerosmith/03-Dream_On\n",
      "\n",
      "Requested song of track track2 should be queen/The_Works/06-I_Want_To_Break_Free\n",
      "\n",
      "Requested song of track track3 should be u2/October/07-October\n",
      "\n",
      "Requested song of track track4 should be beatles/The_White_Album_Disc_1/04-Ob-La-Di_Ob-La-Da\n",
      "\n",
      "Requested song of track track5 should be radiohead/OK_Computer/06-Karma_Police\n",
      "\n",
      "Requested song of track track6 should be led_zeppelin/Led_Zeppelin_II/05-Heartbreaker\n",
      "\n",
      "Requested song of track track7 should be fleetwood_mac/Rumours/05-Go_Your_Own_Way\n",
      "\n",
      "Requested song of track track8 should be green_day/American_Idiot/01-American_Idiot\n",
      "\n",
      "Requested song of track track9 should be depeche_mode/Some_Great_Reward/06-Somebody\n",
      "\n",
      "Requested song of track track10 should be steely_dan/Katy_Lied/01-Black_Friday\n",
      "\n"
     ]
    }
   ],
   "source": [
    "q_tracks=['Part1/queries/track1.wav','Part1/queries/track2.wav','Part1/queries/track3.wav','Part1/queries/track4.wav',\n",
    "          'Part1/queries/track5.wav','Part1/queries/track6.wav','Part1/queries/track7.wav','Part1/queries/track8.wav',\n",
    "          'Part1/queries/track9.wav','Part1/queries/track10.wav']\n",
    "for q_track in q_tracks:\n",
    "    track, sr, onset_env, peakis = load_audio_picks(q_track, DURATION, HOP_SIZE) #point 1\n",
    "    q_01=np.array([0])\n",
    "    q_01=peakis\n",
    "    q_01=transform01(q_01,dic)                                               #point 2\n",
    "    q_01=scaler(q_01,scale)\n",
    "    sign_colq=minHash(q_01,n_perms)                                          #point 3\n",
    "    \n",
    "    keys=[]\n",
    "    for i in range(0,len(sign_colq),bandwidth):                                  #point 4\n",
    "        key=mapHash(sign_colq[i:i+bandwidth],bandwidth,mod)                              \n",
    "        keys.append(key)  \n",
    "        \n",
    "    score=-1\n",
    "    for key in keys:\n",
    "        for value in data[key]:                                                  #point 5\n",
    "            similarity=sim_score(np.asarray(sign_colq),new_indexes[value])\n",
    "            if similarity>score:\n",
    "                best=value\n",
    "                score=similarity\n",
    "    if score!=-1:                                                                 #point 6\n",
    "        print(('Requested song of track {} should be {}').format(q_track.replace('Part1/queries/','').replace('.wav','')\n",
    "                                                                 ,retrieveTitle(best)))\n",
    "    else:\n",
    "        print('something went wrong...')"
   ]
  },
  {
   "cell_type": "markdown",
   "id": "421e3796-6b30-4bd1-beff-0091a591b790",
   "metadata": {},
   "source": [
    "### Analyze varying threshold"
   ]
  },
  {
   "cell_type": "code",
   "execution_count": 28,
   "id": "250cdd02-c43f-4bba-bc3e-4c18ede1ad96",
   "metadata": {},
   "outputs": [
    {
     "name": "stdout",
     "output_type": "stream",
     "text": [
      "for threshold value=0.33\n",
      "Requested song of track track1 should be beatles/A_Hard_Day_s_Night/13-I_ll_Be_Back\n",
      "\n",
      "Requested song of track track2 should be creedence_clearwater_revival/Creedence_Clearwater_Revival/05-Get_Down_Woman\n",
      "\n",
      "Requested song of track track3 should be madonna/Erotica/11-Why_s_It_So_Hard\n",
      "\n",
      "Requested song of track track4 should be fleetwood_mac/Tusk/02-The_Ledge\n",
      "\n",
      "Requested song of track track5 should be radiohead/Hail_to_the_Theif/11-A_Punchup_at_a_Wedding\n",
      "\n",
      "Requested song of track track6 should be dave_matthews_band/Under_The_Table_And_Dreaming/06-Dancing_Nancies\n",
      "\n",
      "Requested song of track track7 should be dave_matthews_band/Stand_Up/14-Hunger_For_The_Great_Light\n",
      "\n",
      "Requested song of track track8 should be garth_brooks/No_Fences_The_Limited_Series_/10-Mr_Blue\n",
      "\n",
      "Requested song of track track9 should be beatles/Revolver/03-I_m_Only_Sleeping\n",
      "\n",
      "Requested song of track track10 should be creedence_clearwater_revival/Pendulum/08-It_s_Just_A_Thought\n",
      "\n",
      "for threshold value=0.66\n",
      "Requested song of track track1 should be beatles/A_Hard_Day_s_Night/13-I_ll_Be_Back\n",
      "\n",
      "Requested song of track track2 should be creedence_clearwater_revival/Creedence_Clearwater_Revival/05-Get_Down_Woman\n",
      "\n",
      "Requested song of track track3 should be madonna/Erotica/11-Why_s_It_So_Hard\n",
      "\n",
      "Requested song of track track4 should be fleetwood_mac/Tusk/02-The_Ledge\n",
      "\n",
      "Requested song of track track5 should be radiohead/Hail_to_the_Theif/11-A_Punchup_at_a_Wedding\n",
      "\n",
      "Requested song of track track6 should be dave_matthews_band/Under_The_Table_And_Dreaming/06-Dancing_Nancies\n",
      "\n",
      "Requested song of track track7 should be dave_matthews_band/Stand_Up/14-Hunger_For_The_Great_Light\n",
      "\n",
      "Requested song of track track8 should be garth_brooks/No_Fences_The_Limited_Series_/10-Mr_Blue\n",
      "\n",
      "Requested song of track track9 should be beatles/Revolver/03-I_m_Only_Sleeping\n",
      "\n",
      "Requested song of track track10 should be creedence_clearwater_revival/Pendulum/08-It_s_Just_A_Thought\n",
      "\n",
      "for threshold value=1.0\n",
      "Requested song of track track1 should be aerosmith/Aerosmith/03-Dream_On\n",
      "\n",
      "Requested song of track track2 should be queen/The_Works/06-I_Want_To_Break_Free\n",
      "\n",
      "Requested song of track track3 should be u2/October/07-October\n",
      "\n",
      "Requested song of track track4 should be beatles/The_White_Album_Disc_1/04-Ob-La-Di_Ob-La-Da\n",
      "\n",
      "Requested song of track track5 should be radiohead/OK_Computer/06-Karma_Police\n",
      "\n",
      "Requested song of track track6 should be led_zeppelin/Led_Zeppelin_II/05-Heartbreaker\n",
      "\n",
      "Requested song of track track7 should be fleetwood_mac/Rumours/05-Go_Your_Own_Way\n",
      "\n",
      "Requested song of track track8 should be green_day/American_Idiot/01-American_Idiot\n",
      "\n",
      "Requested song of track track9 should be depeche_mode/Some_Great_Reward/06-Somebody\n",
      "\n",
      "Requested song of track track10 should be steely_dan/Katy_Lied/01-Black_Friday\n",
      "\n"
     ]
    }
   ],
   "source": [
    "THRESHOLD=[0.33,0.66,1.]\n",
    "\n",
    "for thresh in THRESHOLD:\n",
    "    print('for threshold value={}'.format(thresh))\n",
    "    #score=-1\n",
    "    for q_track in q_tracks:\n",
    "        track, sr, onset_env, peakis = load_audio_picks(q_track, DURATION, HOP_SIZE)  \n",
    "        q_01=np.array([0])\n",
    "        q_01=peakis\n",
    "        q_01=transform01(q_01,dic)                \n",
    "        q_01=scaler(q_01,scale)\n",
    "        sign_colq=minHash(q_01,n_perms)                                           \n",
    "        \n",
    "        keys=[]\n",
    "        for i in range(0,len(sign_colq),bandwidth):                                   \n",
    "            key=mapHash(sign_colq[i:i+bandwidth],bandwidth,mod)                              \n",
    "            keys.append(key)  \n",
    "            \n",
    "        score=-1\n",
    "        for key in keys:\n",
    "            for value in data[key]:                                                   \n",
    "                similarity=sim_score(np.asarray(sign_colq),new_indexes[value])\n",
    "                if (similarity>score) & (similarity<=thresh):\n",
    "                    best=value\n",
    "                    score=similarity\n",
    "        if score!=-1:                                                                  \n",
    "            print(('Requested song of track {} should be {}').format(q_track.replace('Part1/queries/','').replace('.wav','')\n",
    "                                                                     ,retrieveTitle(best)))\n",
    "        else:\n",
    "            print('something went wrong...')"
   ]
  },
  {
   "cell_type": "markdown",
   "id": "e1544a09-715e-40dd-8546-bec4750e0f16",
   "metadata": {},
   "source": [
    "# Part 2"
   ]
  },
  {
   "cell_type": "markdown",
   "id": "c5c8c5ff",
   "metadata": {},
   "source": [
    "## 2.1 Getting your data"
   ]
  },
  {
   "cell_type": "markdown",
   "id": "18351c3a",
   "metadata": {},
   "source": [
    "We want to read the datasets to try to understand which key we can use to merge them together.\n",
    "\n",
    "First of all we want to fill empty values in the datasets.\n",
    "The below function take as an input a dataframe and check if in the columns there are any missing values of numeric or string types and fills this value with an empty string, in case of strings, or with a mean of the values of that column in case of numbers."
   ]
  },
  {
   "cell_type": "code",
   "execution_count": 7,
   "id": "30f06f52",
   "metadata": {},
   "outputs": [],
   "source": [
    "def filler(dataframe):\n",
    "    for col in dataframe.columns:\n",
    "        if dataframe[col].isnull().any():\n",
    "            if is_string_dtype(dataframe[col]):\n",
    "                dataframe[col] = dataframe[col].fillna(\"\")\n",
    "            elif is_numeric_dtype(dataframe[col]):\n",
    "                dataframe[col] = dataframe[col].fillna(dataframe[col].mean())"
   ]
  },
  {
   "cell_type": "code",
   "execution_count": 8,
   "id": "2a035876",
   "metadata": {},
   "outputs": [],
   "source": [
    "tracks = pd.read_csv(\"tracks.csv\")\n",
    "echonest = pd.read_csv(\"echonest.csv\")\n",
    "features = pd.read_csv(\"features.csv\")"
   ]
  },
  {
   "cell_type": "markdown",
   "id": "29635f2e",
   "metadata": {},
   "source": [
    "We take a copy of the datasets needed:"
   ]
  },
  {
   "cell_type": "code",
   "execution_count": 9,
   "id": "97074279",
   "metadata": {},
   "outputs": [],
   "source": [
    "tracks_c = tracks.copy()\n",
    "echonest_c = echonest.copy()\n",
    "features_c = features.copy()"
   ]
  },
  {
   "cell_type": "markdown",
   "id": "fcc2b941",
   "metadata": {},
   "source": [
    "First of all we want to fill the datasets using the function filler() created above."
   ]
  },
  {
   "cell_type": "code",
   "execution_count": 10,
   "id": "bfd4a726",
   "metadata": {},
   "outputs": [],
   "source": [
    "filler(tracks_c)\n",
    "filler(echonest_c)\n",
    "filler(features_c)"
   ]
  },
  {
   "cell_type": "markdown",
   "id": "040323d4",
   "metadata": {},
   "source": [
    "## 2.2 Choose your features"
   ]
  },
  {
   "cell_type": "markdown",
   "id": "037a1965",
   "metadata": {},
   "source": [
    "We notice that the number of features is very big (820 columns!) and we want to reduce the number of variables we have to work with.\n",
    "\n",
    "So let's apply dimensionality reduction!"
   ]
  },
  {
   "cell_type": "markdown",
   "id": "8683efa7",
   "metadata": {},
   "source": [
    "### Principal Component Analysis"
   ]
  },
  {
   "cell_type": "markdown",
   "id": "4d8f64ae",
   "metadata": {},
   "source": [
    "Principal component analysis, is a statistical technique to convert high dimensional data to low dimensional data by selecting the most important features that capture maximum information about the dataset. The features are selected on the basis of variance that they cause in the output. The feature that causes highest variance is the first principal component. The feature that is responsible for second highest variance is considered the second principal component, and so on. It is important to mention that principal components do not have any correlation with each other."
   ]
  },
  {
   "cell_type": "markdown",
   "id": "6c03fd65",
   "metadata": {},
   "source": [
    "#### Standardizing the Numeric Features\n",
    "\n",
    "Since PCA is effected by scale, we need to scale the features in our data before applying PCA. We used StandardScaler to standardize the dataset’s features onto unit scale (mean = 0 and variance = 1) which is a requirement for the optimal performance of algorithms.First we have to chose numeric and categorical columns."
   ]
  },
  {
   "cell_type": "markdown",
   "id": "c626bd99",
   "metadata": {},
   "source": [
    "### Echonest"
   ]
  },
  {
   "cell_type": "markdown",
   "id": "32e3a0bc",
   "metadata": {},
   "source": [
    "First we need to chose numeric and categorical columns"
   ]
  },
  {
   "cell_type": "code",
   "execution_count": 11,
   "id": "d43347b1",
   "metadata": {},
   "outputs": [],
   "source": [
    "num_cols = [col for col in echonest_c.columns if echonest_c[col].dtypes != \"O\"]\n",
    "cat_cols = [col for col in echonest_c.columns if echonest_c[col].dtypes == \"O\"]"
   ]
  },
  {
   "cell_type": "markdown",
   "id": "ec86d602",
   "metadata": {},
   "source": [
    "We decided to reduce the number of temporal features columns from 224 to 32. The reason why we did not choose it lower than this number (32) is to ensure that the total variance is greater than 70%."
   ]
  },
  {
   "cell_type": "code",
   "execution_count": 13,
   "id": "6242bf9f",
   "metadata": {},
   "outputs": [],
   "source": [
    "filter_temp_col = [col for col in num_cols if col.startswith('temporal')]\n",
    "#filter_temp_col"
   ]
  },
  {
   "cell_type": "code",
   "execution_count": 14,
   "id": "6382211b",
   "metadata": {},
   "outputs": [],
   "source": [
    "# We used PCA for our numerical temporal features columns\n",
    "x1 = echonest_c.loc[:, filter_temp_col].values\n",
    "x1 = StandardScaler().fit_transform(x1)"
   ]
  },
  {
   "cell_type": "markdown",
   "id": "3fda4cfd",
   "metadata": {},
   "source": [
    "Let's initialize the PCA class by passing the number of components to the constructor."
   ]
  },
  {
   "cell_type": "code",
   "execution_count": 15,
   "id": "6b2c14a3",
   "metadata": {},
   "outputs": [],
   "source": [
    "pca = PCA(n_components = 32)"
   ]
  },
  {
   "cell_type": "markdown",
   "id": "ae514616",
   "metadata": {},
   "source": [
    " Call the fit and then transform methods by passing the feature set to these methods. \n",
    " The transform method returns the specified number of principal components.\n",
    " Then let's create the principal dataframe."
   ]
  },
  {
   "cell_type": "code",
   "execution_count": 16,
   "id": "e24bc8a6",
   "metadata": {},
   "outputs": [],
   "source": [
    "principalComponents = pca.fit_transform(x1)\n",
    "principalDf_1 = pd.DataFrame(data = principalComponents\n",
    "             , columns = [\"principal component Echonest \" + str(i) for i in range(1,33)])"
   ]
  },
  {
   "cell_type": "code",
   "execution_count": 17,
   "id": "89f754d9",
   "metadata": {},
   "outputs": [
    {
     "name": "stdout",
     "output_type": "stream",
     "text": [
      "Components =  32 ;\n",
      "Total explained variance =  0.71046\n"
     ]
    }
   ],
   "source": [
    "#pca.explained_variance_ratio_\n",
    "print ( \"Components = \", pca.n_components_ , \";\\nTotal explained variance = \",\n",
    "      round(pca.explained_variance_ratio_.sum(),5)  )"
   ]
  },
  {
   "cell_type": "code",
   "execution_count": 18,
   "id": "3848cae5",
   "metadata": {},
   "outputs": [
    {
     "data": {
      "image/png": "[encoded data removed]",
      "text/plain": [
       "<Figure size 576x396 with 1 Axes>"
      ]
     },
     "metadata": {},
     "output_type": "display_data"
    }
   ],
   "source": [
    "plt.plot(pca.explained_variance_ratio_)\n",
    "plt.ylabel(\"Explained Variance Ratio\")\n",
    "plt.xlabel(\"Components\")\n",
    "plt.show()"
   ]
  },
  {
   "cell_type": "markdown",
   "id": "80a9571a",
   "metadata": {},
   "source": [
    "We reduced our total column count from 250 to 58. We chose PCA which we know that it works great on continuous data, to do dimensionality reduction on the Temporal Features columns and became sure that the chosen method retains > 70% of the total variance."
   ]
  },
  {
   "cell_type": "code",
   "execution_count": 19,
   "id": "2a549518",
   "metadata": {},
   "outputs": [],
   "source": [
    "other_num_cols = [ele for ele in num_cols if ele not in filter_temp_col]\n",
    "col_list = cat_cols + other_num_cols\n",
    "final_echonest = pd.concat([principalDf_1, echonest_c[col_list]], axis = 1)"
   ]
  },
  {
   "cell_type": "code",
   "execution_count": 20,
   "id": "215977a8",
   "metadata": {},
   "outputs": [
    {
     "data": {
      "text/plain": [
       "(13129, 58)"
      ]
     },
     "execution_count": 20,
     "metadata": {},
     "output_type": "execute_result"
    }
   ],
   "source": [
    "final_echonest.shape"
   ]
  },
  {
   "cell_type": "markdown",
   "id": "4b7d4f73",
   "metadata": {},
   "source": [
    "### Tracks"
   ]
  },
  {
   "cell_type": "markdown",
   "id": "09b5957d",
   "metadata": {},
   "source": [
    "PCA works  on continuous data but our data is a blend of both continuous data and categorical data in this file. Therefore, we searched the other methods. FAMD does the analysis with a combination of PCA and MCA techniques. MCA stands for Multiple Correspondence Analysis which is suitable for multiple categorical factors specifically. If the dataset is grouped by different features with a blend of continuous and categorical values, another technique named MFA (Multiple Factor Analysis) can be deployed.\n",
    "\n",
    "When we try to apply FAMD, MFA, and MCA for the columns in tracks, we couldn't get any acceptable results. That's why we decided to keep only useful columns in our dataset."
   ]
  },
  {
   "cell_type": "markdown",
   "id": "a74a2d49",
   "metadata": {},
   "source": [
    "We decide to keep only useful variables:"
   ]
  },
  {
   "cell_type": "code",
   "execution_count": 21,
   "id": "59a3a374",
   "metadata": {},
   "outputs": [],
   "source": [
    "final_tracks = tracks_c[['track_id', 'album_id', 'artist_id',\"artist_location\", 'track_bit_rate', \n",
    "                    'track_duration', 'track_listens',\"track_language_code\",\"track_favorites\",\"track_genre_top\",\n",
    "                     \"track_genres\",\"track_genres_all\",\"track_tags\",\"track_title\"]]"
   ]
  },
  {
   "cell_type": "code",
   "execution_count": 22,
   "id": "91267a8c",
   "metadata": {},
   "outputs": [
    {
     "name": "stdout",
     "output_type": "stream",
     "text": [
      "<class 'pandas.core.frame.DataFrame'>\n",
      "RangeIndex: 106574 entries, 0 to 106573\n",
      "Data columns (total 14 columns):\n",
      " #   Column               Non-Null Count   Dtype \n",
      "---  ------               --------------   ----- \n",
      " 0   track_id             106574 non-null  int64 \n",
      " 1   album_id             106574 non-null  int64 \n",
      " 2   artist_id            106574 non-null  int64 \n",
      " 3   artist_location      106574 non-null  object\n",
      " 4   track_bit_rate       106574 non-null  int64 \n",
      " 5   track_duration       106574 non-null  int64 \n",
      " 6   track_listens        106574 non-null  int64 \n",
      " 7   track_language_code  106574 non-null  object\n",
      " 8   track_favorites      106574 non-null  int64 \n",
      " 9   track_genre_top      106574 non-null  object\n",
      " 10  track_genres         106574 non-null  object\n",
      " 11  track_genres_all     106574 non-null  object\n",
      " 12  track_tags           106574 non-null  object\n",
      " 13  track_title          106574 non-null  object\n",
      "dtypes: int64(7), object(7)\n",
      "memory usage: 11.4+ MB\n"
     ]
    }
   ],
   "source": [
    "final_tracks.info()"
   ]
  },
  {
   "cell_type": "code",
   "execution_count": 23,
   "id": "66b08a6c",
   "metadata": {},
   "outputs": [
    {
     "data": {
      "text/plain": [
       "(106574, 14)"
      ]
     },
     "execution_count": 23,
     "metadata": {},
     "output_type": "execute_result"
    }
   ],
   "source": [
    "final_tracks.shape"
   ]
  },
  {
   "cell_type": "markdown",
   "id": "4b7b55cf",
   "metadata": {},
   "source": [
    "### Features"
   ]
  },
  {
   "cell_type": "markdown",
   "id": "8fc0fd44",
   "metadata": {},
   "source": [
    "First,  we need to analyse our data. We notice that in this file  there is not any categorical variable. \n",
    "Then we decided to apply PCA our numerical data. \n",
    "\n",
    "We noticed that some column names contain the same word and are closely related. So we filtered the columns containing those words and applied PCA separately. These columns : **Chroma, mfcc, spectral, tonnetz, zcr**"
   ]
  },
  {
   "cell_type": "code",
   "execution_count": 25,
   "id": "2c0254b2",
   "metadata": {},
   "outputs": [],
   "source": [
    "# First we need to chose numeric and categorical columns \n",
    "num_cols = [col for col in features_c.columns if features_c[col].dtypes != \"O\"]\n",
    "cat_cols = [col for col in features_c.columns if features_c[col].dtypes == \"O\"]"
   ]
  },
  {
   "cell_type": "code",
   "execution_count": 26,
   "id": "370f274e",
   "metadata": {},
   "outputs": [
    {
     "data": {
      "text/plain": [
       "['track_id',\n",
       " 'chroma_cens_kurtosis_01',\n",
       " 'chroma_cens_kurtosis_02',\n",
       " 'chroma_cens_kurtosis_03',\n",
       " 'chroma_cens_kurtosis_04',\n",
       " 'chroma_cens_kurtosis_05',\n",
       " 'chroma_cens_kurtosis_06',\n",
       " 'chroma_cens_kurtosis_07',\n",
       " 'chroma_cens_kurtosis_08',\n",
       " 'chroma_cens_kurtosis_09',\n",
       " 'chroma_cens_kurtosis_10',\n",
       " 'chroma_cens_kurtosis_11',\n",
       " 'chroma_cens_kurtosis_12',\n",
       " 'chroma_cens_max_01',\n",
       " 'chroma_cens_max_02',\n",
       " 'chroma_cens_max_03',\n",
       " 'chroma_cens_max_04',\n",
       " 'chroma_cens_max_05',\n",
       " 'chroma_cens_max_06',\n",
       " 'chroma_cens_max_07',\n",
       " 'chroma_cens_max_08',\n",
       " 'chroma_cens_max_09',\n",
       " 'chroma_cens_max_10',\n",
       " 'chroma_cens_max_11',\n",
       " 'chroma_cens_max_12',\n",
       " 'chroma_cens_mean_01',\n",
       " 'chroma_cens_mean_02',\n",
       " 'chroma_cens_mean_03',\n",
       " 'chroma_cens_mean_04',\n",
       " 'chroma_cens_mean_05',\n",
       " 'chroma_cens_mean_06',\n",
       " 'chroma_cens_mean_07',\n",
       " 'chroma_cens_mean_08',\n",
       " 'chroma_cens_mean_09',\n",
       " 'chroma_cens_mean_10',\n",
       " 'chroma_cens_mean_11',\n",
       " 'chroma_cens_mean_12',\n",
       " 'chroma_cens_median_01',\n",
       " 'chroma_cens_median_02',\n",
       " 'chroma_cens_median_03',\n",
       " 'chroma_cens_median_04',\n",
       " 'chroma_cens_median_05',\n",
       " 'chroma_cens_median_06',\n",
       " 'chroma_cens_median_07',\n",
       " 'chroma_cens_median_08',\n",
       " 'chroma_cens_median_09',\n",
       " 'chroma_cens_median_10',\n",
       " 'chroma_cens_median_11',\n",
       " 'chroma_cens_median_12',\n",
       " 'chroma_cens_min_01',\n",
       " 'chroma_cens_min_02',\n",
       " 'chroma_cens_min_03',\n",
       " 'chroma_cens_min_04',\n",
       " 'chroma_cens_min_05',\n",
       " 'chroma_cens_min_06',\n",
       " 'chroma_cens_min_07',\n",
       " 'chroma_cens_min_08',\n",
       " 'chroma_cens_min_09',\n",
       " 'chroma_cens_min_10',\n",
       " 'chroma_cens_min_11',\n",
       " 'chroma_cens_min_12',\n",
       " 'chroma_cens_skew_01',\n",
       " 'chroma_cens_skew_02',\n",
       " 'chroma_cens_skew_03',\n",
       " 'chroma_cens_skew_04',\n",
       " 'chroma_cens_skew_05',\n",
       " 'chroma_cens_skew_06',\n",
       " 'chroma_cens_skew_07',\n",
       " 'chroma_cens_skew_08',\n",
       " 'chroma_cens_skew_09',\n",
       " 'chroma_cens_skew_10',\n",
       " 'chroma_cens_skew_11',\n",
       " 'chroma_cens_skew_12',\n",
       " 'chroma_cens_std_01',\n",
       " 'chroma_cens_std_02',\n",
       " 'chroma_cens_std_03',\n",
       " 'chroma_cens_std_04',\n",
       " 'chroma_cens_std_05',\n",
       " 'chroma_cens_std_06',\n",
       " 'chroma_cens_std_07',\n",
       " 'chroma_cens_std_08',\n",
       " 'chroma_cens_std_09',\n",
       " 'chroma_cens_std_10',\n",
       " 'chroma_cens_std_11',\n",
       " 'chroma_cens_std_12',\n",
       " 'chroma_cqt_kurtosis_01',\n",
       " 'chroma_cqt_kurtosis_02',\n",
       " 'chroma_cqt_kurtosis_03',\n",
       " 'chroma_cqt_kurtosis_04',\n",
       " 'chroma_cqt_kurtosis_05',\n",
       " 'chroma_cqt_kurtosis_06',\n",
       " 'chroma_cqt_kurtosis_07',\n",
       " 'chroma_cqt_kurtosis_08',\n",
       " 'chroma_cqt_kurtosis_09',\n",
       " 'chroma_cqt_kurtosis_10',\n",
       " 'chroma_cqt_kurtosis_11',\n",
       " 'chroma_cqt_kurtosis_12',\n",
       " 'chroma_cqt_max_01',\n",
       " 'chroma_cqt_max_02',\n",
       " 'chroma_cqt_max_03',\n",
       " 'chroma_cqt_max_04',\n",
       " 'chroma_cqt_max_05',\n",
       " 'chroma_cqt_max_06',\n",
       " 'chroma_cqt_max_07',\n",
       " 'chroma_cqt_max_08',\n",
       " 'chroma_cqt_max_09',\n",
       " 'chroma_cqt_max_10',\n",
       " 'chroma_cqt_max_11',\n",
       " 'chroma_cqt_max_12',\n",
       " 'chroma_cqt_mean_01',\n",
       " 'chroma_cqt_mean_02',\n",
       " 'chroma_cqt_mean_03',\n",
       " 'chroma_cqt_mean_04',\n",
       " 'chroma_cqt_mean_05',\n",
       " 'chroma_cqt_mean_06',\n",
       " 'chroma_cqt_mean_07',\n",
       " 'chroma_cqt_mean_08',\n",
       " 'chroma_cqt_mean_09',\n",
       " 'chroma_cqt_mean_10',\n",
       " 'chroma_cqt_mean_11',\n",
       " 'chroma_cqt_mean_12',\n",
       " 'chroma_cqt_median_01',\n",
       " 'chroma_cqt_median_02',\n",
       " 'chroma_cqt_median_03',\n",
       " 'chroma_cqt_median_04',\n",
       " 'chroma_cqt_median_05',\n",
       " 'chroma_cqt_median_06',\n",
       " 'chroma_cqt_median_07',\n",
       " 'chroma_cqt_median_08',\n",
       " 'chroma_cqt_median_09',\n",
       " 'chroma_cqt_median_10',\n",
       " 'chroma_cqt_median_11',\n",
       " 'chroma_cqt_median_12',\n",
       " 'chroma_cqt_min_01',\n",
       " 'chroma_cqt_min_02',\n",
       " 'chroma_cqt_min_03',\n",
       " 'chroma_cqt_min_04',\n",
       " 'chroma_cqt_min_05',\n",
       " 'chroma_cqt_min_06',\n",
       " 'chroma_cqt_min_07',\n",
       " 'chroma_cqt_min_08',\n",
       " 'chroma_cqt_min_09',\n",
       " 'chroma_cqt_min_10',\n",
       " 'chroma_cqt_min_11',\n",
       " 'chroma_cqt_min_12',\n",
       " 'chroma_cqt_skew_01',\n",
       " 'chroma_cqt_skew_02',\n",
       " 'chroma_cqt_skew_03',\n",
       " 'chroma_cqt_skew_04',\n",
       " 'chroma_cqt_skew_05',\n",
       " 'chroma_cqt_skew_06',\n",
       " 'chroma_cqt_skew_07',\n",
       " 'chroma_cqt_skew_08',\n",
       " 'chroma_cqt_skew_09',\n",
       " 'chroma_cqt_skew_10',\n",
       " 'chroma_cqt_skew_11',\n",
       " 'chroma_cqt_skew_12',\n",
       " 'chroma_cqt_std_01',\n",
       " 'chroma_cqt_std_02',\n",
       " 'chroma_cqt_std_03',\n",
       " 'chroma_cqt_std_04',\n",
       " 'chroma_cqt_std_05',\n",
       " 'chroma_cqt_std_06',\n",
       " 'chroma_cqt_std_07',\n",
       " 'chroma_cqt_std_08',\n",
       " 'chroma_cqt_std_09',\n",
       " 'chroma_cqt_std_10',\n",
       " 'chroma_cqt_std_11',\n",
       " 'chroma_cqt_std_12',\n",
       " 'chroma_stft_kurtosis_01',\n",
       " 'chroma_stft_kurtosis_02',\n",
       " 'chroma_stft_kurtosis_03',\n",
       " 'chroma_stft_kurtosis_04',\n",
       " 'chroma_stft_kurtosis_05',\n",
       " 'chroma_stft_kurtosis_06',\n",
       " 'chroma_stft_kurtosis_07',\n",
       " 'chroma_stft_kurtosis_08',\n",
       " 'chroma_stft_kurtosis_09',\n",
       " 'chroma_stft_kurtosis_10',\n",
       " 'chroma_stft_kurtosis_11',\n",
       " 'chroma_stft_kurtosis_12',\n",
       " 'chroma_stft_max_01',\n",
       " 'chroma_stft_max_02',\n",
       " 'chroma_stft_max_03',\n",
       " 'chroma_stft_max_04',\n",
       " 'chroma_stft_max_05',\n",
       " 'chroma_stft_max_06',\n",
       " 'chroma_stft_max_07',\n",
       " 'chroma_stft_max_08',\n",
       " 'chroma_stft_max_09',\n",
       " 'chroma_stft_max_10',\n",
       " 'chroma_stft_max_11',\n",
       " 'chroma_stft_max_12',\n",
       " 'chroma_stft_mean_01',\n",
       " 'chroma_stft_mean_02',\n",
       " 'chroma_stft_mean_03',\n",
       " 'chroma_stft_mean_04',\n",
       " 'chroma_stft_mean_05',\n",
       " 'chroma_stft_mean_06',\n",
       " 'chroma_stft_mean_07',\n",
       " 'chroma_stft_mean_08',\n",
       " 'chroma_stft_mean_09',\n",
       " 'chroma_stft_mean_10',\n",
       " 'chroma_stft_mean_11',\n",
       " 'chroma_stft_mean_12',\n",
       " 'chroma_stft_median_01',\n",
       " 'chroma_stft_median_02',\n",
       " 'chroma_stft_median_03',\n",
       " 'chroma_stft_median_04',\n",
       " 'chroma_stft_median_05',\n",
       " 'chroma_stft_median_06',\n",
       " 'chroma_stft_median_07',\n",
       " 'chroma_stft_median_08',\n",
       " 'chroma_stft_median_09',\n",
       " 'chroma_stft_median_10',\n",
       " 'chroma_stft_median_11',\n",
       " 'chroma_stft_median_12',\n",
       " 'chroma_stft_min_01',\n",
       " 'chroma_stft_min_02',\n",
       " 'chroma_stft_min_03',\n",
       " 'chroma_stft_min_04',\n",
       " 'chroma_stft_min_05',\n",
       " 'chroma_stft_min_06',\n",
       " 'chroma_stft_min_07',\n",
       " 'chroma_stft_min_08',\n",
       " 'chroma_stft_min_09',\n",
       " 'chroma_stft_min_10',\n",
       " 'chroma_stft_min_11',\n",
       " 'chroma_stft_min_12',\n",
       " 'chroma_stft_skew_01',\n",
       " 'chroma_stft_skew_02',\n",
       " 'chroma_stft_skew_03',\n",
       " 'chroma_stft_skew_04',\n",
       " 'chroma_stft_skew_05',\n",
       " 'chroma_stft_skew_06',\n",
       " 'chroma_stft_skew_07',\n",
       " 'chroma_stft_skew_08',\n",
       " 'chroma_stft_skew_09',\n",
       " 'chroma_stft_skew_10',\n",
       " 'chroma_stft_skew_11',\n",
       " 'chroma_stft_skew_12',\n",
       " 'chroma_stft_std_01',\n",
       " 'chroma_stft_std_02',\n",
       " 'chroma_stft_std_03',\n",
       " 'chroma_stft_std_04',\n",
       " 'chroma_stft_std_05',\n",
       " 'chroma_stft_std_06',\n",
       " 'chroma_stft_std_07',\n",
       " 'chroma_stft_std_08',\n",
       " 'chroma_stft_std_09',\n",
       " 'chroma_stft_std_10',\n",
       " 'chroma_stft_std_11',\n",
       " 'chroma_stft_std_12',\n",
       " 'mfcc_kurtosis_01',\n",
       " 'mfcc_kurtosis_02',\n",
       " 'mfcc_kurtosis_03',\n",
       " 'mfcc_kurtosis_04',\n",
       " 'mfcc_kurtosis_05',\n",
       " 'mfcc_kurtosis_06',\n",
       " 'mfcc_kurtosis_07',\n",
       " 'mfcc_kurtosis_08',\n",
       " 'mfcc_kurtosis_09',\n",
       " 'mfcc_kurtosis_10',\n",
       " 'mfcc_kurtosis_11',\n",
       " 'mfcc_kurtosis_12',\n",
       " 'mfcc_kurtosis_13',\n",
       " 'mfcc_kurtosis_14',\n",
       " 'mfcc_kurtosis_15',\n",
       " 'mfcc_kurtosis_16',\n",
       " 'mfcc_kurtosis_17',\n",
       " 'mfcc_kurtosis_18',\n",
       " 'mfcc_kurtosis_19',\n",
       " 'mfcc_kurtosis_20',\n",
       " 'mfcc_max_01',\n",
       " 'mfcc_max_02',\n",
       " 'mfcc_max_03',\n",
       " 'mfcc_max_04',\n",
       " 'mfcc_max_05',\n",
       " 'mfcc_max_06',\n",
       " 'mfcc_max_07',\n",
       " 'mfcc_max_08',\n",
       " 'mfcc_max_09',\n",
       " 'mfcc_max_10',\n",
       " 'mfcc_max_11',\n",
       " 'mfcc_max_12',\n",
       " 'mfcc_max_13',\n",
       " 'mfcc_max_14',\n",
       " 'mfcc_max_15',\n",
       " 'mfcc_max_16',\n",
       " 'mfcc_max_17',\n",
       " 'mfcc_max_18',\n",
       " 'mfcc_max_19',\n",
       " 'mfcc_max_20',\n",
       " 'mfcc_mean_01',\n",
       " 'mfcc_mean_02',\n",
       " 'mfcc_mean_03',\n",
       " 'mfcc_mean_04',\n",
       " 'mfcc_mean_05',\n",
       " 'mfcc_mean_06',\n",
       " 'mfcc_mean_07',\n",
       " 'mfcc_mean_08',\n",
       " 'mfcc_mean_09',\n",
       " 'mfcc_mean_10',\n",
       " 'mfcc_mean_11',\n",
       " 'mfcc_mean_12',\n",
       " 'mfcc_mean_13',\n",
       " 'mfcc_mean_14',\n",
       " 'mfcc_mean_15',\n",
       " 'mfcc_mean_16',\n",
       " 'mfcc_mean_17',\n",
       " 'mfcc_mean_18',\n",
       " 'mfcc_mean_19',\n",
       " 'mfcc_mean_20',\n",
       " 'mfcc_median_01',\n",
       " 'mfcc_median_02',\n",
       " 'mfcc_median_03',\n",
       " 'mfcc_median_04',\n",
       " 'mfcc_median_05',\n",
       " 'mfcc_median_06',\n",
       " 'mfcc_median_07',\n",
       " 'mfcc_median_08',\n",
       " 'mfcc_median_09',\n",
       " 'mfcc_median_10',\n",
       " 'mfcc_median_11',\n",
       " 'mfcc_median_12',\n",
       " 'mfcc_median_13',\n",
       " 'mfcc_median_14',\n",
       " 'mfcc_median_15',\n",
       " 'mfcc_median_16',\n",
       " 'mfcc_median_17',\n",
       " 'mfcc_median_18',\n",
       " 'mfcc_median_19',\n",
       " 'mfcc_median_20',\n",
       " 'mfcc_min_01',\n",
       " 'mfcc_min_02',\n",
       " 'mfcc_min_03',\n",
       " 'mfcc_min_04',\n",
       " 'mfcc_min_05',\n",
       " 'mfcc_min_06',\n",
       " 'mfcc_min_07',\n",
       " 'mfcc_min_08',\n",
       " 'mfcc_min_09',\n",
       " 'mfcc_min_10',\n",
       " 'mfcc_min_11',\n",
       " 'mfcc_min_12',\n",
       " 'mfcc_min_13',\n",
       " 'mfcc_min_14',\n",
       " 'mfcc_min_15',\n",
       " 'mfcc_min_16',\n",
       " 'mfcc_min_17',\n",
       " 'mfcc_min_18',\n",
       " 'mfcc_min_19',\n",
       " 'mfcc_min_20',\n",
       " 'mfcc_skew_01',\n",
       " 'mfcc_skew_02',\n",
       " 'mfcc_skew_03',\n",
       " 'mfcc_skew_04',\n",
       " 'mfcc_skew_05',\n",
       " 'mfcc_skew_06',\n",
       " 'mfcc_skew_07',\n",
       " 'mfcc_skew_08',\n",
       " 'mfcc_skew_09',\n",
       " 'mfcc_skew_10',\n",
       " 'mfcc_skew_11',\n",
       " 'mfcc_skew_12',\n",
       " 'mfcc_skew_13',\n",
       " 'mfcc_skew_14',\n",
       " 'mfcc_skew_15',\n",
       " 'mfcc_skew_16',\n",
       " 'mfcc_skew_17',\n",
       " 'mfcc_skew_18',\n",
       " 'mfcc_skew_19',\n",
       " 'mfcc_skew_20',\n",
       " 'mfcc_std_01',\n",
       " 'mfcc_std_02',\n",
       " 'mfcc_std_03',\n",
       " 'mfcc_std_04',\n",
       " 'mfcc_std_05',\n",
       " 'mfcc_std_06',\n",
       " 'mfcc_std_07',\n",
       " 'mfcc_std_08',\n",
       " 'mfcc_std_09',\n",
       " 'mfcc_std_10',\n",
       " 'mfcc_std_11',\n",
       " 'mfcc_std_12',\n",
       " 'mfcc_std_13',\n",
       " 'mfcc_std_14',\n",
       " 'mfcc_std_15',\n",
       " 'mfcc_std_16',\n",
       " 'mfcc_std_17',\n",
       " 'mfcc_std_18',\n",
       " 'mfcc_std_19',\n",
       " 'mfcc_std_20',\n",
       " 'rmse_kurtosis_01',\n",
       " 'rmse_max_01',\n",
       " 'rmse_mean_01',\n",
       " 'rmse_median_01',\n",
       " 'rmse_min_01',\n",
       " 'rmse_skew_01',\n",
       " 'rmse_std_01',\n",
       " 'spectral_bandwidth_kurtosis_01',\n",
       " 'spectral_bandwidth_max_01',\n",
       " 'spectral_bandwidth_mean_01',\n",
       " 'spectral_bandwidth_median_01',\n",
       " 'spectral_bandwidth_min_01',\n",
       " 'spectral_bandwidth_skew_01',\n",
       " 'spectral_bandwidth_std_01',\n",
       " 'spectral_centroid_kurtosis_01',\n",
       " 'spectral_centroid_max_01',\n",
       " 'spectral_centroid_mean_01',\n",
       " 'spectral_centroid_median_01',\n",
       " 'spectral_centroid_min_01',\n",
       " 'spectral_centroid_skew_01',\n",
       " 'spectral_centroid_std_01',\n",
       " 'spectral_contrast_kurtosis_01',\n",
       " 'spectral_contrast_kurtosis_02',\n",
       " 'spectral_contrast_kurtosis_03',\n",
       " 'spectral_contrast_kurtosis_04',\n",
       " 'spectral_contrast_kurtosis_05',\n",
       " 'spectral_contrast_kurtosis_06',\n",
       " 'spectral_contrast_kurtosis_07',\n",
       " 'spectral_contrast_max_01',\n",
       " 'spectral_contrast_max_02',\n",
       " 'spectral_contrast_max_03',\n",
       " 'spectral_contrast_max_04',\n",
       " 'spectral_contrast_max_05',\n",
       " 'spectral_contrast_max_06',\n",
       " 'spectral_contrast_max_07',\n",
       " 'spectral_contrast_mean_01',\n",
       " 'spectral_contrast_mean_02',\n",
       " 'spectral_contrast_mean_03',\n",
       " 'spectral_contrast_mean_04',\n",
       " 'spectral_contrast_mean_05',\n",
       " 'spectral_contrast_mean_06',\n",
       " 'spectral_contrast_mean_07',\n",
       " 'spectral_contrast_median_01',\n",
       " 'spectral_contrast_median_02',\n",
       " 'spectral_contrast_median_03',\n",
       " 'spectral_contrast_median_04',\n",
       " 'spectral_contrast_median_05',\n",
       " 'spectral_contrast_median_06',\n",
       " 'spectral_contrast_median_07',\n",
       " 'spectral_contrast_min_01',\n",
       " 'spectral_contrast_min_02',\n",
       " 'spectral_contrast_min_03',\n",
       " 'spectral_contrast_min_04',\n",
       " 'spectral_contrast_min_05',\n",
       " 'spectral_contrast_min_06',\n",
       " 'spectral_contrast_min_07',\n",
       " 'spectral_contrast_skew_01',\n",
       " 'spectral_contrast_skew_02',\n",
       " 'spectral_contrast_skew_03',\n",
       " 'spectral_contrast_skew_04',\n",
       " 'spectral_contrast_skew_05',\n",
       " 'spectral_contrast_skew_06',\n",
       " 'spectral_contrast_skew_07',\n",
       " 'spectral_contrast_std_01',\n",
       " 'spectral_contrast_std_02',\n",
       " 'spectral_contrast_std_03',\n",
       " 'spectral_contrast_std_04',\n",
       " 'spectral_contrast_std_05',\n",
       " 'spectral_contrast_std_06',\n",
       " 'spectral_contrast_std_07',\n",
       " 'spectral_rolloff_kurtosis_01',\n",
       " 'spectral_rolloff_max_01',\n",
       " 'spectral_rolloff_mean_01',\n",
       " 'spectral_rolloff_median_01',\n",
       " 'spectral_rolloff_min_01',\n",
       " 'spectral_rolloff_skew_01',\n",
       " 'spectral_rolloff_std_01',\n",
       " 'tonnetz_kurtosis_01',\n",
       " 'tonnetz_kurtosis_02',\n",
       " 'tonnetz_kurtosis_03',\n",
       " 'tonnetz_kurtosis_04',\n",
       " 'tonnetz_kurtosis_05',\n",
       " 'tonnetz_kurtosis_06',\n",
       " 'tonnetz_max_01',\n",
       " 'tonnetz_max_02',\n",
       " 'tonnetz_max_03',\n",
       " 'tonnetz_max_04',\n",
       " 'tonnetz_max_05',\n",
       " 'tonnetz_max_06',\n",
       " 'tonnetz_mean_01',\n",
       " 'tonnetz_mean_02',\n",
       " 'tonnetz_mean_03',\n",
       " 'tonnetz_mean_04',\n",
       " 'tonnetz_mean_05',\n",
       " 'tonnetz_mean_06',\n",
       " 'tonnetz_median_01',\n",
       " 'tonnetz_median_02',\n",
       " 'tonnetz_median_03',\n",
       " 'tonnetz_median_04',\n",
       " 'tonnetz_median_05',\n",
       " 'tonnetz_median_06',\n",
       " 'tonnetz_min_01',\n",
       " 'tonnetz_min_02',\n",
       " 'tonnetz_min_03',\n",
       " 'tonnetz_min_04',\n",
       " 'tonnetz_min_05',\n",
       " 'tonnetz_min_06',\n",
       " 'tonnetz_skew_01',\n",
       " 'tonnetz_skew_02',\n",
       " 'tonnetz_skew_03',\n",
       " 'tonnetz_skew_04',\n",
       " 'tonnetz_skew_05',\n",
       " 'tonnetz_skew_06',\n",
       " 'tonnetz_std_01',\n",
       " 'tonnetz_std_02',\n",
       " 'tonnetz_std_03',\n",
       " 'tonnetz_std_04',\n",
       " 'tonnetz_std_05',\n",
       " 'tonnetz_std_06',\n",
       " 'zcr_kurtosis_01',\n",
       " 'zcr_max_01',\n",
       " 'zcr_mean_01',\n",
       " 'zcr_median_01',\n",
       " 'zcr_min_01',\n",
       " 'zcr_skew_01',\n",
       " 'zcr_std_01']"
      ]
     },
     "execution_count": 26,
     "metadata": {},
     "output_type": "execute_result"
    }
   ],
   "source": [
    "[col for col in features_c]"
   ]
  },
  {
   "cell_type": "code",
   "execution_count": 27,
   "id": "4e332169",
   "metadata": {},
   "outputs": [
    {
     "data": {
      "text/html": [
       "<div>\n",
       "<style scoped>\n",
       "    .dataframe tbody tr th:only-of-type {\n",
       "        vertical-align: middle;\n",
       "    }\n",
       "\n",
       "    .dataframe tbody tr th {\n",
       "        vertical-align: top;\n",
       "    }\n",
       "\n",
       "    .dataframe thead th {\n",
       "        text-align: right;\n",
       "    }\n",
       "</style>\n",
       "<table border=\"1\" class=\"dataframe\">\n",
       "  <thead>\n",
       "    <tr style=\"text-align: right;\">\n",
       "      <th></th>\n",
       "      <th>track_id</th>\n",
       "      <th>chroma_cens_kurtosis_01</th>\n",
       "      <th>chroma_cens_kurtosis_02</th>\n",
       "      <th>chroma_cens_kurtosis_03</th>\n",
       "      <th>chroma_cens_kurtosis_04</th>\n",
       "      <th>chroma_cens_kurtosis_05</th>\n",
       "      <th>chroma_cens_kurtosis_06</th>\n",
       "      <th>chroma_cens_kurtosis_07</th>\n",
       "      <th>chroma_cens_kurtosis_08</th>\n",
       "      <th>chroma_cens_kurtosis_09</th>\n",
       "      <th>...</th>\n",
       "      <th>tonnetz_std_04</th>\n",
       "      <th>tonnetz_std_05</th>\n",
       "      <th>tonnetz_std_06</th>\n",
       "      <th>zcr_kurtosis_01</th>\n",
       "      <th>zcr_max_01</th>\n",
       "      <th>zcr_mean_01</th>\n",
       "      <th>zcr_median_01</th>\n",
       "      <th>zcr_min_01</th>\n",
       "      <th>zcr_skew_01</th>\n",
       "      <th>zcr_std_01</th>\n",
       "    </tr>\n",
       "  </thead>\n",
       "  <tbody>\n",
       "    <tr>\n",
       "      <th>0</th>\n",
       "      <td>2</td>\n",
       "      <td>7.180653</td>\n",
       "      <td>5.230309</td>\n",
       "      <td>0.249321</td>\n",
       "      <td>1.347620</td>\n",
       "      <td>1.482478</td>\n",
       "      <td>0.531371</td>\n",
       "      <td>1.481593</td>\n",
       "      <td>2.691455</td>\n",
       "      <td>0.866868</td>\n",
       "      <td>...</td>\n",
       "      <td>0.054125</td>\n",
       "      <td>0.012226</td>\n",
       "      <td>0.012111</td>\n",
       "      <td>5.758890</td>\n",
       "      <td>0.459473</td>\n",
       "      <td>0.085629</td>\n",
       "      <td>0.071289</td>\n",
       "      <td>0.000000</td>\n",
       "      <td>2.089872</td>\n",
       "      <td>0.061448</td>\n",
       "    </tr>\n",
       "    <tr>\n",
       "      <th>1</th>\n",
       "      <td>3</td>\n",
       "      <td>1.888963</td>\n",
       "      <td>0.760539</td>\n",
       "      <td>0.345297</td>\n",
       "      <td>2.295201</td>\n",
       "      <td>1.654031</td>\n",
       "      <td>0.067592</td>\n",
       "      <td>1.366848</td>\n",
       "      <td>1.054094</td>\n",
       "      <td>0.108103</td>\n",
       "      <td>...</td>\n",
       "      <td>0.063831</td>\n",
       "      <td>0.014212</td>\n",
       "      <td>0.017740</td>\n",
       "      <td>2.824694</td>\n",
       "      <td>0.466309</td>\n",
       "      <td>0.084578</td>\n",
       "      <td>0.063965</td>\n",
       "      <td>0.000000</td>\n",
       "      <td>1.716724</td>\n",
       "      <td>0.069330</td>\n",
       "    </tr>\n",
       "    <tr>\n",
       "      <th>2</th>\n",
       "      <td>5</td>\n",
       "      <td>0.527563</td>\n",
       "      <td>-0.077654</td>\n",
       "      <td>-0.279610</td>\n",
       "      <td>0.685883</td>\n",
       "      <td>1.937570</td>\n",
       "      <td>0.880839</td>\n",
       "      <td>-0.923192</td>\n",
       "      <td>-0.927232</td>\n",
       "      <td>0.666617</td>\n",
       "      <td>...</td>\n",
       "      <td>0.040730</td>\n",
       "      <td>0.012691</td>\n",
       "      <td>0.014759</td>\n",
       "      <td>6.808415</td>\n",
       "      <td>0.375000</td>\n",
       "      <td>0.053114</td>\n",
       "      <td>0.041504</td>\n",
       "      <td>0.000000</td>\n",
       "      <td>2.193303</td>\n",
       "      <td>0.044861</td>\n",
       "    </tr>\n",
       "    <tr>\n",
       "      <th>3</th>\n",
       "      <td>10</td>\n",
       "      <td>3.702245</td>\n",
       "      <td>-0.291193</td>\n",
       "      <td>2.196742</td>\n",
       "      <td>-0.234449</td>\n",
       "      <td>1.367364</td>\n",
       "      <td>0.998411</td>\n",
       "      <td>1.770694</td>\n",
       "      <td>1.604566</td>\n",
       "      <td>0.521217</td>\n",
       "      <td>...</td>\n",
       "      <td>0.074358</td>\n",
       "      <td>0.017952</td>\n",
       "      <td>0.013921</td>\n",
       "      <td>21.434212</td>\n",
       "      <td>0.452148</td>\n",
       "      <td>0.077515</td>\n",
       "      <td>0.071777</td>\n",
       "      <td>0.000000</td>\n",
       "      <td>3.542325</td>\n",
       "      <td>0.040800</td>\n",
       "    </tr>\n",
       "    <tr>\n",
       "      <th>4</th>\n",
       "      <td>20</td>\n",
       "      <td>-0.193837</td>\n",
       "      <td>-0.198527</td>\n",
       "      <td>0.201546</td>\n",
       "      <td>0.258556</td>\n",
       "      <td>0.775204</td>\n",
       "      <td>0.084794</td>\n",
       "      <td>-0.289294</td>\n",
       "      <td>-0.816410</td>\n",
       "      <td>0.043851</td>\n",
       "      <td>...</td>\n",
       "      <td>0.095003</td>\n",
       "      <td>0.022492</td>\n",
       "      <td>0.021355</td>\n",
       "      <td>16.669037</td>\n",
       "      <td>0.469727</td>\n",
       "      <td>0.047225</td>\n",
       "      <td>0.040039</td>\n",
       "      <td>0.000977</td>\n",
       "      <td>3.189831</td>\n",
       "      <td>0.030993</td>\n",
       "    </tr>\n",
       "  </tbody>\n",
       "</table>\n",
       "<p>5 rows × 519 columns</p>\n",
       "</div>"
      ],
      "text/plain": [
       "   track_id  chroma_cens_kurtosis_01  chroma_cens_kurtosis_02  \\\n",
       "0         2                 7.180653                 5.230309   \n",
       "1         3                 1.888963                 0.760539   \n",
       "2         5                 0.527563                -0.077654   \n",
       "3        10                 3.702245                -0.291193   \n",
       "4        20                -0.193837                -0.198527   \n",
       "\n",
       "   chroma_cens_kurtosis_03  chroma_cens_kurtosis_04  chroma_cens_kurtosis_05  \\\n",
       "0                 0.249321                 1.347620                 1.482478   \n",
       "1                 0.345297                 2.295201                 1.654031   \n",
       "2                -0.279610                 0.685883                 1.937570   \n",
       "3                 2.196742                -0.234449                 1.367364   \n",
       "4                 0.201546                 0.258556                 0.775204   \n",
       "\n",
       "   chroma_cens_kurtosis_06  chroma_cens_kurtosis_07  chroma_cens_kurtosis_08  \\\n",
       "0                 0.531371                 1.481593                 2.691455   \n",
       "1                 0.067592                 1.366848                 1.054094   \n",
       "2                 0.880839                -0.923192                -0.927232   \n",
       "3                 0.998411                 1.770694                 1.604566   \n",
       "4                 0.084794                -0.289294                -0.816410   \n",
       "\n",
       "   chroma_cens_kurtosis_09  ...  tonnetz_std_04  tonnetz_std_05  \\\n",
       "0                 0.866868  ...        0.054125        0.012226   \n",
       "1                 0.108103  ...        0.063831        0.014212   \n",
       "2                 0.666617  ...        0.040730        0.012691   \n",
       "3                 0.521217  ...        0.074358        0.017952   \n",
       "4                 0.043851  ...        0.095003        0.022492   \n",
       "\n",
       "   tonnetz_std_06  zcr_kurtosis_01  zcr_max_01  zcr_mean_01  zcr_median_01  \\\n",
       "0        0.012111         5.758890    0.459473     0.085629       0.071289   \n",
       "1        0.017740         2.824694    0.466309     0.084578       0.063965   \n",
       "2        0.014759         6.808415    0.375000     0.053114       0.041504   \n",
       "3        0.013921        21.434212    0.452148     0.077515       0.071777   \n",
       "4        0.021355        16.669037    0.469727     0.047225       0.040039   \n",
       "\n",
       "   zcr_min_01  zcr_skew_01  zcr_std_01  \n",
       "0    0.000000     2.089872    0.061448  \n",
       "1    0.000000     1.716724    0.069330  \n",
       "2    0.000000     2.193303    0.044861  \n",
       "3    0.000000     3.542325    0.040800  \n",
       "4    0.000977     3.189831    0.030993  \n",
       "\n",
       "[5 rows x 519 columns]"
      ]
     },
     "execution_count": 27,
     "metadata": {},
     "output_type": "execute_result"
    }
   ],
   "source": [
    "features_c.head()"
   ]
  },
  {
   "cell_type": "markdown",
   "id": "aa5866d4",
   "metadata": {},
   "source": [
    "Let's filter the columns of some variables."
   ]
  },
  {
   "cell_type": "code",
   "execution_count": 28,
   "id": "0e15ba0f",
   "metadata": {},
   "outputs": [
    {
     "data": {
      "text/plain": [
       "252"
      ]
     },
     "execution_count": 28,
     "metadata": {},
     "output_type": "execute_result"
    }
   ],
   "source": [
    "# Filtering the columns which is related to chroma\n",
    "filter_chroma_col = [col for col in num_cols if col.startswith('chroma')]\n",
    "len(filter_chroma_col)"
   ]
  },
  {
   "cell_type": "code",
   "execution_count": 29,
   "id": "49fe86f9",
   "metadata": {},
   "outputs": [],
   "source": [
    "# We used PCA for our numerical chroma columns\n",
    "x2 = features_c.loc[:, filter_chroma_col].values\n",
    "x2 = StandardScaler().fit_transform(x2)"
   ]
  },
  {
   "cell_type": "markdown",
   "id": "e990cf62",
   "metadata": {},
   "source": [
    "Let's initialize the PCA class by passing the number of components to the constructor."
   ]
  },
  {
   "cell_type": "code",
   "execution_count": 30,
   "id": "57824e9b",
   "metadata": {},
   "outputs": [],
   "source": [
    "pca2 = PCA(n_components=32\n",
    "          )"
   ]
  },
  {
   "cell_type": "markdown",
   "id": "1d260224",
   "metadata": {},
   "source": [
    " Call the fit and then transform methods by passing the feature set to these methods. \n",
    " The transform method returns the specified number of principal components.\n",
    " Then let's create the principal dataframe."
   ]
  },
  {
   "cell_type": "code",
   "execution_count": 37,
   "id": "f1a597ee",
   "metadata": {},
   "outputs": [],
   "source": [
    "principalComponents = pca2.fit_transform(x2)\n",
    "principalDf_2 = pd.DataFrame(data = principalComponents\n",
    "             , columns = [\"principal component F_chroma\" + str(i) for i in range(1,33)])"
   ]
  },
  {
   "cell_type": "code",
   "execution_count": 38,
   "id": "75741cca",
   "metadata": {},
   "outputs": [
    {
     "name": "stdout",
     "output_type": "stream",
     "text": [
      "Components =  32 ;\n",
      "Total explained variance =  0.77309\n"
     ]
    }
   ],
   "source": [
    "print ( \"Components = \", pca2.n_components_ , \";\\nTotal explained variance = \",\n",
    "      round(pca2.explained_variance_ratio_.sum(),5)  )"
   ]
  },
  {
   "cell_type": "code",
   "execution_count": 39,
   "id": "a0d734e5",
   "metadata": {},
   "outputs": [
    {
     "data": {
      "image/png": "[encoded data removed]",
      "text/plain": [
       "<Figure size 576x396 with 1 Axes>"
      ]
     },
     "metadata": {},
     "output_type": "display_data"
    }
   ],
   "source": [
    "plt.plot(pca2.explained_variance_ratio_)\n",
    "plt.ylabel(\"Explained Variance Ratio\")\n",
    "plt.xlabel(\"Components\")\n",
    "plt.show()"
   ]
  },
  {
   "cell_type": "markdown",
   "id": "d9b2d90f",
   "metadata": {},
   "source": [
    "We decided to reduce the number of columns which is related to chroma from 252 to 32. \\\n",
    "The reason why we did not choose it lower than this number (32) is to ensure that the total variance is greater than 70%."
   ]
  },
  {
   "cell_type": "markdown",
   "id": "d6e7a974",
   "metadata": {},
   "source": [
    "Filtering and PCA to the columns which is related to **mfcc** :"
   ]
  },
  {
   "cell_type": "code",
   "execution_count": 40,
   "id": "89562123",
   "metadata": {},
   "outputs": [
    {
     "data": {
      "text/plain": [
       "140"
      ]
     },
     "execution_count": 40,
     "metadata": {},
     "output_type": "execute_result"
    }
   ],
   "source": [
    "# Filtering the columns which is related to mfcc\n",
    "filter_mfcc_col = [col for col in num_cols if col.startswith('mfcc')]\n",
    "len(filter_mfcc_col)"
   ]
  },
  {
   "cell_type": "code",
   "execution_count": 44,
   "id": "edd9c20d",
   "metadata": {},
   "outputs": [],
   "source": [
    "# We used PCA for our mfcc columns\n",
    "x3 = features_c.loc[:, filter_mfcc_col].values\n",
    "x3 = StandardScaler().fit_transform(x3)"
   ]
  },
  {
   "cell_type": "markdown",
   "id": "ecdc5822",
   "metadata": {},
   "source": [
    "Let's initialize the PCA class by passing the number of components to the constructor."
   ]
  },
  {
   "cell_type": "code",
   "execution_count": 47,
   "id": "b069f1b9",
   "metadata": {},
   "outputs": [],
   "source": [
    "pca3 = PCA(n_components=20\n",
    "          )"
   ]
  },
  {
   "cell_type": "markdown",
   "id": "fcbb8591",
   "metadata": {},
   "source": [
    "Call the fit and then transform methods by passing the feature set to these methods. The transform method returns the specified number of principal components. Then let's create the principal dataframe."
   ]
  },
  {
   "cell_type": "code",
   "execution_count": 48,
   "id": "4a027c5e",
   "metadata": {},
   "outputs": [],
   "source": [
    "principalComponents = pca3.fit_transform(x3)\n",
    "principalDf_3 = pd.DataFrame(data = principalComponents\n",
    "             , columns = [\"principal component F_mfcc \" + str(i) for i in range(1,21)])"
   ]
  },
  {
   "cell_type": "code",
   "execution_count": 49,
   "id": "92f19a05",
   "metadata": {},
   "outputs": [
    {
     "name": "stdout",
     "output_type": "stream",
     "text": [
      "Components =  20 ;\n",
      "Total explained variance =  0.73746\n"
     ]
    }
   ],
   "source": [
    "print ( \"Components = \", pca3.n_components_ , \";\\nTotal explained variance = \",\n",
    "      round(pca3.explained_variance_ratio_.sum(),5)  )"
   ]
  },
  {
   "cell_type": "code",
   "execution_count": 50,
   "id": "5502a32a",
   "metadata": {},
   "outputs": [
    {
     "data": {
      "image/png": "[encoded data removed]",
      "text/plain": [
       "<Figure size 576x396 with 1 Axes>"
      ]
     },
     "metadata": {},
     "output_type": "display_data"
    }
   ],
   "source": [
    "plt.plot(pca3.explained_variance_ratio_)\n",
    "plt.ylabel(\"Explained Variance Ratio\")\n",
    "plt.xlabel(\"Components\")\n",
    "plt.show()"
   ]
  },
  {
   "cell_type": "markdown",
   "id": "0b3cf2a9",
   "metadata": {},
   "source": [
    "We decided to reduce the number of columns which is related to mfcc from 140 to 21. \\\n",
    "The reason why we did not choose it lower than this number (21) is to ensure that the total variance is greater than 70%."
   ]
  },
  {
   "cell_type": "markdown",
   "id": "57d54639",
   "metadata": {},
   "source": [
    "Filtering and PCA to the columns which is related to **tonnetz** :"
   ]
  },
  {
   "cell_type": "code",
   "execution_count": 51,
   "id": "0ec5c8dd",
   "metadata": {},
   "outputs": [
    {
     "data": {
      "text/plain": [
       "42"
      ]
     },
     "execution_count": 51,
     "metadata": {},
     "output_type": "execute_result"
    }
   ],
   "source": [
    "# Extracting the columns which is related to tonnetz\n",
    "filter_tonnetz_col = [col for col in num_cols if col.startswith('tonnetz')]\n",
    "len(filter_tonnetz_col)"
   ]
  },
  {
   "cell_type": "code",
   "execution_count": 52,
   "id": "73f09fcb",
   "metadata": {},
   "outputs": [],
   "source": [
    "# We used PCA for our tonnetz columns\n",
    "x4 = features_c.loc[:, filter_tonnetz_col].values\n",
    "x4 = StandardScaler().fit_transform(x4)"
   ]
  },
  {
   "cell_type": "code",
   "execution_count": 53,
   "id": "11e82f91",
   "metadata": {},
   "outputs": [],
   "source": [
    "# Initialize the PCA class by passing the number of components to the constructor.\n",
    "pca4 = PCA(n_components=14)\n",
    "# Call the fit and then transform methods by passing the feature set to these methods. \n",
    "# The transform method returns the specified number of principal components.\n",
    "principalComponents = pca4.fit_transform(x4)\n",
    "# Creating Principal data frame\n",
    "principalDf_4 = pd.DataFrame(data = principalComponents\n",
    "             , columns = [\"principal component F_tonnetz \" + str(i) for i in range(1,15)])"
   ]
  },
  {
   "cell_type": "code",
   "execution_count": 54,
   "id": "f67b47de",
   "metadata": {},
   "outputs": [
    {
     "name": "stdout",
     "output_type": "stream",
     "text": [
      "Components =  14 ;\n",
      "Total explained variance =  0.80361\n"
     ]
    }
   ],
   "source": [
    "print ( \"Components = \", pca4.n_components_ , \";\\nTotal explained variance = \",\n",
    "      round(pca4.explained_variance_ratio_.sum(),5)  )"
   ]
  },
  {
   "cell_type": "code",
   "execution_count": 57,
   "id": "bfe6f7d6",
   "metadata": {},
   "outputs": [
    {
     "data": {
      "image/png": "[encoded data removed]",
      "text/plain": [
       "<Figure size 576x396 with 1 Axes>"
      ]
     },
     "metadata": {},
     "output_type": "display_data"
    }
   ],
   "source": [
    "plt.plot(pca4.explained_variance_ratio_)\n",
    "plt.ylabel(\"Explained Variance Ratio\")\n",
    "plt.xlabel(\"Components\")\n",
    "plt.show()"
   ]
  },
  {
   "cell_type": "markdown",
   "id": "2f36b10d",
   "metadata": {},
   "source": [
    "We decided to reduce the number of columns which is related to tonnetz from 42 to 14.\n",
    "The reason why we did not choose it lower than this number (14) is to ensure that the total variance is greater than 70%."
   ]
  },
  {
   "cell_type": "markdown",
   "id": "77235601",
   "metadata": {},
   "source": [
    "Filtering and PCA to the columns which is related to **spectral** :"
   ]
  },
  {
   "cell_type": "code",
   "execution_count": 56,
   "id": "762f24a0",
   "metadata": {},
   "outputs": [
    {
     "data": {
      "text/plain": [
       "70"
      ]
     },
     "execution_count": 56,
     "metadata": {},
     "output_type": "execute_result"
    }
   ],
   "source": [
    "# Extracting the columns which is related to tonnetz\n",
    "filter_spectral_col = [col for col in num_cols if col.startswith('spectral')]\n",
    "len(filter_spectral_col)"
   ]
  },
  {
   "cell_type": "code",
   "execution_count": 58,
   "id": "1d16efe8",
   "metadata": {},
   "outputs": [],
   "source": [
    "# We used PCA for our spectral columns\n",
    "x5 = features_c.loc[:, filter_spectral_col].values\n",
    "x5 = StandardScaler().fit_transform(x5)"
   ]
  },
  {
   "cell_type": "code",
   "execution_count": 59,
   "id": "40f80409",
   "metadata": {},
   "outputs": [],
   "source": [
    "# Initialize the PCA class by passing the number of components to the constructor.\n",
    "pca5 = PCA(n_components=10)\n",
    "# Call the fit and then transform methods by passing the feature set to these methods. \n",
    "# The transform method returns the specified number of principal components.\n",
    "principalComponents = pca5.fit_transform(x5)\n",
    "# Creating Principal data frame\n",
    "principalDf_5 = pd.DataFrame(data = principalComponents\n",
    "             , columns = [\"principal component F_spectral\" + str(i) for i in range(1,11)])"
   ]
  },
  {
   "cell_type": "code",
   "execution_count": 60,
   "id": "ad3ca6e1",
   "metadata": {},
   "outputs": [
    {
     "name": "stdout",
     "output_type": "stream",
     "text": [
      "Components =  10 ;\n",
      "Total explained variance =  0.70482\n"
     ]
    }
   ],
   "source": [
    "#pca.explained_variance_ratio_\n",
    "print ( \"Components = \", pca5.n_components_ , \";\\nTotal explained variance = \",\n",
    "      round(pca5.explained_variance_ratio_.sum(),5))"
   ]
  },
  {
   "cell_type": "code",
   "execution_count": 61,
   "id": "5d03ba96",
   "metadata": {},
   "outputs": [
    {
     "data": {
      "image/png": "[encoded data removed]",
      "text/plain": [
       "<Figure size 576x396 with 1 Axes>"
      ]
     },
     "metadata": {},
     "output_type": "display_data"
    }
   ],
   "source": [
    "plt.plot(pca5.explained_variance_ratio_)\n",
    "plt.ylabel(\"Explained Variance Ratio\")\n",
    "plt.xlabel(\"Components\")\n",
    "plt.show()"
   ]
  },
  {
   "cell_type": "markdown",
   "id": "f57e606c",
   "metadata": {},
   "source": [
    "We decided to reduce the number of columns which is related to spectral from 70 to 10. \\\n",
    "The reason why we did not choose it lower than this number (10) is to ensure that the total variance is greater than 70%."
   ]
  },
  {
   "cell_type": "markdown",
   "id": "af0930d3",
   "metadata": {},
   "source": [
    "Filtering and PCA to the columns which is related to **zcr** :"
   ]
  },
  {
   "cell_type": "code",
   "execution_count": 62,
   "id": "97ec119d",
   "metadata": {},
   "outputs": [
    {
     "data": {
      "text/plain": [
       "7"
      ]
     },
     "execution_count": 62,
     "metadata": {},
     "output_type": "execute_result"
    }
   ],
   "source": [
    "# Extracting the columns which is related to zcr\n",
    "filter_zcr_col = [col for col in num_cols if col.startswith('zcr')]\n",
    "len(filter_zcr_col)"
   ]
  },
  {
   "cell_type": "markdown",
   "id": "6f2575da",
   "metadata": {},
   "source": [
    "Since we only have 7 columns related to zcr, we decided to keep them without applying PCA."
   ]
  },
  {
   "cell_type": "code",
   "execution_count": 63,
   "id": "3fcf676d",
   "metadata": {},
   "outputs": [],
   "source": [
    "final_features = pd.concat([principalDf_2,principalDf_3,principalDf_4,principalDf_5, features_c[filter_zcr_col],features_c[\"track_id\"]], axis = 1)"
   ]
  },
  {
   "cell_type": "code",
   "execution_count": 64,
   "id": "f06593a6",
   "metadata": {},
   "outputs": [
    {
     "data": {
      "text/plain": [
       "(106574, 84)"
      ]
     },
     "execution_count": 64,
     "metadata": {},
     "output_type": "execute_result"
    }
   ],
   "source": [
    "final_features.shape"
   ]
  },
  {
   "cell_type": "code",
   "execution_count": 65,
   "id": "c1649206",
   "metadata": {},
   "outputs": [
    {
     "data": {
      "text/html": [
       "<div>\n",
       "<style scoped>\n",
       "    .dataframe tbody tr th:only-of-type {\n",
       "        vertical-align: middle;\n",
       "    }\n",
       "\n",
       "    .dataframe tbody tr th {\n",
       "        vertical-align: top;\n",
       "    }\n",
       "\n",
       "    .dataframe thead th {\n",
       "        text-align: right;\n",
       "    }\n",
       "</style>\n",
       "<table border=\"1\" class=\"dataframe\">\n",
       "  <thead>\n",
       "    <tr style=\"text-align: right;\">\n",
       "      <th></th>\n",
       "      <th>principal component F_chroma1</th>\n",
       "      <th>principal component F_chroma2</th>\n",
       "      <th>principal component F_chroma3</th>\n",
       "      <th>principal component F_chroma4</th>\n",
       "      <th>principal component F_chroma5</th>\n",
       "      <th>principal component F_chroma6</th>\n",
       "      <th>principal component F_chroma7</th>\n",
       "      <th>principal component F_chroma8</th>\n",
       "      <th>principal component F_chroma9</th>\n",
       "      <th>principal component F_chroma10</th>\n",
       "      <th>...</th>\n",
       "      <th>principal component F_spectral9</th>\n",
       "      <th>principal component F_spectral10</th>\n",
       "      <th>zcr_kurtosis_01</th>\n",
       "      <th>zcr_max_01</th>\n",
       "      <th>zcr_mean_01</th>\n",
       "      <th>zcr_median_01</th>\n",
       "      <th>zcr_min_01</th>\n",
       "      <th>zcr_skew_01</th>\n",
       "      <th>zcr_std_01</th>\n",
       "      <th>track_id</th>\n",
       "    </tr>\n",
       "  </thead>\n",
       "  <tbody>\n",
       "    <tr>\n",
       "      <th>0</th>\n",
       "      <td>0.775576</td>\n",
       "      <td>0.363605</td>\n",
       "      <td>1.361554</td>\n",
       "      <td>-3.699493</td>\n",
       "      <td>-6.147743</td>\n",
       "      <td>-5.360299</td>\n",
       "      <td>-1.897568</td>\n",
       "      <td>2.495799</td>\n",
       "      <td>-0.447972</td>\n",
       "      <td>-2.120610</td>\n",
       "      <td>...</td>\n",
       "      <td>-0.144397</td>\n",
       "      <td>-1.378704</td>\n",
       "      <td>5.758890</td>\n",
       "      <td>0.459473</td>\n",
       "      <td>0.085629</td>\n",
       "      <td>0.071289</td>\n",
       "      <td>0.000000</td>\n",
       "      <td>2.089872</td>\n",
       "      <td>0.061448</td>\n",
       "      <td>2</td>\n",
       "    </tr>\n",
       "    <tr>\n",
       "      <th>1</th>\n",
       "      <td>2.396017</td>\n",
       "      <td>-2.216488</td>\n",
       "      <td>-5.514659</td>\n",
       "      <td>-0.510123</td>\n",
       "      <td>1.642122</td>\n",
       "      <td>-3.034858</td>\n",
       "      <td>-3.248614</td>\n",
       "      <td>2.734828</td>\n",
       "      <td>-0.931768</td>\n",
       "      <td>1.088225</td>\n",
       "      <td>...</td>\n",
       "      <td>0.597638</td>\n",
       "      <td>-0.682934</td>\n",
       "      <td>2.824694</td>\n",
       "      <td>0.466309</td>\n",
       "      <td>0.084578</td>\n",
       "      <td>0.063965</td>\n",
       "      <td>0.000000</td>\n",
       "      <td>1.716724</td>\n",
       "      <td>0.069330</td>\n",
       "      <td>3</td>\n",
       "    </tr>\n",
       "    <tr>\n",
       "      <th>2</th>\n",
       "      <td>0.238587</td>\n",
       "      <td>-0.583154</td>\n",
       "      <td>-3.281549</td>\n",
       "      <td>-1.874620</td>\n",
       "      <td>-1.639834</td>\n",
       "      <td>-0.529684</td>\n",
       "      <td>-2.849959</td>\n",
       "      <td>1.959102</td>\n",
       "      <td>-0.719324</td>\n",
       "      <td>0.015880</td>\n",
       "      <td>...</td>\n",
       "      <td>-0.278664</td>\n",
       "      <td>-0.578004</td>\n",
       "      <td>6.808415</td>\n",
       "      <td>0.375000</td>\n",
       "      <td>0.053114</td>\n",
       "      <td>0.041504</td>\n",
       "      <td>0.000000</td>\n",
       "      <td>2.193303</td>\n",
       "      <td>0.044861</td>\n",
       "      <td>5</td>\n",
       "    </tr>\n",
       "    <tr>\n",
       "      <th>3</th>\n",
       "      <td>6.340997</td>\n",
       "      <td>1.307146</td>\n",
       "      <td>-4.068533</td>\n",
       "      <td>-2.896108</td>\n",
       "      <td>1.793553</td>\n",
       "      <td>-2.828099</td>\n",
       "      <td>-2.905849</td>\n",
       "      <td>1.605565</td>\n",
       "      <td>-0.014139</td>\n",
       "      <td>3.209513</td>\n",
       "      <td>...</td>\n",
       "      <td>-0.803569</td>\n",
       "      <td>-0.545582</td>\n",
       "      <td>21.434212</td>\n",
       "      <td>0.452148</td>\n",
       "      <td>0.077515</td>\n",
       "      <td>0.071777</td>\n",
       "      <td>0.000000</td>\n",
       "      <td>3.542325</td>\n",
       "      <td>0.040800</td>\n",
       "      <td>10</td>\n",
       "    </tr>\n",
       "    <tr>\n",
       "      <th>4</th>\n",
       "      <td>-1.902813</td>\n",
       "      <td>-1.745462</td>\n",
       "      <td>-2.876890</td>\n",
       "      <td>2.710218</td>\n",
       "      <td>-0.255266</td>\n",
       "      <td>0.354227</td>\n",
       "      <td>-0.259828</td>\n",
       "      <td>-0.680953</td>\n",
       "      <td>1.649107</td>\n",
       "      <td>3.117918</td>\n",
       "      <td>...</td>\n",
       "      <td>-0.780269</td>\n",
       "      <td>3.470345</td>\n",
       "      <td>16.669037</td>\n",
       "      <td>0.469727</td>\n",
       "      <td>0.047225</td>\n",
       "      <td>0.040039</td>\n",
       "      <td>0.000977</td>\n",
       "      <td>3.189831</td>\n",
       "      <td>0.030993</td>\n",
       "      <td>20</td>\n",
       "    </tr>\n",
       "    <tr>\n",
       "      <th>...</th>\n",
       "      <td>...</td>\n",
       "      <td>...</td>\n",
       "      <td>...</td>\n",
       "      <td>...</td>\n",
       "      <td>...</td>\n",
       "      <td>...</td>\n",
       "      <td>...</td>\n",
       "      <td>...</td>\n",
       "      <td>...</td>\n",
       "      <td>...</td>\n",
       "      <td>...</td>\n",
       "      <td>...</td>\n",
       "      <td>...</td>\n",
       "      <td>...</td>\n",
       "      <td>...</td>\n",
       "      <td>...</td>\n",
       "      <td>...</td>\n",
       "      <td>...</td>\n",
       "      <td>...</td>\n",
       "      <td>...</td>\n",
       "      <td>...</td>\n",
       "    </tr>\n",
       "    <tr>\n",
       "      <th>106569</th>\n",
       "      <td>1.563059</td>\n",
       "      <td>-1.342411</td>\n",
       "      <td>6.758706</td>\n",
       "      <td>-1.639757</td>\n",
       "      <td>4.023427</td>\n",
       "      <td>2.421894</td>\n",
       "      <td>6.661438</td>\n",
       "      <td>-0.091236</td>\n",
       "      <td>-1.807209</td>\n",
       "      <td>-3.166578</td>\n",
       "      <td>...</td>\n",
       "      <td>1.300470</td>\n",
       "      <td>-0.800717</td>\n",
       "      <td>4.448255</td>\n",
       "      <td>0.172852</td>\n",
       "      <td>0.028773</td>\n",
       "      <td>0.028320</td>\n",
       "      <td>0.003906</td>\n",
       "      <td>0.955388</td>\n",
       "      <td>0.012385</td>\n",
       "      <td>155316</td>\n",
       "    </tr>\n",
       "    <tr>\n",
       "      <th>106570</th>\n",
       "      <td>0.976325</td>\n",
       "      <td>-4.937326</td>\n",
       "      <td>2.160020</td>\n",
       "      <td>2.554923</td>\n",
       "      <td>-2.190855</td>\n",
       "      <td>6.302039</td>\n",
       "      <td>-0.158639</td>\n",
       "      <td>1.094684</td>\n",
       "      <td>-0.162479</td>\n",
       "      <td>0.448701</td>\n",
       "      <td>...</td>\n",
       "      <td>1.659214</td>\n",
       "      <td>-0.188309</td>\n",
       "      <td>3.270612</td>\n",
       "      <td>0.196289</td>\n",
       "      <td>0.031116</td>\n",
       "      <td>0.027832</td>\n",
       "      <td>0.002441</td>\n",
       "      <td>1.283060</td>\n",
       "      <td>0.019059</td>\n",
       "      <td>155317</td>\n",
       "    </tr>\n",
       "    <tr>\n",
       "      <th>106571</th>\n",
       "      <td>3.719993</td>\n",
       "      <td>-4.143328</td>\n",
       "      <td>2.385666</td>\n",
       "      <td>-1.277112</td>\n",
       "      <td>1.464154</td>\n",
       "      <td>1.783219</td>\n",
       "      <td>3.163223</td>\n",
       "      <td>1.525210</td>\n",
       "      <td>-0.570243</td>\n",
       "      <td>-0.913376</td>\n",
       "      <td>...</td>\n",
       "      <td>1.094019</td>\n",
       "      <td>-0.298196</td>\n",
       "      <td>2.356727</td>\n",
       "      <td>0.212891</td>\n",
       "      <td>0.038450</td>\n",
       "      <td>0.037109</td>\n",
       "      <td>0.003418</td>\n",
       "      <td>0.828569</td>\n",
       "      <td>0.017904</td>\n",
       "      <td>155318</td>\n",
       "    </tr>\n",
       "    <tr>\n",
       "      <th>106572</th>\n",
       "      <td>4.565423</td>\n",
       "      <td>-3.903908</td>\n",
       "      <td>0.804853</td>\n",
       "      <td>0.306833</td>\n",
       "      <td>1.538978</td>\n",
       "      <td>-1.027912</td>\n",
       "      <td>0.382154</td>\n",
       "      <td>0.735878</td>\n",
       "      <td>0.116121</td>\n",
       "      <td>0.684116</td>\n",
       "      <td>...</td>\n",
       "      <td>1.472449</td>\n",
       "      <td>-0.625729</td>\n",
       "      <td>6.188604</td>\n",
       "      <td>0.167480</td>\n",
       "      <td>0.041480</td>\n",
       "      <td>0.038086</td>\n",
       "      <td>0.004883</td>\n",
       "      <td>1.818740</td>\n",
       "      <td>0.020133</td>\n",
       "      <td>155319</td>\n",
       "    </tr>\n",
       "    <tr>\n",
       "      <th>106573</th>\n",
       "      <td>3.451314</td>\n",
       "      <td>-2.755559</td>\n",
       "      <td>-0.698795</td>\n",
       "      <td>2.824300</td>\n",
       "      <td>0.947553</td>\n",
       "      <td>2.939014</td>\n",
       "      <td>2.222360</td>\n",
       "      <td>-0.642872</td>\n",
       "      <td>0.764476</td>\n",
       "      <td>-1.071852</td>\n",
       "      <td>...</td>\n",
       "      <td>-1.498512</td>\n",
       "      <td>0.965237</td>\n",
       "      <td>21.756050</td>\n",
       "      <td>0.845215</td>\n",
       "      <td>0.075141</td>\n",
       "      <td>0.044434</td>\n",
       "      <td>0.004395</td>\n",
       "      <td>4.687204</td>\n",
       "      <td>0.137205</td>\n",
       "      <td>155320</td>\n",
       "    </tr>\n",
       "  </tbody>\n",
       "</table>\n",
       "<p>106574 rows × 84 columns</p>\n",
       "</div>"
      ],
      "text/plain": [
       "        principal component F_chroma1  principal component F_chroma2  \\\n",
       "0                            0.775576                       0.363605   \n",
       "1                            2.396017                      -2.216488   \n",
       "2                            0.238587                      -0.583154   \n",
       "3                            6.340997                       1.307146   \n",
       "4                           -1.902813                      -1.745462   \n",
       "...                               ...                            ...   \n",
       "106569                       1.563059                      -1.342411   \n",
       "106570                       0.976325                      -4.937326   \n",
       "106571                       3.719993                      -4.143328   \n",
       "106572                       4.565423                      -3.903908   \n",
       "106573                       3.451314                      -2.755559   \n",
       "\n",
       "        principal component F_chroma3  principal component F_chroma4  \\\n",
       "0                            1.361554                      -3.699493   \n",
       "1                           -5.514659                      -0.510123   \n",
       "2                           -3.281549                      -1.874620   \n",
       "3                           -4.068533                      -2.896108   \n",
       "4                           -2.876890                       2.710218   \n",
       "...                               ...                            ...   \n",
       "106569                       6.758706                      -1.639757   \n",
       "106570                       2.160020                       2.554923   \n",
       "106571                       2.385666                      -1.277112   \n",
       "106572                       0.804853                       0.306833   \n",
       "106573                      -0.698795                       2.824300   \n",
       "\n",
       "        principal component F_chroma5  principal component F_chroma6  \\\n",
       "0                           -6.147743                      -5.360299   \n",
       "1                            1.642122                      -3.034858   \n",
       "2                           -1.639834                      -0.529684   \n",
       "3                            1.793553                      -2.828099   \n",
       "4                           -0.255266                       0.354227   \n",
       "...                               ...                            ...   \n",
       "106569                       4.023427                       2.421894   \n",
       "106570                      -2.190855                       6.302039   \n",
       "106571                       1.464154                       1.783219   \n",
       "106572                       1.538978                      -1.027912   \n",
       "106573                       0.947553                       2.939014   \n",
       "\n",
       "        principal component F_chroma7  principal component F_chroma8  \\\n",
       "0                           -1.897568                       2.495799   \n",
       "1                           -3.248614                       2.734828   \n",
       "2                           -2.849959                       1.959102   \n",
       "3                           -2.905849                       1.605565   \n",
       "4                           -0.259828                      -0.680953   \n",
       "...                               ...                            ...   \n",
       "106569                       6.661438                      -0.091236   \n",
       "106570                      -0.158639                       1.094684   \n",
       "106571                       3.163223                       1.525210   \n",
       "106572                       0.382154                       0.735878   \n",
       "106573                       2.222360                      -0.642872   \n",
       "\n",
       "        principal component F_chroma9  principal component F_chroma10  ...  \\\n",
       "0                           -0.447972                       -2.120610  ...   \n",
       "1                           -0.931768                        1.088225  ...   \n",
       "2                           -0.719324                        0.015880  ...   \n",
       "3                           -0.014139                        3.209513  ...   \n",
       "4                            1.649107                        3.117918  ...   \n",
       "...                               ...                             ...  ...   \n",
       "106569                      -1.807209                       -3.166578  ...   \n",
       "106570                      -0.162479                        0.448701  ...   \n",
       "106571                      -0.570243                       -0.913376  ...   \n",
       "106572                       0.116121                        0.684116  ...   \n",
       "106573                       0.764476                       -1.071852  ...   \n",
       "\n",
       "        principal component F_spectral9  principal component F_spectral10  \\\n",
       "0                             -0.144397                         -1.378704   \n",
       "1                              0.597638                         -0.682934   \n",
       "2                             -0.278664                         -0.578004   \n",
       "3                             -0.803569                         -0.545582   \n",
       "4                             -0.780269                          3.470345   \n",
       "...                                 ...                               ...   \n",
       "106569                         1.300470                         -0.800717   \n",
       "106570                         1.659214                         -0.188309   \n",
       "106571                         1.094019                         -0.298196   \n",
       "106572                         1.472449                         -0.625729   \n",
       "106573                        -1.498512                          0.965237   \n",
       "\n",
       "        zcr_kurtosis_01  zcr_max_01  zcr_mean_01  zcr_median_01  zcr_min_01  \\\n",
       "0              5.758890    0.459473     0.085629       0.071289    0.000000   \n",
       "1              2.824694    0.466309     0.084578       0.063965    0.000000   \n",
       "2              6.808415    0.375000     0.053114       0.041504    0.000000   \n",
       "3             21.434212    0.452148     0.077515       0.071777    0.000000   \n",
       "4             16.669037    0.469727     0.047225       0.040039    0.000977   \n",
       "...                 ...         ...          ...            ...         ...   \n",
       "106569         4.448255    0.172852     0.028773       0.028320    0.003906   \n",
       "106570         3.270612    0.196289     0.031116       0.027832    0.002441   \n",
       "106571         2.356727    0.212891     0.038450       0.037109    0.003418   \n",
       "106572         6.188604    0.167480     0.041480       0.038086    0.004883   \n",
       "106573        21.756050    0.845215     0.075141       0.044434    0.004395   \n",
       "\n",
       "        zcr_skew_01  zcr_std_01  track_id  \n",
       "0          2.089872    0.061448         2  \n",
       "1          1.716724    0.069330         3  \n",
       "2          2.193303    0.044861         5  \n",
       "3          3.542325    0.040800        10  \n",
       "4          3.189831    0.030993        20  \n",
       "...             ...         ...       ...  \n",
       "106569     0.955388    0.012385    155316  \n",
       "106570     1.283060    0.019059    155317  \n",
       "106571     0.828569    0.017904    155318  \n",
       "106572     1.818740    0.020133    155319  \n",
       "106573     4.687204    0.137205    155320  \n",
       "\n",
       "[106574 rows x 84 columns]"
      ]
     },
     "execution_count": 65,
     "metadata": {},
     "output_type": "execute_result"
    }
   ],
   "source": [
    "final_features"
   ]
  },
  {
   "cell_type": "markdown",
   "id": "f89c1207",
   "metadata": {},
   "source": [
    "Once we got all the datasets well filled and standardized, we can start merging them using as key the **track_id** column."
   ]
  },
  {
   "cell_type": "code",
   "execution_count": 67,
   "id": "64e8e310",
   "metadata": {},
   "outputs": [
    {
     "name": "stdout",
     "output_type": "stream",
     "text": [
      "(13129, 154)\n"
     ]
    },
    {
     "data": {
      "text/html": [
       "<div>\n",
       "<style scoped>\n",
       "    .dataframe tbody tr th:only-of-type {\n",
       "        vertical-align: middle;\n",
       "    }\n",
       "\n",
       "    .dataframe tbody tr th {\n",
       "        vertical-align: top;\n",
       "    }\n",
       "\n",
       "    .dataframe thead th {\n",
       "        text-align: right;\n",
       "    }\n",
       "</style>\n",
       "<table border=\"1\" class=\"dataframe\">\n",
       "  <thead>\n",
       "    <tr style=\"text-align: right;\">\n",
       "      <th></th>\n",
       "      <th>track_id</th>\n",
       "      <th>album_id</th>\n",
       "      <th>artist_id</th>\n",
       "      <th>artist_location</th>\n",
       "      <th>track_bit_rate</th>\n",
       "      <th>track_duration</th>\n",
       "      <th>track_listens</th>\n",
       "      <th>track_language_code</th>\n",
       "      <th>track_favorites</th>\n",
       "      <th>track_genre_top</th>\n",
       "      <th>...</th>\n",
       "      <th>ranks_artist_discovery_rank</th>\n",
       "      <th>ranks_artist_familiarity_rank</th>\n",
       "      <th>ranks_artist_hotttnesss_rank</th>\n",
       "      <th>ranks_song_currency_rank</th>\n",
       "      <th>ranks_song_hotttnesss_rank</th>\n",
       "      <th>social_features_artist_discovery</th>\n",
       "      <th>social_features_artist_familiarity</th>\n",
       "      <th>social_features_artist_hotttnesss</th>\n",
       "      <th>social_features_song_currency</th>\n",
       "      <th>social_features_song_hotttnesss</th>\n",
       "    </tr>\n",
       "  </thead>\n",
       "  <tbody>\n",
       "    <tr>\n",
       "      <th>0</th>\n",
       "      <td>2</td>\n",
       "      <td>1</td>\n",
       "      <td>1</td>\n",
       "      <td>New Jersey</td>\n",
       "      <td>256000</td>\n",
       "      <td>168</td>\n",
       "      <td>1293</td>\n",
       "      <td>en</td>\n",
       "      <td>2</td>\n",
       "      <td>Hip-Hop</td>\n",
       "      <td>...</td>\n",
       "      <td>211113.570265</td>\n",
       "      <td>144690.666903</td>\n",
       "      <td>234148.305595</td>\n",
       "      <td>2.919776e+06</td>\n",
       "      <td>2.325537e+06</td>\n",
       "      <td>0.388990</td>\n",
       "      <td>0.386740</td>\n",
       "      <td>0.406370</td>\n",
       "      <td>0.000000</td>\n",
       "      <td>0.000000</td>\n",
       "    </tr>\n",
       "    <tr>\n",
       "      <th>1</th>\n",
       "      <td>3</td>\n",
       "      <td>1</td>\n",
       "      <td>1</td>\n",
       "      <td>New Jersey</td>\n",
       "      <td>256000</td>\n",
       "      <td>237</td>\n",
       "      <td>514</td>\n",
       "      <td>en</td>\n",
       "      <td>1</td>\n",
       "      <td>Hip-Hop</td>\n",
       "      <td>...</td>\n",
       "      <td>211113.570265</td>\n",
       "      <td>144690.666903</td>\n",
       "      <td>234148.305595</td>\n",
       "      <td>2.919776e+06</td>\n",
       "      <td>2.325537e+06</td>\n",
       "      <td>0.388990</td>\n",
       "      <td>0.386740</td>\n",
       "      <td>0.406370</td>\n",
       "      <td>0.000000</td>\n",
       "      <td>0.000000</td>\n",
       "    </tr>\n",
       "    <tr>\n",
       "      <th>2</th>\n",
       "      <td>5</td>\n",
       "      <td>1</td>\n",
       "      <td>1</td>\n",
       "      <td>New Jersey</td>\n",
       "      <td>256000</td>\n",
       "      <td>206</td>\n",
       "      <td>1151</td>\n",
       "      <td>en</td>\n",
       "      <td>6</td>\n",
       "      <td>Hip-Hop</td>\n",
       "      <td>...</td>\n",
       "      <td>211113.570265</td>\n",
       "      <td>144690.666903</td>\n",
       "      <td>234148.305595</td>\n",
       "      <td>2.919776e+06</td>\n",
       "      <td>2.325537e+06</td>\n",
       "      <td>0.388990</td>\n",
       "      <td>0.386740</td>\n",
       "      <td>0.406370</td>\n",
       "      <td>0.000000</td>\n",
       "      <td>0.000000</td>\n",
       "    </tr>\n",
       "    <tr>\n",
       "      <th>3</th>\n",
       "      <td>10</td>\n",
       "      <td>6</td>\n",
       "      <td>6</td>\n",
       "      <td></td>\n",
       "      <td>192000</td>\n",
       "      <td>161</td>\n",
       "      <td>50135</td>\n",
       "      <td>en</td>\n",
       "      <td>178</td>\n",
       "      <td>Pop</td>\n",
       "      <td>...</td>\n",
       "      <td>2635.000000</td>\n",
       "      <td>2544.000000</td>\n",
       "      <td>397.000000</td>\n",
       "      <td>1.156910e+05</td>\n",
       "      <td>6.760900e+04</td>\n",
       "      <td>0.557339</td>\n",
       "      <td>0.614272</td>\n",
       "      <td>0.798387</td>\n",
       "      <td>0.005158</td>\n",
       "      <td>0.354516</td>\n",
       "    </tr>\n",
       "    <tr>\n",
       "      <th>4</th>\n",
       "      <td>134</td>\n",
       "      <td>1</td>\n",
       "      <td>1</td>\n",
       "      <td>New Jersey</td>\n",
       "      <td>256000</td>\n",
       "      <td>207</td>\n",
       "      <td>943</td>\n",
       "      <td>en</td>\n",
       "      <td>3</td>\n",
       "      <td>Hip-Hop</td>\n",
       "      <td>...</td>\n",
       "      <td>211113.570265</td>\n",
       "      <td>144690.666903</td>\n",
       "      <td>234148.305595</td>\n",
       "      <td>2.919776e+06</td>\n",
       "      <td>2.325537e+06</td>\n",
       "      <td>0.388990</td>\n",
       "      <td>0.386740</td>\n",
       "      <td>0.406370</td>\n",
       "      <td>0.000000</td>\n",
       "      <td>0.000000</td>\n",
       "    </tr>\n",
       "  </tbody>\n",
       "</table>\n",
       "<p>5 rows × 154 columns</p>\n",
       "</div>"
      ],
      "text/plain": [
       "   track_id  album_id  artist_id artist_location  track_bit_rate  \\\n",
       "0         2         1          1      New Jersey          256000   \n",
       "1         3         1          1      New Jersey          256000   \n",
       "2         5         1          1      New Jersey          256000   \n",
       "3        10         6          6                          192000   \n",
       "4       134         1          1      New Jersey          256000   \n",
       "\n",
       "   track_duration  track_listens track_language_code  track_favorites  \\\n",
       "0             168           1293                  en                2   \n",
       "1             237            514                  en                1   \n",
       "2             206           1151                  en                6   \n",
       "3             161          50135                  en              178   \n",
       "4             207            943                  en                3   \n",
       "\n",
       "  track_genre_top  ... ranks_artist_discovery_rank  \\\n",
       "0         Hip-Hop  ...               211113.570265   \n",
       "1         Hip-Hop  ...               211113.570265   \n",
       "2         Hip-Hop  ...               211113.570265   \n",
       "3             Pop  ...                 2635.000000   \n",
       "4         Hip-Hop  ...               211113.570265   \n",
       "\n",
       "  ranks_artist_familiarity_rank ranks_artist_hotttnesss_rank  \\\n",
       "0                 144690.666903                234148.305595   \n",
       "1                 144690.666903                234148.305595   \n",
       "2                 144690.666903                234148.305595   \n",
       "3                   2544.000000                   397.000000   \n",
       "4                 144690.666903                234148.305595   \n",
       "\n",
       "  ranks_song_currency_rank  ranks_song_hotttnesss_rank  \\\n",
       "0             2.919776e+06                2.325537e+06   \n",
       "1             2.919776e+06                2.325537e+06   \n",
       "2             2.919776e+06                2.325537e+06   \n",
       "3             1.156910e+05                6.760900e+04   \n",
       "4             2.919776e+06                2.325537e+06   \n",
       "\n",
       "   social_features_artist_discovery  social_features_artist_familiarity  \\\n",
       "0                          0.388990                            0.386740   \n",
       "1                          0.388990                            0.386740   \n",
       "2                          0.388990                            0.386740   \n",
       "3                          0.557339                            0.614272   \n",
       "4                          0.388990                            0.386740   \n",
       "\n",
       "   social_features_artist_hotttnesss  social_features_song_currency  \\\n",
       "0                           0.406370                       0.000000   \n",
       "1                           0.406370                       0.000000   \n",
       "2                           0.406370                       0.000000   \n",
       "3                           0.798387                       0.005158   \n",
       "4                           0.406370                       0.000000   \n",
       "\n",
       "   social_features_song_hotttnesss  \n",
       "0                         0.000000  \n",
       "1                         0.000000  \n",
       "2                         0.000000  \n",
       "3                         0.354516  \n",
       "4                         0.000000  \n",
       "\n",
       "[5 rows x 154 columns]"
      ]
     },
     "execution_count": 67,
     "metadata": {},
     "output_type": "execute_result"
    }
   ],
   "source": [
    "final = final_tracks.merge(final_features.merge(final_echonest, on = \"track_id\"), on = \"track_id\")\n",
    "print(final.shape)\n",
    "final.head()"
   ]
  },
  {
   "cell_type": "markdown",
   "id": "bac9e2c5",
   "metadata": {},
   "source": [
    "As we can see, the number of rows is almost 13k, as demanded."
   ]
  },
  {
   "cell_type": "markdown",
   "id": "658cdb68",
   "metadata": {},
   "source": [
    "## 2.3 K-Means"
   ]
  },
  {
   "cell_type": "markdown",
   "id": "89f7877d",
   "metadata": {},
   "source": [
    "By the fact that the k-means algorithm doesn't handle string type objects, I make a copy of the dataset containing only numerical type variables."
   ]
  },
  {
   "cell_type": "code",
   "execution_count": 68,
   "id": "8446fc18",
   "metadata": {},
   "outputs": [
    {
     "data": {
      "text/plain": [
       "(13129, 142)"
      ]
     },
     "execution_count": 68,
     "metadata": {},
     "output_type": "execute_result"
    }
   ],
   "source": [
    "final_num = final.select_dtypes(exclude = 'object')\n",
    "final_num.shape"
   ]
  },
  {
   "cell_type": "markdown",
   "id": "b665e698",
   "metadata": {},
   "source": [
    "Now I can implement the algorithm which will give me in return the clusters formed."
   ]
  },
  {
   "cell_type": "code",
   "execution_count": 69,
   "id": "7ef98be6",
   "metadata": {},
   "outputs": [],
   "source": [
    "def kmeans(x,k, no_of_iterations = 100):\n",
    "    array = np.array(x).reshape(x.shape[0], x.shape[1])\n",
    "    \n",
    "    rows = array.shape[0]     \n",
    "    cols = array.shape[1]     \n",
    "    \n",
    "    # Picking randomly the first centroids\n",
    "    centroids = array[np.random.choice(rows, size = k, replace = False)]\n",
    "     \n",
    "    #finding the distance between centroids and all the data points\n",
    "    distances = dist.cdist(x, centroids ,'euclidean')\n",
    "     \n",
    "    #Centroid with the minimum Distance\n",
    "    points = np.array([np.argmin(i) for i in distances]) \n",
    "     \n",
    "    #Repeating the above steps for a defined number of iterations\n",
    "    #Step 4\n",
    "    for _ in range(no_of_iterations): \n",
    "        centroids = []\n",
    "        for idx in range(k):\n",
    "            #Updating Centroids by taking mean of Cluster it belongs to\n",
    "            temp_cent = x[points==idx].mean(axis=0)\n",
    "            elementi = []\n",
    "            for elem in temp_cent:\n",
    "                elementi.append(elem)\n",
    "            centroids.append(elementi)\n",
    "        centroids = np.vstack(centroids) #Updated Centroids \n",
    "        distances = dist.cdist(x,centroids,'euclidean')\n",
    "        points = np.array([np.argmin(i) for i in distances])\n",
    "         \n",
    "    return points, centroids, distances "
   ]
  },
  {
   "cell_type": "code",
   "execution_count": 70,
   "id": "178d859c",
   "metadata": {},
   "outputs": [],
   "source": [
    "p, c, d= kmeans(final_num, 4)"
   ]
  },
  {
   "cell_type": "code",
   "execution_count": 71,
   "id": "922229e1",
   "metadata": {},
   "outputs": [
    {
     "data": {
      "text/plain": [
       "{0: 229, 1: 11586, 2: 594, 3: 720}"
      ]
     },
     "execution_count": 71,
     "metadata": {},
     "output_type": "execute_result"
    }
   ],
   "source": [
    "unique, counts = np.unique(p, return_counts=True)\n",
    "dict(zip(unique, counts))"
   ]
  },
  {
   "cell_type": "markdown",
   "id": "a21c0467",
   "metadata": {},
   "source": [
    "To find an optimal number of clusters we decided to use these 2 different methods:\n",
    " - **Elbow Method**\n",
    " - **Silhouette Coefficient**"
   ]
  },
  {
   "cell_type": "markdown",
   "id": "7e5dbe2c",
   "metadata": {},
   "source": [
    "### Elbow Method"
   ]
  },
  {
   "cell_type": "markdown",
   "id": "808151f8",
   "metadata": {},
   "source": [
    "Elbow Method is one of the mst famous methods used for the selection of right values of k and for boosting the performance of the model. \n",
    "\n",
    "It is used to find the best value of k in this way: it picks up a range of values and takes the best among them by computing the sum of the square of the points ad calculating the average distance.\n",
    "\n",
    "In the end we will plot a graph of the k-values and examining it we can notice that at some point it will decrease abruptly, that point can be considered the most suitable value of k."
   ]
  },
  {
   "cell_type": "code",
   "execution_count": 74,
   "id": "aac4c900",
   "metadata": {},
   "outputs": [],
   "source": [
    "def elbow_method(x, k_min , k_max):\n",
    "    inertia = []\n",
    "    K = []\n",
    "    for k in range(k_min, k_max+1):\n",
    "        labels, centroids, count  = kmeans(x,k)\n",
    "        cent = np.array([centroids[i] for i in labels])\n",
    "        distance = np.linalg.norm(x-cent, axis = 1)\n",
    "        sum_d = np.sum(distance)\n",
    "        inertia.append(sum_d)\n",
    "        K.append(k)\n",
    "        print(k)\n",
    "    plt.plot(K, inertia)\n",
    "    plt.xlabel(\"K values\")\n",
    "    plt.ylabel(\"Inertia values\")\n",
    "    plt.show()\n",
    "    return K, inertia"
   ]
  },
  {
   "cell_type": "code",
   "execution_count": 75,
   "id": "b7d96813",
   "metadata": {},
   "outputs": [
    {
     "name": "stdout",
     "output_type": "stream",
     "text": [
      "1\n",
      "2\n",
      "3\n",
      "4\n",
      "5\n",
      "6\n",
      "7\n",
      "8\n",
      "9\n",
      "10\n"
     ]
    },
    {
     "data": {
      "image/png": "[encoded data removed]",
      "text/plain": [
       "<Figure size 576x396 with 1 Axes>"
      ]
     },
     "metadata": {},
     "output_type": "display_data"
    }
   ],
   "source": [
    "k, inertia = elbow_method(final_num, 1, 10)"
   ]
  },
  {
   "cell_type": "markdown",
   "id": "2d2c44ef",
   "metadata": {},
   "source": [
    "As we can see the point of interest are 4 or 6 given that there the graph abruptly decrease."
   ]
  },
  {
   "cell_type": "markdown",
   "id": "14fd748e",
   "metadata": {},
   "source": [
    "We now utilize the KMeans version from sklearn to compare the results:"
   ]
  },
  {
   "cell_type": "code",
   "execution_count": 77,
   "id": "cf868074",
   "metadata": {},
   "outputs": [],
   "source": [
    "from sklearn.cluster import KMeans\n",
    "KM = KMeans(n_clusters=4, random_state=0).fit(final_num)\n",
    "cluster_labels = KM.labels_"
   ]
  },
  {
   "cell_type": "code",
   "execution_count": 78,
   "id": "09d65411",
   "metadata": {},
   "outputs": [
    {
     "data": {
      "text/plain": [
       "{0: 630, 1: 11296, 2: 765, 3: 438}"
      ]
     },
     "execution_count": 78,
     "metadata": {},
     "output_type": "execute_result"
    }
   ],
   "source": [
    "unique, counts = np.unique(cluster_labels, return_counts=True)\n",
    "dict(zip(unique, counts))"
   ]
  },
  {
   "cell_type": "markdown",
   "id": "62bf7b67",
   "metadata": {},
   "source": [
    "As we can see the cluster's elements are the same in ours and in the sklearn's k-means algorithm.\n",
    "\n",
    "The fact that are distributed differently is due to the random choice we did in our algorithm.\n",
    "Let's now look at the difference in the elbow_method using the sklearn's KMeans:"
   ]
  },
  {
   "cell_type": "code",
   "execution_count": 79,
   "id": "5b4c7403",
   "metadata": {},
   "outputs": [],
   "source": [
    "def elbow_method_comp(x, k_min , k_max):\n",
    "    inertia = []\n",
    "    K = []\n",
    "    for k in range(k_min, k_max+1):\n",
    "        kmeans =  KMeans(k, random_state=0).fit(final_num)\n",
    "        labels = kmeans.labels_\n",
    "        centroids = kmeans.cluster_centers_\n",
    "        cent = np.array([centroids[i] for i in labels])\n",
    "        distance = np.linalg.norm(x-cent, axis = 1)\n",
    "        sum_d = np.sum(distance)\n",
    "        inertia.append(sum_d)\n",
    "        K.append(k)\n",
    "        print(k)\n",
    "    plt.plot(K, inertia)\n",
    "    plt.xlabel(\"K values\")\n",
    "    plt.ylabel(\"Inertia values\")\n",
    "    plt.show()\n",
    "    return K, inertia"
   ]
  },
  {
   "cell_type": "code",
   "execution_count": 80,
   "id": "a3662a45",
   "metadata": {},
   "outputs": [
    {
     "name": "stdout",
     "output_type": "stream",
     "text": [
      "1\n",
      "2\n",
      "3\n",
      "4\n",
      "5\n",
      "6\n",
      "7\n",
      "8\n",
      "9\n",
      "10\n"
     ]
    },
    {
     "data": {
      "image/png": "[encoded data removed]",
      "text/plain": [
       "<Figure size 576x396 with 1 Axes>"
      ]
     },
     "metadata": {},
     "output_type": "display_data"
    }
   ],
   "source": [
    "k, inertia = elbow_method_comp(final_num, 1, 10)"
   ]
  },
  {
   "cell_type": "markdown",
   "id": "f4f48ff7",
   "metadata": {},
   "source": [
    "Even if the graphs are not exactly identical, we can see the similitude between the two and the elbow point is practically the same."
   ]
  },
  {
   "cell_type": "markdown",
   "id": "cbfb07bc",
   "metadata": {},
   "source": [
    "### Silhouette Score Method"
   ]
  },
  {
   "cell_type": "markdown",
   "id": "70f7d28b",
   "metadata": {},
   "source": [
    "Silhouette Score (or Coefficient) method has the same purpose of the Elbow Method: find the optimal number of clusters.\n",
    "\n",
    "Its values range between -1 and 1:\n",
    "- If a value is close to 1 than it means that the clusters will be clearly distinguished.\n",
    "- Else, if the value is close to -1 than it means that clusters are assigned in the wrong way.\n",
    "\n",
    "Given a data point $i\\in C_I$ (where $C_I$ is a cluster), then the **Silhouette Score** is given by:\n",
    "\n",
    "$$\n",
    "    s(i) = \\frac{b(i) - a(i)}{max\\{a(i),b(i)\\}}\n",
    "$$\n",
    "\n",
    "Where:\n",
    "- $a(i)$ is the mean distance between the data point $i$ and all the other data points in the same cluster;\n",
    "- $b(i)$ is the smallest mean distance between the data point $i$ and all points in any other cluster.\n",
    "\n",
    "In the end, the **Total Silhouette Coefficient** for a set of exampled is given by the mean of the Silhouette Coefficient for each example."
   ]
  },
  {
   "cell_type": "code",
   "execution_count": 81,
   "id": "ea9f04cd",
   "metadata": {},
   "outputs": [],
   "source": [
    "def silhouette_score(x, labels, centroids):\n",
    "    cent = np.array([centroids[k] for k in labels])    \n",
    "    distance = np.linalg.norm(x-cent, axis = 1)\n",
    "    intra_cluster = np.mean(distance)\n",
    "    \n",
    "    temp_near=[]\n",
    "    for i in range(len(centroids)) : \n",
    "        ci = centroids[i]\n",
    "        for j in range(i+1, len(centroids)) : # avoid to compute the distance twice\n",
    "            cj = centroids[j]\n",
    "            if (ci != cj).any() :\n",
    "                temp_near.append(np.linalg.norm(ci-cj))\n",
    "    near_cluster = np.mean(np.array(temp_near))\n",
    "    \n",
    "    score = (near_cluster - intra_cluster) / max(intra_cluster, near_cluster)\n",
    "    return score\n",
    "    "
   ]
  },
  {
   "cell_type": "code",
   "execution_count": 96,
   "id": "283f4d71",
   "metadata": {},
   "outputs": [],
   "source": [
    "clusters, centroids, distances = kmeans(final_num, 10)"
   ]
  },
  {
   "cell_type": "code",
   "execution_count": 83,
   "id": "afeede98",
   "metadata": {},
   "outputs": [
    {
     "data": {
      "text/plain": [
       "0.9373321810294334"
      ]
     },
     "execution_count": 83,
     "metadata": {},
     "output_type": "execute_result"
    }
   ],
   "source": [
    "silhouette_score(final_num, clusters, centroids)"
   ]
  },
  {
   "cell_type": "code",
   "execution_count": 84,
   "id": "b4b67fec",
   "metadata": {},
   "outputs": [],
   "source": [
    "def silhouette_method(x, k_min, k_max):\n",
    "    scores = []\n",
    "    k_values = []\n",
    "    for k in range(k_min, k_max + 1):\n",
    "        labels, cetroids, distances  = kmeans(x,k)\n",
    "        score = silhouette_score(x, labels, centroids)\n",
    "        scores.append(score)\n",
    "        k_values.append(k)\n",
    "        print(k)\n",
    "    plt.plot(k_values, scores)\n",
    "    plt.xlabel(\"K values\")\n",
    "    plt.ylabel(\"Silhouette Scores\")\n",
    "    plt.show()\n",
    "    return k_values, scores"
   ]
  },
  {
   "cell_type": "code",
   "execution_count": 97,
   "id": "fcae3068",
   "metadata": {},
   "outputs": [
    {
     "name": "stdout",
     "output_type": "stream",
     "text": [
      "1\n",
      "2\n",
      "3\n",
      "4\n",
      "5\n",
      "6\n",
      "7\n",
      "8\n",
      "9\n",
      "10\n"
     ]
    },
    {
     "data": {
      "image/png": "[encoded data removed]",
      "text/plain": [
       "<Figure size 576x396 with 1 Axes>"
      ]
     },
     "metadata": {},
     "output_type": "display_data"
    }
   ],
   "source": [
    "K, silhouette_scores = silhouette_method(final_num, 1, 10)"
   ]
  },
  {
   "cell_type": "markdown",
   "id": "eea54630",
   "metadata": {},
   "source": [
    "The Silhouette Coefficient graph indicates that the correct number of cluster to pick is 4, as deduced in the Elbow Method."
   ]
  },
  {
   "cell_type": "markdown",
   "id": "b6c792d9",
   "metadata": {},
   "source": [
    "Now we will use the already implemented version of K-Means to compare the results obtained from scratch.\n",
    "\n",
    "We are also using the yellowbrick \"KElbowVisualizer\" to compare the graph and see the real optimal number of clusters. "
   ]
  },
  {
   "cell_type": "code",
   "execution_count": 86,
   "id": "7ac2898e",
   "metadata": {},
   "outputs": [
    {
     "data": {
      "image/png": "[encoded data removed]",
      "text/plain": [
       "<Figure size 576x396 with 2 Axes>"
      ]
     },
     "metadata": {},
     "output_type": "display_data"
    },
    {
     "data": {
      "text/plain": [
       "<AxesSubplot:title={'center':'Distortion Score Elbow for KMeans Clustering'}, xlabel='k', ylabel='distortion score'>"
      ]
     },
     "execution_count": 86,
     "metadata": {},
     "output_type": "execute_result"
    }
   ],
   "source": [
    "model = KMeans(init='k-means++')\n",
    "visualizer = KElbowVisualizer(model, k = (1,15), metric = \"distortion\")\n",
    "visualizer.fit(final_num)\n",
    "visualizer.show()"
   ]
  },
  {
   "cell_type": "markdown",
   "id": "98f3fe33",
   "metadata": {},
   "source": [
    "As we can see, the optimal number of clusters here is 4, the exact value of k returned by our methods. "
   ]
  },
  {
   "cell_type": "markdown",
   "id": "fe5084a9-6ded-47c3-9fd5-98d5228698bb",
   "metadata": {},
   "source": [
    "# Part 3"
   ]
  },
  {
   "cell_type": "markdown",
   "id": "e84eec52-e52b-4595-9517-a38294f27d93",
   "metadata": {},
   "source": [
    "You are given a list of integers, A, and another integer s. Write an algorithm that outputs all the pairs in A that equal s.\n",
    "For example, if\n",
    "A = [7, -2, 8, 2, 6, 4, -7, 2, 1, 3, -3] and s = 4\n",
    "the algorithm should output: (7, -3), (-2, 6), (2, 2), (3, 1)."
   ]
  },
  {
   "cell_type": "markdown",
   "id": "c2c709d2-e45a-4295-b89a-c279dddc992f",
   "metadata": {},
   "source": [
    "The easy way to solve the problem would be implementing a brute force method, which would lead to a complexity equal to $O(n^2)$.\\\n",
    "We managed to implement an algorithm that, making use of sort method of a list ($O(n\\, log(n)$) and a cycle in which we use two indexes (more details in the code, below) solves the problem in $O(n\\, log(n))$ [removing constants]."
   ]
  },
  {
   "cell_type": "code",
   "execution_count": 29,
   "id": "7a52328a-74e4-431b-9609-5d87f8250f71",
   "metadata": {},
   "outputs": [],
   "source": [
    "def findPairs(A,s):\n",
    "    pairs=[]\n",
    "    A.sort                                   #First sort the array O(nlogn)\n",
    "    start=0                                  #We define 2 indexes to go through the list A, and verify wheter the sum\n",
    "    end=len(A)-1                             #of A[index1=start]+A[index2=end] is equal to the given sum, in the case it\n",
    "                                             #is we store the value and keep looking for other values\n",
    "                                             #if it's not we check if that's greater or not of the given sum:\n",
    "    while start<end:                         #in the case it is we decrease the second index (end) while in the other\n",
    "                                             #case we increase the first index (start)\n",
    "        if A[start]+A[end]==s: \n",
    "            pairs.append((A[start],A[end]))\n",
    "            start+=1\n",
    "    \n",
    "        elif A[start]+A[end]<s:\n",
    "            start+=1\n",
    "            \n",
    "        else:\n",
    "            end-=1\n",
    "            \n",
    "    return pairs"
   ]
  },
  {
   "cell_type": "code",
   "execution_count": 30,
   "id": "1676c321-c228-4b78-ba3b-e272ef03ce3c",
   "metadata": {},
   "outputs": [
    {
     "name": "stdout",
     "output_type": "stream",
     "text": [
      "10\n",
      "1.28 µs ± 20.2 ns per loop (mean ± std. dev. of 7 runs, 1000000 loops each)\n",
      "100\n",
      "12.9 µs ± 105 ns per loop (mean ± std. dev. of 7 runs, 100000 loops each)\n",
      "1000\n",
      "136 µs ± 1.9 µs per loop (mean ± std. dev. of 7 runs, 10000 loops each)\n",
      "10000\n",
      "1.37 ms ± 17.2 µs per loop (mean ± std. dev. of 7 runs, 1000 loops each)\n",
      "100000\n",
      "14.3 ms ± 893 µs per loop (mean ± std. dev. of 7 runs, 100 loops each)\n"
     ]
    }
   ],
   "source": [
    "N=10\n",
    "for i in range(5):\n",
    "    A=[]\n",
    "    if i!=0: N*=10\n",
    "    for i in range(N):\n",
    "        A.append(randint(-50, 50))\n",
    "    print(N)\n",
    "    %timeit pairs=findPairs(A,10)"
   ]
  }
 ],
 "metadata": {
  "kernelspec": {
   "display_name": "Python 3 (ipykernel)",
   "language": "python",
   "name": "python3"
  },
  "language_info": {
   "codemirror_mode": {
    "name": "ipython",
    "version": 3
   },
   "file_extension": ".py",
   "mimetype": "text/x-python",
   "name": "python",
   "nbconvert_exporter": "python",
   "pygments_lexer": "ipython3",
   "version": "3.8.8"
  }
 },
 "nbformat": 4,
 "nbformat_minor": 5
}
