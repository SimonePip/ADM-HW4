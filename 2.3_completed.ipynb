{
 "cells": [
  {
   "cell_type": "code",
   "execution_count": 102,
   "metadata": {},
   "outputs": [],
   "source": [
    "import pandas as pd\n",
    "import numpy as np\n",
    "from numpy import linalg\n",
    "import matplotlib.pyplot as plt\n",
    "from pandas.api.types import is_string_dtype\n",
    "from pandas.api.types import is_numeric_dtype\n",
    "import librosa\n",
    "from sklearn.preprocessing import StandardScaler\n",
    "from sklearn.decomposition import PCA\n",
    "import prince\n",
    "from prince import FAMD\n",
    "import scipy.spatial.distance as dist\n",
    "from collections import defaultdict\n",
    "from yellowbrick.cluster import KElbowVisualizer\n",
    "import random\n",
    "import sklearn"
   ]
  },
  {
   "cell_type": "markdown",
   "metadata": {},
   "source": [
    "# 2.1 Getting your data "
   ]
  },
  {
   "cell_type": "markdown",
   "metadata": {},
   "source": [
    "We want to read the datasets to try to understand which key we can use to merge them together.\n",
    "\n",
    "First of all we want to fill empty values in the datasets.\n",
    "The below function take as an input a dataframe and check if in the columns there are any missing values of numeric or string types and fills this value with an empty string, in case of strings, or with a mean of the values of that column in case of numbers."
   ]
  },
  {
   "cell_type": "code",
   "execution_count": 2,
   "metadata": {},
   "outputs": [],
   "source": [
    "def filler(dataframe):\n",
    "    for col in dataframe.columns:\n",
    "        if dataframe[col].isnull().any():\n",
    "            if is_string_dtype(dataframe[col]):\n",
    "                dataframe[col] = dataframe[col].fillna(\"\")\n",
    "            elif is_numeric_dtype(dataframe[col]):\n",
    "                dataframe[col] = dataframe[col].fillna(dataframe[col].mean())"
   ]
  },
  {
   "cell_type": "code",
   "execution_count": 3,
   "metadata": {},
   "outputs": [],
   "source": [
    "\n",
    "tracks = pd.read_csv(\"tracks.csv\")\n",
    "echonest = pd.read_csv(\"echonest.csv\")\n",
    "features = pd.read_csv(\"features.csv\")"
   ]
  },
  {
   "cell_type": "markdown",
   "metadata": {},
   "source": [
    "We take the datasets needed:"
   ]
  },
  {
   "cell_type": "code",
   "execution_count": 4,
   "metadata": {},
   "outputs": [],
   "source": [
    "tracks_c = tracks.copy()\n",
    "echonest_c = echonest.copy()\n",
    "features_c = features.copy()"
   ]
  },
  {
   "cell_type": "code",
   "execution_count": 5,
   "metadata": {},
   "outputs": [],
   "source": [
    "# First we are gonna fill the datasets using the function filler()\n",
    "filler(tracks_c)\n",
    "filler(echonest_c)\n",
    "filler(features_c)"
   ]
  },
  {
   "cell_type": "markdown",
   "metadata": {},
   "source": [
    "## 2.2 Choose your features (variables)!"
   ]
  },
  {
   "cell_type": "markdown",
   "metadata": {},
   "source": [
    "We notice that the number of features is very big (820 columns!) and we want to reduce the number of variables we have to work with.\n",
    "\n",
    "So let's apply dimensionality reduction!"
   ]
  },
  {
   "cell_type": "markdown",
   "metadata": {},
   "source": [
    "###  Principal Component Analysis\n",
    "\n",
    "Principal component analysis, is a statistical technique to convert high dimensional data to low dimensional data by selecting the most important features that capture maximum information about the dataset. The features are selected on the basis of variance that they cause in the output. The feature that causes highest variance is the first principal component. The feature that is responsible for second highest variance is considered the second principal component, and so on. It is important to mention that principal components do not have any correlation with each other."
   ]
  },
  {
   "cell_type": "markdown",
   "metadata": {},
   "source": [
    "#### Standardizing the Numeric Features\n",
    "\n",
    "Since PCA is effected by scale, we need to scale the features in our data before applying PCA. We used StandardScaler to standardize the dataset’s features onto unit scale (mean = 0 and variance = 1) which is a requirement for the optimal performance of algorithms.First we have to chose numeric and categorical columns."
   ]
  },
  {
   "cell_type": "markdown",
   "metadata": {},
   "source": [
    "### Echonest "
   ]
  },
  {
   "cell_type": "code",
   "execution_count": 6,
   "metadata": {},
   "outputs": [],
   "source": [
    "# First we need to chose numeric and categorical columns \n",
    "num_cols = [col for col in echonest_c.columns if echonest_c[col].dtypes != \"O\"]\n",
    "cat_cols = [col for col in echonest_c.columns if echonest_c[col].dtypes == \"O\"]"
   ]
  },
  {
   "cell_type": "markdown",
   "metadata": {},
   "source": [
    "We decided to reduce the number of temporal features columns from 224 to 32. The reason why we did not choose it lower than this number (32) is to ensure that the total variance is greater than 70%."
   ]
  },
  {
   "cell_type": "code",
   "execution_count": 7,
   "metadata": {},
   "outputs": [],
   "source": [
    "filter_temp_col = [col for col in num_cols if col.startswith('temporal')]\n",
    "#filter_temp_col"
   ]
  },
  {
   "cell_type": "code",
   "execution_count": 8,
   "metadata": {},
   "outputs": [],
   "source": [
    "# We used PCA for our numerical temporal features columns\n",
    "x1 = echonest_c.loc[:, filter_temp_col].values\n",
    "x1 = StandardScaler().fit_transform(x1)"
   ]
  },
  {
   "cell_type": "code",
   "execution_count": 9,
   "metadata": {},
   "outputs": [],
   "source": [
    "# Initialize the PCA class by passing the number of components to the constructor.\n",
    "pca = PCA(n_components=32)\n",
    "# Call the fit and then transform methods by passing the feature set to these methods. \n",
    "# The transform method returns the specified number of principal components.\n",
    "principalComponents = pca.fit_transform(x1)\n",
    "# Creating Principal data frame\n",
    "principalDf_1 = pd.DataFrame(data = principalComponents\n",
    "             , columns = [\"principal component Echonest \" + str(i) for i in range(1,33)])"
   ]
  },
  {
   "cell_type": "code",
   "execution_count": 10,
   "metadata": {},
   "outputs": [
    {
     "name": "stdout",
     "output_type": "stream",
     "text": [
      "Components =  32 ;\n",
      "Total explained variance =  0.71033\n"
     ]
    }
   ],
   "source": [
    "#pca.explained_variance_ratio_\n",
    "print ( \"Components = \", pca.n_components_ , \";\\nTotal explained variance = \",\n",
    "      round(pca.explained_variance_ratio_.sum(),5)  )"
   ]
  },
  {
   "cell_type": "code",
   "execution_count": 11,
   "metadata": {},
   "outputs": [
    {
     "data": {
      "image/png": "[encoded data removed]",
      "text/plain": [
       "<Figure size 576x396 with 1 Axes>"
      ]
     },
     "metadata": {},
     "output_type": "display_data"
    }
   ],
   "source": [
    "plt.plot(pca.explained_variance_ratio_)\n",
    "plt.ylabel(\"Explained Variance Ratio\")\n",
    "plt.xlabel(\"Components\")\n",
    "plt.show()"
   ]
  },
  {
   "cell_type": "markdown",
   "metadata": {},
   "source": [
    "We reduced our total column count from 250 to 58. We chose PCA which we know that it works great on continuous data, to do dimensionality reduction on the Temporal Features columns and became sure that the chosen method retains > 70% of the total variance."
   ]
  },
  {
   "cell_type": "code",
   "execution_count": 12,
   "metadata": {},
   "outputs": [],
   "source": [
    "other_num_cols = [ele for ele in num_cols if ele not in filter_temp_col]\n",
    "col_list = cat_cols + other_num_cols\n",
    "final_echonest = pd.concat([principalDf_1, echonest_c[col_list]], axis = 1)"
   ]
  },
  {
   "cell_type": "code",
   "execution_count": 13,
   "metadata": {},
   "outputs": [
    {
     "data": {
      "text/plain": [
       "(13129, 58)"
      ]
     },
     "execution_count": 13,
     "metadata": {},
     "output_type": "execute_result"
    }
   ],
   "source": [
    "final_echonest.shape"
   ]
  },
  {
   "cell_type": "markdown",
   "metadata": {},
   "source": [
    "### Tracks"
   ]
  },
  {
   "cell_type": "markdown",
   "metadata": {},
   "source": [
    "PCA works  on continuous data but our data is a blend of both continuous data and categorical data in this file. Therefore, we searched the other methods. FAMD does the analysis with a combination of PCA and MCA techniques. MCA stands for Multiple Correspondence Analysis which is suitable for multiple categorical factors specifically. If the dataset is grouped by different features with a blend of continuous and categorical values, another technique named MFA (Multiple Factor Analysis) can be deployed.\n",
    "\n",
    "When we try to apply FAMD, MFA, and MCA for the columns in tracks, we couldn't get any acceptable results. That's why we decided to keep only useful columns in our dataset."
   ]
  },
  {
   "cell_type": "markdown",
   "metadata": {},
   "source": [
    "We decide to keep only useful variables:"
   ]
  },
  {
   "cell_type": "code",
   "execution_count": 14,
   "metadata": {},
   "outputs": [],
   "source": [
    "final_tracks = tracks_c[['track_id', 'album_id', 'artist_id',\"artist_location\", 'track_bit_rate', \n",
    "                    'track_duration', 'track_listens',\"track_language_code\",\"track_favorites\",\"track_genre_top\",\n",
    "                     \"track_genres\",\"track_genres_all\",\"track_tags\",\"track_title\"]]"
   ]
  },
  {
   "cell_type": "code",
   "execution_count": 15,
   "metadata": {},
   "outputs": [
    {
     "name": "stdout",
     "output_type": "stream",
     "text": [
      "<class 'pandas.core.frame.DataFrame'>\n",
      "RangeIndex: 106574 entries, 0 to 106573\n",
      "Data columns (total 14 columns):\n",
      " #   Column               Non-Null Count   Dtype \n",
      "---  ------               --------------   ----- \n",
      " 0   track_id             106574 non-null  int64 \n",
      " 1   album_id             106574 non-null  int64 \n",
      " 2   artist_id            106574 non-null  int64 \n",
      " 3   artist_location      106574 non-null  object\n",
      " 4   track_bit_rate       106574 non-null  int64 \n",
      " 5   track_duration       106574 non-null  int64 \n",
      " 6   track_listens        106574 non-null  int64 \n",
      " 7   track_language_code  106574 non-null  object\n",
      " 8   track_favorites      106574 non-null  int64 \n",
      " 9   track_genre_top      106574 non-null  object\n",
      " 10  track_genres         106574 non-null  object\n",
      " 11  track_genres_all     106574 non-null  object\n",
      " 12  track_tags           106574 non-null  object\n",
      " 13  track_title          106574 non-null  object\n",
      "dtypes: int64(7), object(7)\n",
      "memory usage: 11.4+ MB\n"
     ]
    }
   ],
   "source": [
    "final_tracks.info()"
   ]
  },
  {
   "cell_type": "code",
   "execution_count": 16,
   "metadata": {},
   "outputs": [
    {
     "data": {
      "text/plain": [
       "(106574, 14)"
      ]
     },
     "execution_count": 16,
     "metadata": {},
     "output_type": "execute_result"
    }
   ],
   "source": [
    "final_tracks.shape"
   ]
  },
  {
   "cell_type": "markdown",
   "metadata": {},
   "source": [
    "### Features"
   ]
  },
  {
   "cell_type": "markdown",
   "metadata": {},
   "source": [
    "First,  we need to analyse our data. We notice that in this file  there is not any categorical variable. \\\n",
    "Then we decided to apply PCA our numerical data. \n",
    "\n",
    "We noticed that some column names contain the same word and are closely related. So we filtered the columns containing those words and applied PCA separately. These columns : **Chroma, mfcc, spectral, tonnetz, zcr**"
   ]
  },
  {
   "cell_type": "code",
   "execution_count": 17,
   "metadata": {
    "scrolled": true
   },
   "outputs": [
    {
     "data": {
      "text/plain": [
       "[]"
      ]
     },
     "execution_count": 17,
     "metadata": {},
     "output_type": "execute_result"
    }
   ],
   "source": [
    "# First we need to chose numeric and categorical columns \n",
    "num_cols = [col for col in features_c.columns if features_c[col].dtypes != \"O\"]\n",
    "cat_cols = [col for col in features_c.columns if features_c[col].dtypes == \"O\"]\n",
    "cat_cols"
   ]
  },
  {
   "cell_type": "code",
   "execution_count": 18,
   "metadata": {},
   "outputs": [
    {
     "data": {
      "text/plain": [
       "['track_id',\n",
       " 'chroma_cens_kurtosis_01',\n",
       " 'chroma_cens_kurtosis_02',\n",
       " 'chroma_cens_kurtosis_03',\n",
       " 'chroma_cens_kurtosis_04',\n",
       " 'chroma_cens_kurtosis_05',\n",
       " 'chroma_cens_kurtosis_06',\n",
       " 'chroma_cens_kurtosis_07',\n",
       " 'chroma_cens_kurtosis_08',\n",
       " 'chroma_cens_kurtosis_09',\n",
       " 'chroma_cens_kurtosis_10',\n",
       " 'chroma_cens_kurtosis_11',\n",
       " 'chroma_cens_kurtosis_12',\n",
       " 'chroma_cens_max_01',\n",
       " 'chroma_cens_max_02',\n",
       " 'chroma_cens_max_03',\n",
       " 'chroma_cens_max_04',\n",
       " 'chroma_cens_max_05',\n",
       " 'chroma_cens_max_06',\n",
       " 'chroma_cens_max_07',\n",
       " 'chroma_cens_max_08',\n",
       " 'chroma_cens_max_09',\n",
       " 'chroma_cens_max_10',\n",
       " 'chroma_cens_max_11',\n",
       " 'chroma_cens_max_12',\n",
       " 'chroma_cens_mean_01',\n",
       " 'chroma_cens_mean_02',\n",
       " 'chroma_cens_mean_03',\n",
       " 'chroma_cens_mean_04',\n",
       " 'chroma_cens_mean_05',\n",
       " 'chroma_cens_mean_06',\n",
       " 'chroma_cens_mean_07',\n",
       " 'chroma_cens_mean_08',\n",
       " 'chroma_cens_mean_09',\n",
       " 'chroma_cens_mean_10',\n",
       " 'chroma_cens_mean_11',\n",
       " 'chroma_cens_mean_12',\n",
       " 'chroma_cens_median_01',\n",
       " 'chroma_cens_median_02',\n",
       " 'chroma_cens_median_03',\n",
       " 'chroma_cens_median_04',\n",
       " 'chroma_cens_median_05',\n",
       " 'chroma_cens_median_06',\n",
       " 'chroma_cens_median_07',\n",
       " 'chroma_cens_median_08',\n",
       " 'chroma_cens_median_09',\n",
       " 'chroma_cens_median_10',\n",
       " 'chroma_cens_median_11',\n",
       " 'chroma_cens_median_12',\n",
       " 'chroma_cens_min_01',\n",
       " 'chroma_cens_min_02',\n",
       " 'chroma_cens_min_03',\n",
       " 'chroma_cens_min_04',\n",
       " 'chroma_cens_min_05',\n",
       " 'chroma_cens_min_06',\n",
       " 'chroma_cens_min_07',\n",
       " 'chroma_cens_min_08',\n",
       " 'chroma_cens_min_09',\n",
       " 'chroma_cens_min_10',\n",
       " 'chroma_cens_min_11',\n",
       " 'chroma_cens_min_12',\n",
       " 'chroma_cens_skew_01',\n",
       " 'chroma_cens_skew_02',\n",
       " 'chroma_cens_skew_03',\n",
       " 'chroma_cens_skew_04',\n",
       " 'chroma_cens_skew_05',\n",
       " 'chroma_cens_skew_06',\n",
       " 'chroma_cens_skew_07',\n",
       " 'chroma_cens_skew_08',\n",
       " 'chroma_cens_skew_09',\n",
       " 'chroma_cens_skew_10',\n",
       " 'chroma_cens_skew_11',\n",
       " 'chroma_cens_skew_12',\n",
       " 'chroma_cens_std_01',\n",
       " 'chroma_cens_std_02',\n",
       " 'chroma_cens_std_03',\n",
       " 'chroma_cens_std_04',\n",
       " 'chroma_cens_std_05',\n",
       " 'chroma_cens_std_06',\n",
       " 'chroma_cens_std_07',\n",
       " 'chroma_cens_std_08',\n",
       " 'chroma_cens_std_09',\n",
       " 'chroma_cens_std_10',\n",
       " 'chroma_cens_std_11',\n",
       " 'chroma_cens_std_12',\n",
       " 'chroma_cqt_kurtosis_01',\n",
       " 'chroma_cqt_kurtosis_02',\n",
       " 'chroma_cqt_kurtosis_03',\n",
       " 'chroma_cqt_kurtosis_04',\n",
       " 'chroma_cqt_kurtosis_05',\n",
       " 'chroma_cqt_kurtosis_06',\n",
       " 'chroma_cqt_kurtosis_07',\n",
       " 'chroma_cqt_kurtosis_08',\n",
       " 'chroma_cqt_kurtosis_09',\n",
       " 'chroma_cqt_kurtosis_10',\n",
       " 'chroma_cqt_kurtosis_11',\n",
       " 'chroma_cqt_kurtosis_12',\n",
       " 'chroma_cqt_max_01',\n",
       " 'chroma_cqt_max_02',\n",
       " 'chroma_cqt_max_03',\n",
       " 'chroma_cqt_max_04',\n",
       " 'chroma_cqt_max_05',\n",
       " 'chroma_cqt_max_06',\n",
       " 'chroma_cqt_max_07',\n",
       " 'chroma_cqt_max_08',\n",
       " 'chroma_cqt_max_09',\n",
       " 'chroma_cqt_max_10',\n",
       " 'chroma_cqt_max_11',\n",
       " 'chroma_cqt_max_12',\n",
       " 'chroma_cqt_mean_01',\n",
       " 'chroma_cqt_mean_02',\n",
       " 'chroma_cqt_mean_03',\n",
       " 'chroma_cqt_mean_04',\n",
       " 'chroma_cqt_mean_05',\n",
       " 'chroma_cqt_mean_06',\n",
       " 'chroma_cqt_mean_07',\n",
       " 'chroma_cqt_mean_08',\n",
       " 'chroma_cqt_mean_09',\n",
       " 'chroma_cqt_mean_10',\n",
       " 'chroma_cqt_mean_11',\n",
       " 'chroma_cqt_mean_12',\n",
       " 'chroma_cqt_median_01',\n",
       " 'chroma_cqt_median_02',\n",
       " 'chroma_cqt_median_03',\n",
       " 'chroma_cqt_median_04',\n",
       " 'chroma_cqt_median_05',\n",
       " 'chroma_cqt_median_06',\n",
       " 'chroma_cqt_median_07',\n",
       " 'chroma_cqt_median_08',\n",
       " 'chroma_cqt_median_09',\n",
       " 'chroma_cqt_median_10',\n",
       " 'chroma_cqt_median_11',\n",
       " 'chroma_cqt_median_12',\n",
       " 'chroma_cqt_min_01',\n",
       " 'chroma_cqt_min_02',\n",
       " 'chroma_cqt_min_03',\n",
       " 'chroma_cqt_min_04',\n",
       " 'chroma_cqt_min_05',\n",
       " 'chroma_cqt_min_06',\n",
       " 'chroma_cqt_min_07',\n",
       " 'chroma_cqt_min_08',\n",
       " 'chroma_cqt_min_09',\n",
       " 'chroma_cqt_min_10',\n",
       " 'chroma_cqt_min_11',\n",
       " 'chroma_cqt_min_12',\n",
       " 'chroma_cqt_skew_01',\n",
       " 'chroma_cqt_skew_02',\n",
       " 'chroma_cqt_skew_03',\n",
       " 'chroma_cqt_skew_04',\n",
       " 'chroma_cqt_skew_05',\n",
       " 'chroma_cqt_skew_06',\n",
       " 'chroma_cqt_skew_07',\n",
       " 'chroma_cqt_skew_08',\n",
       " 'chroma_cqt_skew_09',\n",
       " 'chroma_cqt_skew_10',\n",
       " 'chroma_cqt_skew_11',\n",
       " 'chroma_cqt_skew_12',\n",
       " 'chroma_cqt_std_01',\n",
       " 'chroma_cqt_std_02',\n",
       " 'chroma_cqt_std_03',\n",
       " 'chroma_cqt_std_04',\n",
       " 'chroma_cqt_std_05',\n",
       " 'chroma_cqt_std_06',\n",
       " 'chroma_cqt_std_07',\n",
       " 'chroma_cqt_std_08',\n",
       " 'chroma_cqt_std_09',\n",
       " 'chroma_cqt_std_10',\n",
       " 'chroma_cqt_std_11',\n",
       " 'chroma_cqt_std_12',\n",
       " 'chroma_stft_kurtosis_01',\n",
       " 'chroma_stft_kurtosis_02',\n",
       " 'chroma_stft_kurtosis_03',\n",
       " 'chroma_stft_kurtosis_04',\n",
       " 'chroma_stft_kurtosis_05',\n",
       " 'chroma_stft_kurtosis_06',\n",
       " 'chroma_stft_kurtosis_07',\n",
       " 'chroma_stft_kurtosis_08',\n",
       " 'chroma_stft_kurtosis_09',\n",
       " 'chroma_stft_kurtosis_10',\n",
       " 'chroma_stft_kurtosis_11',\n",
       " 'chroma_stft_kurtosis_12',\n",
       " 'chroma_stft_max_01',\n",
       " 'chroma_stft_max_02',\n",
       " 'chroma_stft_max_03',\n",
       " 'chroma_stft_max_04',\n",
       " 'chroma_stft_max_05',\n",
       " 'chroma_stft_max_06',\n",
       " 'chroma_stft_max_07',\n",
       " 'chroma_stft_max_08',\n",
       " 'chroma_stft_max_09',\n",
       " 'chroma_stft_max_10',\n",
       " 'chroma_stft_max_11',\n",
       " 'chroma_stft_max_12',\n",
       " 'chroma_stft_mean_01',\n",
       " 'chroma_stft_mean_02',\n",
       " 'chroma_stft_mean_03',\n",
       " 'chroma_stft_mean_04',\n",
       " 'chroma_stft_mean_05',\n",
       " 'chroma_stft_mean_06',\n",
       " 'chroma_stft_mean_07',\n",
       " 'chroma_stft_mean_08',\n",
       " 'chroma_stft_mean_09',\n",
       " 'chroma_stft_mean_10',\n",
       " 'chroma_stft_mean_11',\n",
       " 'chroma_stft_mean_12',\n",
       " 'chroma_stft_median_01',\n",
       " 'chroma_stft_median_02',\n",
       " 'chroma_stft_median_03',\n",
       " 'chroma_stft_median_04',\n",
       " 'chroma_stft_median_05',\n",
       " 'chroma_stft_median_06',\n",
       " 'chroma_stft_median_07',\n",
       " 'chroma_stft_median_08',\n",
       " 'chroma_stft_median_09',\n",
       " 'chroma_stft_median_10',\n",
       " 'chroma_stft_median_11',\n",
       " 'chroma_stft_median_12',\n",
       " 'chroma_stft_min_01',\n",
       " 'chroma_stft_min_02',\n",
       " 'chroma_stft_min_03',\n",
       " 'chroma_stft_min_04',\n",
       " 'chroma_stft_min_05',\n",
       " 'chroma_stft_min_06',\n",
       " 'chroma_stft_min_07',\n",
       " 'chroma_stft_min_08',\n",
       " 'chroma_stft_min_09',\n",
       " 'chroma_stft_min_10',\n",
       " 'chroma_stft_min_11',\n",
       " 'chroma_stft_min_12',\n",
       " 'chroma_stft_skew_01',\n",
       " 'chroma_stft_skew_02',\n",
       " 'chroma_stft_skew_03',\n",
       " 'chroma_stft_skew_04',\n",
       " 'chroma_stft_skew_05',\n",
       " 'chroma_stft_skew_06',\n",
       " 'chroma_stft_skew_07',\n",
       " 'chroma_stft_skew_08',\n",
       " 'chroma_stft_skew_09',\n",
       " 'chroma_stft_skew_10',\n",
       " 'chroma_stft_skew_11',\n",
       " 'chroma_stft_skew_12',\n",
       " 'chroma_stft_std_01',\n",
       " 'chroma_stft_std_02',\n",
       " 'chroma_stft_std_03',\n",
       " 'chroma_stft_std_04',\n",
       " 'chroma_stft_std_05',\n",
       " 'chroma_stft_std_06',\n",
       " 'chroma_stft_std_07',\n",
       " 'chroma_stft_std_08',\n",
       " 'chroma_stft_std_09',\n",
       " 'chroma_stft_std_10',\n",
       " 'chroma_stft_std_11',\n",
       " 'chroma_stft_std_12',\n",
       " 'mfcc_kurtosis_01',\n",
       " 'mfcc_kurtosis_02',\n",
       " 'mfcc_kurtosis_03',\n",
       " 'mfcc_kurtosis_04',\n",
       " 'mfcc_kurtosis_05',\n",
       " 'mfcc_kurtosis_06',\n",
       " 'mfcc_kurtosis_07',\n",
       " 'mfcc_kurtosis_08',\n",
       " 'mfcc_kurtosis_09',\n",
       " 'mfcc_kurtosis_10',\n",
       " 'mfcc_kurtosis_11',\n",
       " 'mfcc_kurtosis_12',\n",
       " 'mfcc_kurtosis_13',\n",
       " 'mfcc_kurtosis_14',\n",
       " 'mfcc_kurtosis_15',\n",
       " 'mfcc_kurtosis_16',\n",
       " 'mfcc_kurtosis_17',\n",
       " 'mfcc_kurtosis_18',\n",
       " 'mfcc_kurtosis_19',\n",
       " 'mfcc_kurtosis_20',\n",
       " 'mfcc_max_01',\n",
       " 'mfcc_max_02',\n",
       " 'mfcc_max_03',\n",
       " 'mfcc_max_04',\n",
       " 'mfcc_max_05',\n",
       " 'mfcc_max_06',\n",
       " 'mfcc_max_07',\n",
       " 'mfcc_max_08',\n",
       " 'mfcc_max_09',\n",
       " 'mfcc_max_10',\n",
       " 'mfcc_max_11',\n",
       " 'mfcc_max_12',\n",
       " 'mfcc_max_13',\n",
       " 'mfcc_max_14',\n",
       " 'mfcc_max_15',\n",
       " 'mfcc_max_16',\n",
       " 'mfcc_max_17',\n",
       " 'mfcc_max_18',\n",
       " 'mfcc_max_19',\n",
       " 'mfcc_max_20',\n",
       " 'mfcc_mean_01',\n",
       " 'mfcc_mean_02',\n",
       " 'mfcc_mean_03',\n",
       " 'mfcc_mean_04',\n",
       " 'mfcc_mean_05',\n",
       " 'mfcc_mean_06',\n",
       " 'mfcc_mean_07',\n",
       " 'mfcc_mean_08',\n",
       " 'mfcc_mean_09',\n",
       " 'mfcc_mean_10',\n",
       " 'mfcc_mean_11',\n",
       " 'mfcc_mean_12',\n",
       " 'mfcc_mean_13',\n",
       " 'mfcc_mean_14',\n",
       " 'mfcc_mean_15',\n",
       " 'mfcc_mean_16',\n",
       " 'mfcc_mean_17',\n",
       " 'mfcc_mean_18',\n",
       " 'mfcc_mean_19',\n",
       " 'mfcc_mean_20',\n",
       " 'mfcc_median_01',\n",
       " 'mfcc_median_02',\n",
       " 'mfcc_median_03',\n",
       " 'mfcc_median_04',\n",
       " 'mfcc_median_05',\n",
       " 'mfcc_median_06',\n",
       " 'mfcc_median_07',\n",
       " 'mfcc_median_08',\n",
       " 'mfcc_median_09',\n",
       " 'mfcc_median_10',\n",
       " 'mfcc_median_11',\n",
       " 'mfcc_median_12',\n",
       " 'mfcc_median_13',\n",
       " 'mfcc_median_14',\n",
       " 'mfcc_median_15',\n",
       " 'mfcc_median_16',\n",
       " 'mfcc_median_17',\n",
       " 'mfcc_median_18',\n",
       " 'mfcc_median_19',\n",
       " 'mfcc_median_20',\n",
       " 'mfcc_min_01',\n",
       " 'mfcc_min_02',\n",
       " 'mfcc_min_03',\n",
       " 'mfcc_min_04',\n",
       " 'mfcc_min_05',\n",
       " 'mfcc_min_06',\n",
       " 'mfcc_min_07',\n",
       " 'mfcc_min_08',\n",
       " 'mfcc_min_09',\n",
       " 'mfcc_min_10',\n",
       " 'mfcc_min_11',\n",
       " 'mfcc_min_12',\n",
       " 'mfcc_min_13',\n",
       " 'mfcc_min_14',\n",
       " 'mfcc_min_15',\n",
       " 'mfcc_min_16',\n",
       " 'mfcc_min_17',\n",
       " 'mfcc_min_18',\n",
       " 'mfcc_min_19',\n",
       " 'mfcc_min_20',\n",
       " 'mfcc_skew_01',\n",
       " 'mfcc_skew_02',\n",
       " 'mfcc_skew_03',\n",
       " 'mfcc_skew_04',\n",
       " 'mfcc_skew_05',\n",
       " 'mfcc_skew_06',\n",
       " 'mfcc_skew_07',\n",
       " 'mfcc_skew_08',\n",
       " 'mfcc_skew_09',\n",
       " 'mfcc_skew_10',\n",
       " 'mfcc_skew_11',\n",
       " 'mfcc_skew_12',\n",
       " 'mfcc_skew_13',\n",
       " 'mfcc_skew_14',\n",
       " 'mfcc_skew_15',\n",
       " 'mfcc_skew_16',\n",
       " 'mfcc_skew_17',\n",
       " 'mfcc_skew_18',\n",
       " 'mfcc_skew_19',\n",
       " 'mfcc_skew_20',\n",
       " 'mfcc_std_01',\n",
       " 'mfcc_std_02',\n",
       " 'mfcc_std_03',\n",
       " 'mfcc_std_04',\n",
       " 'mfcc_std_05',\n",
       " 'mfcc_std_06',\n",
       " 'mfcc_std_07',\n",
       " 'mfcc_std_08',\n",
       " 'mfcc_std_09',\n",
       " 'mfcc_std_10',\n",
       " 'mfcc_std_11',\n",
       " 'mfcc_std_12',\n",
       " 'mfcc_std_13',\n",
       " 'mfcc_std_14',\n",
       " 'mfcc_std_15',\n",
       " 'mfcc_std_16',\n",
       " 'mfcc_std_17',\n",
       " 'mfcc_std_18',\n",
       " 'mfcc_std_19',\n",
       " 'mfcc_std_20',\n",
       " 'rmse_kurtosis_01',\n",
       " 'rmse_max_01',\n",
       " 'rmse_mean_01',\n",
       " 'rmse_median_01',\n",
       " 'rmse_min_01',\n",
       " 'rmse_skew_01',\n",
       " 'rmse_std_01',\n",
       " 'spectral_bandwidth_kurtosis_01',\n",
       " 'spectral_bandwidth_max_01',\n",
       " 'spectral_bandwidth_mean_01',\n",
       " 'spectral_bandwidth_median_01',\n",
       " 'spectral_bandwidth_min_01',\n",
       " 'spectral_bandwidth_skew_01',\n",
       " 'spectral_bandwidth_std_01',\n",
       " 'spectral_centroid_kurtosis_01',\n",
       " 'spectral_centroid_max_01',\n",
       " 'spectral_centroid_mean_01',\n",
       " 'spectral_centroid_median_01',\n",
       " 'spectral_centroid_min_01',\n",
       " 'spectral_centroid_skew_01',\n",
       " 'spectral_centroid_std_01',\n",
       " 'spectral_contrast_kurtosis_01',\n",
       " 'spectral_contrast_kurtosis_02',\n",
       " 'spectral_contrast_kurtosis_03',\n",
       " 'spectral_contrast_kurtosis_04',\n",
       " 'spectral_contrast_kurtosis_05',\n",
       " 'spectral_contrast_kurtosis_06',\n",
       " 'spectral_contrast_kurtosis_07',\n",
       " 'spectral_contrast_max_01',\n",
       " 'spectral_contrast_max_02',\n",
       " 'spectral_contrast_max_03',\n",
       " 'spectral_contrast_max_04',\n",
       " 'spectral_contrast_max_05',\n",
       " 'spectral_contrast_max_06',\n",
       " 'spectral_contrast_max_07',\n",
       " 'spectral_contrast_mean_01',\n",
       " 'spectral_contrast_mean_02',\n",
       " 'spectral_contrast_mean_03',\n",
       " 'spectral_contrast_mean_04',\n",
       " 'spectral_contrast_mean_05',\n",
       " 'spectral_contrast_mean_06',\n",
       " 'spectral_contrast_mean_07',\n",
       " 'spectral_contrast_median_01',\n",
       " 'spectral_contrast_median_02',\n",
       " 'spectral_contrast_median_03',\n",
       " 'spectral_contrast_median_04',\n",
       " 'spectral_contrast_median_05',\n",
       " 'spectral_contrast_median_06',\n",
       " 'spectral_contrast_median_07',\n",
       " 'spectral_contrast_min_01',\n",
       " 'spectral_contrast_min_02',\n",
       " 'spectral_contrast_min_03',\n",
       " 'spectral_contrast_min_04',\n",
       " 'spectral_contrast_min_05',\n",
       " 'spectral_contrast_min_06',\n",
       " 'spectral_contrast_min_07',\n",
       " 'spectral_contrast_skew_01',\n",
       " 'spectral_contrast_skew_02',\n",
       " 'spectral_contrast_skew_03',\n",
       " 'spectral_contrast_skew_04',\n",
       " 'spectral_contrast_skew_05',\n",
       " 'spectral_contrast_skew_06',\n",
       " 'spectral_contrast_skew_07',\n",
       " 'spectral_contrast_std_01',\n",
       " 'spectral_contrast_std_02',\n",
       " 'spectral_contrast_std_03',\n",
       " 'spectral_contrast_std_04',\n",
       " 'spectral_contrast_std_05',\n",
       " 'spectral_contrast_std_06',\n",
       " 'spectral_contrast_std_07',\n",
       " 'spectral_rolloff_kurtosis_01',\n",
       " 'spectral_rolloff_max_01',\n",
       " 'spectral_rolloff_mean_01',\n",
       " 'spectral_rolloff_median_01',\n",
       " 'spectral_rolloff_min_01',\n",
       " 'spectral_rolloff_skew_01',\n",
       " 'spectral_rolloff_std_01',\n",
       " 'tonnetz_kurtosis_01',\n",
       " 'tonnetz_kurtosis_02',\n",
       " 'tonnetz_kurtosis_03',\n",
       " 'tonnetz_kurtosis_04',\n",
       " 'tonnetz_kurtosis_05',\n",
       " 'tonnetz_kurtosis_06',\n",
       " 'tonnetz_max_01',\n",
       " 'tonnetz_max_02',\n",
       " 'tonnetz_max_03',\n",
       " 'tonnetz_max_04',\n",
       " 'tonnetz_max_05',\n",
       " 'tonnetz_max_06',\n",
       " 'tonnetz_mean_01',\n",
       " 'tonnetz_mean_02',\n",
       " 'tonnetz_mean_03',\n",
       " 'tonnetz_mean_04',\n",
       " 'tonnetz_mean_05',\n",
       " 'tonnetz_mean_06',\n",
       " 'tonnetz_median_01',\n",
       " 'tonnetz_median_02',\n",
       " 'tonnetz_median_03',\n",
       " 'tonnetz_median_04',\n",
       " 'tonnetz_median_05',\n",
       " 'tonnetz_median_06',\n",
       " 'tonnetz_min_01',\n",
       " 'tonnetz_min_02',\n",
       " 'tonnetz_min_03',\n",
       " 'tonnetz_min_04',\n",
       " 'tonnetz_min_05',\n",
       " 'tonnetz_min_06',\n",
       " 'tonnetz_skew_01',\n",
       " 'tonnetz_skew_02',\n",
       " 'tonnetz_skew_03',\n",
       " 'tonnetz_skew_04',\n",
       " 'tonnetz_skew_05',\n",
       " 'tonnetz_skew_06',\n",
       " 'tonnetz_std_01',\n",
       " 'tonnetz_std_02',\n",
       " 'tonnetz_std_03',\n",
       " 'tonnetz_std_04',\n",
       " 'tonnetz_std_05',\n",
       " 'tonnetz_std_06',\n",
       " 'zcr_kurtosis_01',\n",
       " 'zcr_max_01',\n",
       " 'zcr_mean_01',\n",
       " 'zcr_median_01',\n",
       " 'zcr_min_01',\n",
       " 'zcr_skew_01',\n",
       " 'zcr_std_01']"
      ]
     },
     "execution_count": 18,
     "metadata": {},
     "output_type": "execute_result"
    }
   ],
   "source": [
    "[col for col in features_c]"
   ]
  },
  {
   "cell_type": "code",
   "execution_count": 19,
   "metadata": {},
   "outputs": [
    {
     "data": {
      "text/html": [
       "<div>\n",
       "<style scoped>\n",
       "    .dataframe tbody tr th:only-of-type {\n",
       "        vertical-align: middle;\n",
       "    }\n",
       "\n",
       "    .dataframe tbody tr th {\n",
       "        vertical-align: top;\n",
       "    }\n",
       "\n",
       "    .dataframe thead th {\n",
       "        text-align: right;\n",
       "    }\n",
       "</style>\n",
       "<table border=\"1\" class=\"dataframe\">\n",
       "  <thead>\n",
       "    <tr style=\"text-align: right;\">\n",
       "      <th></th>\n",
       "      <th>track_id</th>\n",
       "      <th>chroma_cens_kurtosis_01</th>\n",
       "      <th>chroma_cens_kurtosis_02</th>\n",
       "      <th>chroma_cens_kurtosis_03</th>\n",
       "      <th>chroma_cens_kurtosis_04</th>\n",
       "      <th>chroma_cens_kurtosis_05</th>\n",
       "      <th>chroma_cens_kurtosis_06</th>\n",
       "      <th>chroma_cens_kurtosis_07</th>\n",
       "      <th>chroma_cens_kurtosis_08</th>\n",
       "      <th>chroma_cens_kurtosis_09</th>\n",
       "      <th>...</th>\n",
       "      <th>tonnetz_std_04</th>\n",
       "      <th>tonnetz_std_05</th>\n",
       "      <th>tonnetz_std_06</th>\n",
       "      <th>zcr_kurtosis_01</th>\n",
       "      <th>zcr_max_01</th>\n",
       "      <th>zcr_mean_01</th>\n",
       "      <th>zcr_median_01</th>\n",
       "      <th>zcr_min_01</th>\n",
       "      <th>zcr_skew_01</th>\n",
       "      <th>zcr_std_01</th>\n",
       "    </tr>\n",
       "  </thead>\n",
       "  <tbody>\n",
       "    <tr>\n",
       "      <th>0</th>\n",
       "      <td>2</td>\n",
       "      <td>7.180653</td>\n",
       "      <td>5.230309</td>\n",
       "      <td>0.249321</td>\n",
       "      <td>1.347620</td>\n",
       "      <td>1.482478</td>\n",
       "      <td>0.531371</td>\n",
       "      <td>1.481593</td>\n",
       "      <td>2.691455</td>\n",
       "      <td>0.866868</td>\n",
       "      <td>...</td>\n",
       "      <td>0.054125</td>\n",
       "      <td>0.012226</td>\n",
       "      <td>0.012111</td>\n",
       "      <td>5.758890</td>\n",
       "      <td>0.459473</td>\n",
       "      <td>0.085629</td>\n",
       "      <td>0.071289</td>\n",
       "      <td>0.000000</td>\n",
       "      <td>2.089872</td>\n",
       "      <td>0.061448</td>\n",
       "    </tr>\n",
       "    <tr>\n",
       "      <th>1</th>\n",
       "      <td>3</td>\n",
       "      <td>1.888963</td>\n",
       "      <td>0.760539</td>\n",
       "      <td>0.345297</td>\n",
       "      <td>2.295201</td>\n",
       "      <td>1.654031</td>\n",
       "      <td>0.067592</td>\n",
       "      <td>1.366848</td>\n",
       "      <td>1.054094</td>\n",
       "      <td>0.108103</td>\n",
       "      <td>...</td>\n",
       "      <td>0.063831</td>\n",
       "      <td>0.014212</td>\n",
       "      <td>0.017740</td>\n",
       "      <td>2.824694</td>\n",
       "      <td>0.466309</td>\n",
       "      <td>0.084578</td>\n",
       "      <td>0.063965</td>\n",
       "      <td>0.000000</td>\n",
       "      <td>1.716724</td>\n",
       "      <td>0.069330</td>\n",
       "    </tr>\n",
       "    <tr>\n",
       "      <th>2</th>\n",
       "      <td>5</td>\n",
       "      <td>0.527563</td>\n",
       "      <td>-0.077654</td>\n",
       "      <td>-0.279610</td>\n",
       "      <td>0.685883</td>\n",
       "      <td>1.937570</td>\n",
       "      <td>0.880839</td>\n",
       "      <td>-0.923192</td>\n",
       "      <td>-0.927232</td>\n",
       "      <td>0.666617</td>\n",
       "      <td>...</td>\n",
       "      <td>0.040730</td>\n",
       "      <td>0.012691</td>\n",
       "      <td>0.014759</td>\n",
       "      <td>6.808415</td>\n",
       "      <td>0.375000</td>\n",
       "      <td>0.053114</td>\n",
       "      <td>0.041504</td>\n",
       "      <td>0.000000</td>\n",
       "      <td>2.193303</td>\n",
       "      <td>0.044861</td>\n",
       "    </tr>\n",
       "    <tr>\n",
       "      <th>3</th>\n",
       "      <td>10</td>\n",
       "      <td>3.702245</td>\n",
       "      <td>-0.291193</td>\n",
       "      <td>2.196742</td>\n",
       "      <td>-0.234449</td>\n",
       "      <td>1.367364</td>\n",
       "      <td>0.998411</td>\n",
       "      <td>1.770694</td>\n",
       "      <td>1.604566</td>\n",
       "      <td>0.521217</td>\n",
       "      <td>...</td>\n",
       "      <td>0.074358</td>\n",
       "      <td>0.017952</td>\n",
       "      <td>0.013921</td>\n",
       "      <td>21.434212</td>\n",
       "      <td>0.452148</td>\n",
       "      <td>0.077515</td>\n",
       "      <td>0.071777</td>\n",
       "      <td>0.000000</td>\n",
       "      <td>3.542325</td>\n",
       "      <td>0.040800</td>\n",
       "    </tr>\n",
       "    <tr>\n",
       "      <th>4</th>\n",
       "      <td>20</td>\n",
       "      <td>-0.193837</td>\n",
       "      <td>-0.198527</td>\n",
       "      <td>0.201546</td>\n",
       "      <td>0.258556</td>\n",
       "      <td>0.775204</td>\n",
       "      <td>0.084794</td>\n",
       "      <td>-0.289294</td>\n",
       "      <td>-0.816410</td>\n",
       "      <td>0.043851</td>\n",
       "      <td>...</td>\n",
       "      <td>0.095003</td>\n",
       "      <td>0.022492</td>\n",
       "      <td>0.021355</td>\n",
       "      <td>16.669037</td>\n",
       "      <td>0.469727</td>\n",
       "      <td>0.047225</td>\n",
       "      <td>0.040039</td>\n",
       "      <td>0.000977</td>\n",
       "      <td>3.189831</td>\n",
       "      <td>0.030993</td>\n",
       "    </tr>\n",
       "  </tbody>\n",
       "</table>\n",
       "<p>5 rows × 519 columns</p>\n",
       "</div>"
      ],
      "text/plain": [
       "   track_id  chroma_cens_kurtosis_01  chroma_cens_kurtosis_02  \\\n",
       "0         2                 7.180653                 5.230309   \n",
       "1         3                 1.888963                 0.760539   \n",
       "2         5                 0.527563                -0.077654   \n",
       "3        10                 3.702245                -0.291193   \n",
       "4        20                -0.193837                -0.198527   \n",
       "\n",
       "   chroma_cens_kurtosis_03  chroma_cens_kurtosis_04  chroma_cens_kurtosis_05  \\\n",
       "0                 0.249321                 1.347620                 1.482478   \n",
       "1                 0.345297                 2.295201                 1.654031   \n",
       "2                -0.279610                 0.685883                 1.937570   \n",
       "3                 2.196742                -0.234449                 1.367364   \n",
       "4                 0.201546                 0.258556                 0.775204   \n",
       "\n",
       "   chroma_cens_kurtosis_06  chroma_cens_kurtosis_07  chroma_cens_kurtosis_08  \\\n",
       "0                 0.531371                 1.481593                 2.691455   \n",
       "1                 0.067592                 1.366848                 1.054094   \n",
       "2                 0.880839                -0.923192                -0.927232   \n",
       "3                 0.998411                 1.770694                 1.604566   \n",
       "4                 0.084794                -0.289294                -0.816410   \n",
       "\n",
       "   chroma_cens_kurtosis_09  ...  tonnetz_std_04  tonnetz_std_05  \\\n",
       "0                 0.866868  ...        0.054125        0.012226   \n",
       "1                 0.108103  ...        0.063831        0.014212   \n",
       "2                 0.666617  ...        0.040730        0.012691   \n",
       "3                 0.521217  ...        0.074358        0.017952   \n",
       "4                 0.043851  ...        0.095003        0.022492   \n",
       "\n",
       "   tonnetz_std_06  zcr_kurtosis_01  zcr_max_01  zcr_mean_01  zcr_median_01  \\\n",
       "0        0.012111         5.758890    0.459473     0.085629       0.071289   \n",
       "1        0.017740         2.824694    0.466309     0.084578       0.063965   \n",
       "2        0.014759         6.808415    0.375000     0.053114       0.041504   \n",
       "3        0.013921        21.434212    0.452148     0.077515       0.071777   \n",
       "4        0.021355        16.669037    0.469727     0.047225       0.040039   \n",
       "\n",
       "   zcr_min_01  zcr_skew_01  zcr_std_01  \n",
       "0    0.000000     2.089872    0.061448  \n",
       "1    0.000000     1.716724    0.069330  \n",
       "2    0.000000     2.193303    0.044861  \n",
       "3    0.000000     3.542325    0.040800  \n",
       "4    0.000977     3.189831    0.030993  \n",
       "\n",
       "[5 rows x 519 columns]"
      ]
     },
     "execution_count": 19,
     "metadata": {},
     "output_type": "execute_result"
    }
   ],
   "source": [
    "features_c.head()"
   ]
  },
  {
   "cell_type": "code",
   "execution_count": 20,
   "metadata": {},
   "outputs": [
    {
     "data": {
      "text/plain": [
       "252"
      ]
     },
     "execution_count": 20,
     "metadata": {},
     "output_type": "execute_result"
    }
   ],
   "source": [
    "# Filtering the columns which is related to chroma\n",
    "filter_chroma_col = [col for col in num_cols if col.startswith('chroma')]\n",
    "len(filter_chroma_col)"
   ]
  },
  {
   "cell_type": "code",
   "execution_count": 21,
   "metadata": {},
   "outputs": [],
   "source": [
    "# We used PCA for our numerical chroma columns\n",
    "x2 = features_c.loc[:, filter_chroma_col].values\n",
    "x2 = StandardScaler().fit_transform(x2)"
   ]
  },
  {
   "cell_type": "code",
   "execution_count": 22,
   "metadata": {},
   "outputs": [],
   "source": [
    "# Initialize the PCA class by passing the number of components to the constructor.\n",
    "pca2 = PCA(n_components=32)\n",
    "# Call the fit and then transform methods by passing the feature set to these methods. \n",
    "# The transform method returns the specified number of principal components.\n",
    "principalComponents = pca2.fit_transform(x2)\n",
    "# Creating Principal data frame\n",
    "principalDf_2 = pd.DataFrame(data = principalComponents\n",
    "             , columns = [\"principal component F_chroma\" + str(i) for i in range(1,33)])"
   ]
  },
  {
   "cell_type": "code",
   "execution_count": 23,
   "metadata": {},
   "outputs": [
    {
     "name": "stdout",
     "output_type": "stream",
     "text": [
      "Components =  32 ;\n",
      "Total explained variance =  0.77315\n"
     ]
    }
   ],
   "source": [
    "#pca.explained_variance_ratio_\n",
    "print ( \"Components = \", pca2.n_components_ , \";\\nTotal explained variance = \",\n",
    "      round(pca2.explained_variance_ratio_.sum(),5)  )"
   ]
  },
  {
   "cell_type": "code",
   "execution_count": 24,
   "metadata": {},
   "outputs": [
    {
     "data": {
      "image/png": "[encoded data removed]",
      "text/plain": [
       "<Figure size 576x396 with 1 Axes>"
      ]
     },
     "metadata": {},
     "output_type": "display_data"
    }
   ],
   "source": [
    "plt.plot(pca2.explained_variance_ratio_)\n",
    "plt.ylabel(\"Explained Variance Ratio\")\n",
    "plt.xlabel(\"Components\")\n",
    "plt.show()"
   ]
  },
  {
   "cell_type": "markdown",
   "metadata": {},
   "source": [
    "We decided to reduce the number of columns which is related to chroma from 252 to 32. \\\n",
    "The reason why we did not choose it lower than this number (32) is to ensure that the total variance is greater than 70%."
   ]
  },
  {
   "cell_type": "markdown",
   "metadata": {},
   "source": [
    "Filtering and PCA to the columns which is related to **mfcc** :"
   ]
  },
  {
   "cell_type": "code",
   "execution_count": 25,
   "metadata": {},
   "outputs": [
    {
     "data": {
      "text/plain": [
       "140"
      ]
     },
     "execution_count": 25,
     "metadata": {},
     "output_type": "execute_result"
    }
   ],
   "source": [
    "# Filtering the columns which is related to mfcc\n",
    "filter_mfcc_col = [col for col in num_cols if col.startswith('mfcc')]\n",
    "len(filter_mfcc_col)"
   ]
  },
  {
   "cell_type": "code",
   "execution_count": 26,
   "metadata": {},
   "outputs": [],
   "source": [
    "# We used PCA for our mfcc columns\n",
    "x3 = features_c.loc[:, filter_mfcc_col].values\n",
    "x3 = StandardScaler().fit_transform(x3)"
   ]
  },
  {
   "cell_type": "code",
   "execution_count": 27,
   "metadata": {},
   "outputs": [],
   "source": [
    "# Initialize the PCA class by passing the number of components to the constructor.\n",
    "pca3 = PCA(n_components=20)\n",
    "# Call the fit and then transform methods by passing the feature set to these methods. \n",
    "# The transform method returns the specified number of principal components.\n",
    "principalComponents = pca3.fit_transform(x3)\n",
    "# Creating Principal data frame\n",
    "principalDf_3 = pd.DataFrame(data = principalComponents\n",
    "             , columns = [\"principal component F_mfcc \" + str(i) for i in range(1,21)])"
   ]
  },
  {
   "cell_type": "code",
   "execution_count": 28,
   "metadata": {},
   "outputs": [
    {
     "name": "stdout",
     "output_type": "stream",
     "text": [
      "Components =  20 ;\n",
      "Total explained variance =  0.7375\n"
     ]
    }
   ],
   "source": [
    "#pca.explained_variance_ratio_\n",
    "print ( \"Components = \", pca3.n_components_ , \";\\nTotal explained variance = \",\n",
    "      round(pca3.explained_variance_ratio_.sum(),5)  )"
   ]
  },
  {
   "cell_type": "code",
   "execution_count": 29,
   "metadata": {},
   "outputs": [
    {
     "data": {
      "image/png": "[encoded data removed]",
      "text/plain": [
       "<Figure size 576x396 with 1 Axes>"
      ]
     },
     "metadata": {},
     "output_type": "display_data"
    }
   ],
   "source": [
    "plt.plot(pca3.explained_variance_ratio_)\n",
    "plt.ylabel(\"Explained Variance Ratio\")\n",
    "plt.xlabel(\"Components\")\n",
    "plt.show()"
   ]
  },
  {
   "cell_type": "markdown",
   "metadata": {},
   "source": [
    "We decided to reduce the number of columns which is related to mfcc from 140 to 21. \\\n",
    "The reason why we did not choose it lower than this number (21) is to ensure that the total variance is greater than 70%."
   ]
  },
  {
   "cell_type": "markdown",
   "metadata": {},
   "source": [
    "Filtering and PCA to the columns which is related to **tonnetz** :"
   ]
  },
  {
   "cell_type": "code",
   "execution_count": 30,
   "metadata": {},
   "outputs": [
    {
     "data": {
      "text/plain": [
       "42"
      ]
     },
     "execution_count": 30,
     "metadata": {},
     "output_type": "execute_result"
    }
   ],
   "source": [
    "# Extracting the columns which is related to tonnetz\n",
    "filter_tonnetz_col = [col for col in num_cols if col.startswith('tonnetz')]\n",
    "len(filter_tonnetz_col)"
   ]
  },
  {
   "cell_type": "code",
   "execution_count": 31,
   "metadata": {},
   "outputs": [],
   "source": [
    "# We used PCA for our tonnetz columns\n",
    "x4 = features_c.loc[:, filter_tonnetz_col].values\n",
    "x4 = StandardScaler().fit_transform(x4)"
   ]
  },
  {
   "cell_type": "code",
   "execution_count": 32,
   "metadata": {},
   "outputs": [],
   "source": [
    "# Initialize the PCA class by passing the number of components to the constructor.\n",
    "pca4 = PCA(n_components=14)\n",
    "# Call the fit and then transform methods by passing the feature set to these methods. \n",
    "# The transform method returns the specified number of principal components.\n",
    "principalComponents = pca4.fit_transform(x4)\n",
    "# Creating Principal data frame\n",
    "principalDf_4 = pd.DataFrame(data = principalComponents\n",
    "             , columns = [\"principal component F_tonnetz \" + str(i) for i in range(1,15)])"
   ]
  },
  {
   "cell_type": "code",
   "execution_count": 33,
   "metadata": {},
   "outputs": [
    {
     "name": "stdout",
     "output_type": "stream",
     "text": [
      "Components =  14 ;\n",
      "Total explained variance =  0.80362\n"
     ]
    }
   ],
   "source": [
    "#pca.explained_variance_ratio_\n",
    "print ( \"Components = \", pca4.n_components_ , \";\\nTotal explained variance = \",\n",
    "      round(pca4.explained_variance_ratio_.sum(),5)  )"
   ]
  },
  {
   "cell_type": "code",
   "execution_count": 34,
   "metadata": {},
   "outputs": [
    {
     "data": {
      "image/png": "[encoded data removed]",
      "text/plain": [
       "<Figure size 576x396 with 1 Axes>"
      ]
     },
     "metadata": {},
     "output_type": "display_data"
    }
   ],
   "source": [
    "plt.plot(pca4.explained_variance_ratio_)\n",
    "plt.ylabel(\"Explained Variance Ratio\")\n",
    "plt.xlabel(\"Components\")\n",
    "plt.show()"
   ]
  },
  {
   "cell_type": "markdown",
   "metadata": {},
   "source": [
    "We decided to reduce the number of columns which is related to tonnetz from 42 to 14.\n",
    "The reason why we did not choose it lower than this number (14) is to ensure that the total variance is greater than 70%."
   ]
  },
  {
   "cell_type": "markdown",
   "metadata": {},
   "source": [
    "Filtering and PCA to the columns which is related to **spectral** :"
   ]
  },
  {
   "cell_type": "code",
   "execution_count": 35,
   "metadata": {},
   "outputs": [
    {
     "data": {
      "text/plain": [
       "70"
      ]
     },
     "execution_count": 35,
     "metadata": {},
     "output_type": "execute_result"
    }
   ],
   "source": [
    "# Extracting the columns which is related to tonnetz\n",
    "filter_spectral_col = [col for col in num_cols if col.startswith('spectral')]\n",
    "len(filter_spectral_col)"
   ]
  },
  {
   "cell_type": "code",
   "execution_count": 36,
   "metadata": {},
   "outputs": [],
   "source": [
    "# We used PCA for our spectral columns\n",
    "x5 = features_c.loc[:, filter_spectral_col].values\n",
    "x5 = StandardScaler().fit_transform(x5)"
   ]
  },
  {
   "cell_type": "code",
   "execution_count": 37,
   "metadata": {},
   "outputs": [],
   "source": [
    "# Initialize the PCA class by passing the number of components to the constructor.\n",
    "pca5 = PCA(n_components=10)\n",
    "# Call the fit and then transform methods by passing the feature set to these methods. \n",
    "# The transform method returns the specified number of principal components.\n",
    "principalComponents = pca5.fit_transform(x5)\n",
    "# Creating Principal data frame\n",
    "principalDf_5 = pd.DataFrame(data = principalComponents\n",
    "             , columns = [\"principal component F_spectral\" + str(i) for i in range(1,11)])"
   ]
  },
  {
   "cell_type": "code",
   "execution_count": 38,
   "metadata": {},
   "outputs": [
    {
     "name": "stdout",
     "output_type": "stream",
     "text": [
      "Components =  10 ;\n",
      "Total explained variance =  0.70483\n"
     ]
    }
   ],
   "source": [
    "#pca.explained_variance_ratio_\n",
    "print ( \"Components = \", pca5.n_components_ , \";\\nTotal explained variance = \",\n",
    "      round(pca5.explained_variance_ratio_.sum(),5))"
   ]
  },
  {
   "cell_type": "code",
   "execution_count": 39,
   "metadata": {},
   "outputs": [
    {
     "data": {
      "image/png": "[encoded data removed]",
      "text/plain": [
       "<Figure size 576x396 with 1 Axes>"
      ]
     },
     "metadata": {},
     "output_type": "display_data"
    }
   ],
   "source": [
    "plt.plot(pca5.explained_variance_ratio_)\n",
    "plt.ylabel(\"Explained Variance Ratio\")\n",
    "plt.xlabel(\"Components\")\n",
    "plt.show()"
   ]
  },
  {
   "cell_type": "markdown",
   "metadata": {},
   "source": [
    "We decided to reduce the number of columns which is related to spectral from 70 to 10. \\\n",
    "The reason why we did not choose it lower than this number (10) is to ensure that the total variance is greater than 70%."
   ]
  },
  {
   "cell_type": "markdown",
   "metadata": {},
   "source": [
    "Filtering and PCA to the columns which is related to **zcr** :"
   ]
  },
  {
   "cell_type": "code",
   "execution_count": 40,
   "metadata": {},
   "outputs": [
    {
     "data": {
      "text/plain": [
       "7"
      ]
     },
     "execution_count": 40,
     "metadata": {},
     "output_type": "execute_result"
    }
   ],
   "source": [
    "# Extracting the columns which is related to zcr\n",
    "filter_zcr_col = [col for col in num_cols if col.startswith('zcr')]\n",
    "len(filter_zcr_col)"
   ]
  },
  {
   "cell_type": "markdown",
   "metadata": {},
   "source": [
    "Since we only have 7 columns related to zcr, we decided to keep them without applying PCA."
   ]
  },
  {
   "cell_type": "code",
   "execution_count": 41,
   "metadata": {},
   "outputs": [],
   "source": [
    "final_features = pd.concat([principalDf_2,principalDf_3,principalDf_4,principalDf_5, features_c[filter_zcr_col],features_c[\"track_id\"]], axis = 1)"
   ]
  },
  {
   "cell_type": "code",
   "execution_count": 42,
   "metadata": {},
   "outputs": [
    {
     "data": {
      "text/plain": [
       "(106574, 84)"
      ]
     },
     "execution_count": 42,
     "metadata": {},
     "output_type": "execute_result"
    }
   ],
   "source": [
    "final_features.shape"
   ]
  },
  {
   "cell_type": "code",
   "execution_count": 43,
   "metadata": {},
   "outputs": [
    {
     "data": {
      "text/html": [
       "<div>\n",
       "<style scoped>\n",
       "    .dataframe tbody tr th:only-of-type {\n",
       "        vertical-align: middle;\n",
       "    }\n",
       "\n",
       "    .dataframe tbody tr th {\n",
       "        vertical-align: top;\n",
       "    }\n",
       "\n",
       "    .dataframe thead th {\n",
       "        text-align: right;\n",
       "    }\n",
       "</style>\n",
       "<table border=\"1\" class=\"dataframe\">\n",
       "  <thead>\n",
       "    <tr style=\"text-align: right;\">\n",
       "      <th></th>\n",
       "      <th>principal component F_chroma1</th>\n",
       "      <th>principal component F_chroma2</th>\n",
       "      <th>principal component F_chroma3</th>\n",
       "      <th>principal component F_chroma4</th>\n",
       "      <th>principal component F_chroma5</th>\n",
       "      <th>principal component F_chroma6</th>\n",
       "      <th>principal component F_chroma7</th>\n",
       "      <th>principal component F_chroma8</th>\n",
       "      <th>principal component F_chroma9</th>\n",
       "      <th>principal component F_chroma10</th>\n",
       "      <th>...</th>\n",
       "      <th>principal component F_spectral9</th>\n",
       "      <th>principal component F_spectral10</th>\n",
       "      <th>zcr_kurtosis_01</th>\n",
       "      <th>zcr_max_01</th>\n",
       "      <th>zcr_mean_01</th>\n",
       "      <th>zcr_median_01</th>\n",
       "      <th>zcr_min_01</th>\n",
       "      <th>zcr_skew_01</th>\n",
       "      <th>zcr_std_01</th>\n",
       "      <th>track_id</th>\n",
       "    </tr>\n",
       "  </thead>\n",
       "  <tbody>\n",
       "    <tr>\n",
       "      <th>0</th>\n",
       "      <td>0.775575</td>\n",
       "      <td>0.363597</td>\n",
       "      <td>1.361552</td>\n",
       "      <td>-3.699527</td>\n",
       "      <td>-6.147775</td>\n",
       "      <td>-5.360350</td>\n",
       "      <td>-1.897574</td>\n",
       "      <td>2.495421</td>\n",
       "      <td>-0.448859</td>\n",
       "      <td>-2.120843</td>\n",
       "      <td>...</td>\n",
       "      <td>-0.189482</td>\n",
       "      <td>-1.422777</td>\n",
       "      <td>5.758890</td>\n",
       "      <td>0.459473</td>\n",
       "      <td>0.085629</td>\n",
       "      <td>0.071289</td>\n",
       "      <td>0.000000</td>\n",
       "      <td>2.089872</td>\n",
       "      <td>0.061448</td>\n",
       "      <td>2</td>\n",
       "    </tr>\n",
       "    <tr>\n",
       "      <th>1</th>\n",
       "      <td>2.396017</td>\n",
       "      <td>-2.216488</td>\n",
       "      <td>-5.514650</td>\n",
       "      <td>-0.510124</td>\n",
       "      <td>1.642146</td>\n",
       "      <td>-3.034904</td>\n",
       "      <td>-3.248686</td>\n",
       "      <td>2.734834</td>\n",
       "      <td>-0.931261</td>\n",
       "      <td>1.087551</td>\n",
       "      <td>...</td>\n",
       "      <td>0.596027</td>\n",
       "      <td>-0.696310</td>\n",
       "      <td>2.824694</td>\n",
       "      <td>0.466309</td>\n",
       "      <td>0.084578</td>\n",
       "      <td>0.063965</td>\n",
       "      <td>0.000000</td>\n",
       "      <td>1.716724</td>\n",
       "      <td>0.069330</td>\n",
       "      <td>3</td>\n",
       "    </tr>\n",
       "    <tr>\n",
       "      <th>2</th>\n",
       "      <td>0.238588</td>\n",
       "      <td>-0.583151</td>\n",
       "      <td>-3.281536</td>\n",
       "      <td>-1.874602</td>\n",
       "      <td>-1.639820</td>\n",
       "      <td>-0.529605</td>\n",
       "      <td>-2.849836</td>\n",
       "      <td>1.959009</td>\n",
       "      <td>-0.717812</td>\n",
       "      <td>0.016183</td>\n",
       "      <td>...</td>\n",
       "      <td>-0.286260</td>\n",
       "      <td>-0.590745</td>\n",
       "      <td>6.808415</td>\n",
       "      <td>0.375000</td>\n",
       "      <td>0.053114</td>\n",
       "      <td>0.041504</td>\n",
       "      <td>0.000000</td>\n",
       "      <td>2.193303</td>\n",
       "      <td>0.044861</td>\n",
       "      <td>5</td>\n",
       "    </tr>\n",
       "    <tr>\n",
       "      <th>3</th>\n",
       "      <td>6.340997</td>\n",
       "      <td>1.307156</td>\n",
       "      <td>-4.068479</td>\n",
       "      <td>-2.896100</td>\n",
       "      <td>1.793508</td>\n",
       "      <td>-2.828160</td>\n",
       "      <td>-2.905913</td>\n",
       "      <td>1.605660</td>\n",
       "      <td>-0.013365</td>\n",
       "      <td>3.209298</td>\n",
       "      <td>...</td>\n",
       "      <td>-0.829564</td>\n",
       "      <td>-0.569972</td>\n",
       "      <td>21.434212</td>\n",
       "      <td>0.452148</td>\n",
       "      <td>0.077515</td>\n",
       "      <td>0.071777</td>\n",
       "      <td>0.000000</td>\n",
       "      <td>3.542325</td>\n",
       "      <td>0.040800</td>\n",
       "      <td>10</td>\n",
       "    </tr>\n",
       "    <tr>\n",
       "      <th>4</th>\n",
       "      <td>-1.902813</td>\n",
       "      <td>-1.745456</td>\n",
       "      <td>-2.876899</td>\n",
       "      <td>2.710234</td>\n",
       "      <td>-0.255222</td>\n",
       "      <td>0.354202</td>\n",
       "      <td>-0.259892</td>\n",
       "      <td>-0.680608</td>\n",
       "      <td>1.648883</td>\n",
       "      <td>3.117666</td>\n",
       "      <td>...</td>\n",
       "      <td>-0.782080</td>\n",
       "      <td>3.433286</td>\n",
       "      <td>16.669037</td>\n",
       "      <td>0.469727</td>\n",
       "      <td>0.047225</td>\n",
       "      <td>0.040039</td>\n",
       "      <td>0.000977</td>\n",
       "      <td>3.189831</td>\n",
       "      <td>0.030993</td>\n",
       "      <td>20</td>\n",
       "    </tr>\n",
       "    <tr>\n",
       "      <th>...</th>\n",
       "      <td>...</td>\n",
       "      <td>...</td>\n",
       "      <td>...</td>\n",
       "      <td>...</td>\n",
       "      <td>...</td>\n",
       "      <td>...</td>\n",
       "      <td>...</td>\n",
       "      <td>...</td>\n",
       "      <td>...</td>\n",
       "      <td>...</td>\n",
       "      <td>...</td>\n",
       "      <td>...</td>\n",
       "      <td>...</td>\n",
       "      <td>...</td>\n",
       "      <td>...</td>\n",
       "      <td>...</td>\n",
       "      <td>...</td>\n",
       "      <td>...</td>\n",
       "      <td>...</td>\n",
       "      <td>...</td>\n",
       "      <td>...</td>\n",
       "    </tr>\n",
       "    <tr>\n",
       "      <th>106569</th>\n",
       "      <td>1.563060</td>\n",
       "      <td>-1.342387</td>\n",
       "      <td>6.758816</td>\n",
       "      <td>-1.639635</td>\n",
       "      <td>4.023511</td>\n",
       "      <td>2.421905</td>\n",
       "      <td>6.661791</td>\n",
       "      <td>-0.091608</td>\n",
       "      <td>-1.804905</td>\n",
       "      <td>-3.164485</td>\n",
       "      <td>...</td>\n",
       "      <td>1.296953</td>\n",
       "      <td>-0.816901</td>\n",
       "      <td>4.448255</td>\n",
       "      <td>0.172852</td>\n",
       "      <td>0.028773</td>\n",
       "      <td>0.028320</td>\n",
       "      <td>0.003906</td>\n",
       "      <td>0.955388</td>\n",
       "      <td>0.012385</td>\n",
       "      <td>155316</td>\n",
       "    </tr>\n",
       "    <tr>\n",
       "      <th>106570</th>\n",
       "      <td>0.976324</td>\n",
       "      <td>-4.937344</td>\n",
       "      <td>2.160017</td>\n",
       "      <td>2.554939</td>\n",
       "      <td>-2.190837</td>\n",
       "      <td>6.301983</td>\n",
       "      <td>-0.158723</td>\n",
       "      <td>1.094531</td>\n",
       "      <td>-0.163944</td>\n",
       "      <td>0.446743</td>\n",
       "      <td>...</td>\n",
       "      <td>1.664312</td>\n",
       "      <td>-0.188437</td>\n",
       "      <td>3.270612</td>\n",
       "      <td>0.196289</td>\n",
       "      <td>0.031116</td>\n",
       "      <td>0.027832</td>\n",
       "      <td>0.002441</td>\n",
       "      <td>1.283060</td>\n",
       "      <td>0.019059</td>\n",
       "      <td>155317</td>\n",
       "    </tr>\n",
       "    <tr>\n",
       "      <th>106571</th>\n",
       "      <td>3.719993</td>\n",
       "      <td>-4.143318</td>\n",
       "      <td>2.385720</td>\n",
       "      <td>-1.277057</td>\n",
       "      <td>1.464198</td>\n",
       "      <td>1.783222</td>\n",
       "      <td>3.163254</td>\n",
       "      <td>1.525178</td>\n",
       "      <td>-0.569534</td>\n",
       "      <td>-0.913831</td>\n",
       "      <td>...</td>\n",
       "      <td>1.089796</td>\n",
       "      <td>-0.318234</td>\n",
       "      <td>2.356727</td>\n",
       "      <td>0.212891</td>\n",
       "      <td>0.038450</td>\n",
       "      <td>0.037109</td>\n",
       "      <td>0.003418</td>\n",
       "      <td>0.828569</td>\n",
       "      <td>0.017904</td>\n",
       "      <td>155318</td>\n",
       "    </tr>\n",
       "    <tr>\n",
       "      <th>106572</th>\n",
       "      <td>4.565423</td>\n",
       "      <td>-3.903901</td>\n",
       "      <td>0.804845</td>\n",
       "      <td>0.306826</td>\n",
       "      <td>1.538960</td>\n",
       "      <td>-1.027877</td>\n",
       "      <td>0.382104</td>\n",
       "      <td>0.735883</td>\n",
       "      <td>0.115563</td>\n",
       "      <td>0.683806</td>\n",
       "      <td>...</td>\n",
       "      <td>1.494139</td>\n",
       "      <td>-0.607061</td>\n",
       "      <td>6.188604</td>\n",
       "      <td>0.167480</td>\n",
       "      <td>0.041480</td>\n",
       "      <td>0.038086</td>\n",
       "      <td>0.004883</td>\n",
       "      <td>1.818740</td>\n",
       "      <td>0.020133</td>\n",
       "      <td>155319</td>\n",
       "    </tr>\n",
       "    <tr>\n",
       "      <th>106573</th>\n",
       "      <td>3.451314</td>\n",
       "      <td>-2.755545</td>\n",
       "      <td>-0.698789</td>\n",
       "      <td>2.824318</td>\n",
       "      <td>0.947569</td>\n",
       "      <td>2.939010</td>\n",
       "      <td>2.222347</td>\n",
       "      <td>-0.642756</td>\n",
       "      <td>0.764978</td>\n",
       "      <td>-1.070820</td>\n",
       "      <td>...</td>\n",
       "      <td>-1.527494</td>\n",
       "      <td>0.945701</td>\n",
       "      <td>21.756050</td>\n",
       "      <td>0.845215</td>\n",
       "      <td>0.075141</td>\n",
       "      <td>0.044434</td>\n",
       "      <td>0.004395</td>\n",
       "      <td>4.687204</td>\n",
       "      <td>0.137205</td>\n",
       "      <td>155320</td>\n",
       "    </tr>\n",
       "  </tbody>\n",
       "</table>\n",
       "<p>106574 rows × 84 columns</p>\n",
       "</div>"
      ],
      "text/plain": [
       "        principal component F_chroma1  principal component F_chroma2  \\\n",
       "0                            0.775575                       0.363597   \n",
       "1                            2.396017                      -2.216488   \n",
       "2                            0.238588                      -0.583151   \n",
       "3                            6.340997                       1.307156   \n",
       "4                           -1.902813                      -1.745456   \n",
       "...                               ...                            ...   \n",
       "106569                       1.563060                      -1.342387   \n",
       "106570                       0.976324                      -4.937344   \n",
       "106571                       3.719993                      -4.143318   \n",
       "106572                       4.565423                      -3.903901   \n",
       "106573                       3.451314                      -2.755545   \n",
       "\n",
       "        principal component F_chroma3  principal component F_chroma4  \\\n",
       "0                            1.361552                      -3.699527   \n",
       "1                           -5.514650                      -0.510124   \n",
       "2                           -3.281536                      -1.874602   \n",
       "3                           -4.068479                      -2.896100   \n",
       "4                           -2.876899                       2.710234   \n",
       "...                               ...                            ...   \n",
       "106569                       6.758816                      -1.639635   \n",
       "106570                       2.160017                       2.554939   \n",
       "106571                       2.385720                      -1.277057   \n",
       "106572                       0.804845                       0.306826   \n",
       "106573                      -0.698789                       2.824318   \n",
       "\n",
       "        principal component F_chroma5  principal component F_chroma6  \\\n",
       "0                           -6.147775                      -5.360350   \n",
       "1                            1.642146                      -3.034904   \n",
       "2                           -1.639820                      -0.529605   \n",
       "3                            1.793508                      -2.828160   \n",
       "4                           -0.255222                       0.354202   \n",
       "...                               ...                            ...   \n",
       "106569                       4.023511                       2.421905   \n",
       "106570                      -2.190837                       6.301983   \n",
       "106571                       1.464198                       1.783222   \n",
       "106572                       1.538960                      -1.027877   \n",
       "106573                       0.947569                       2.939010   \n",
       "\n",
       "        principal component F_chroma7  principal component F_chroma8  \\\n",
       "0                           -1.897574                       2.495421   \n",
       "1                           -3.248686                       2.734834   \n",
       "2                           -2.849836                       1.959009   \n",
       "3                           -2.905913                       1.605660   \n",
       "4                           -0.259892                      -0.680608   \n",
       "...                               ...                            ...   \n",
       "106569                       6.661791                      -0.091608   \n",
       "106570                      -0.158723                       1.094531   \n",
       "106571                       3.163254                       1.525178   \n",
       "106572                       0.382104                       0.735883   \n",
       "106573                       2.222347                      -0.642756   \n",
       "\n",
       "        principal component F_chroma9  principal component F_chroma10  ...  \\\n",
       "0                           -0.448859                       -2.120843  ...   \n",
       "1                           -0.931261                        1.087551  ...   \n",
       "2                           -0.717812                        0.016183  ...   \n",
       "3                           -0.013365                        3.209298  ...   \n",
       "4                            1.648883                        3.117666  ...   \n",
       "...                               ...                             ...  ...   \n",
       "106569                      -1.804905                       -3.164485  ...   \n",
       "106570                      -0.163944                        0.446743  ...   \n",
       "106571                      -0.569534                       -0.913831  ...   \n",
       "106572                       0.115563                        0.683806  ...   \n",
       "106573                       0.764978                       -1.070820  ...   \n",
       "\n",
       "        principal component F_spectral9  principal component F_spectral10  \\\n",
       "0                             -0.189482                         -1.422777   \n",
       "1                              0.596027                         -0.696310   \n",
       "2                             -0.286260                         -0.590745   \n",
       "3                             -0.829564                         -0.569972   \n",
       "4                             -0.782080                          3.433286   \n",
       "...                                 ...                               ...   \n",
       "106569                         1.296953                         -0.816901   \n",
       "106570                         1.664312                         -0.188437   \n",
       "106571                         1.089796                         -0.318234   \n",
       "106572                         1.494139                         -0.607061   \n",
       "106573                        -1.527494                          0.945701   \n",
       "\n",
       "        zcr_kurtosis_01  zcr_max_01  zcr_mean_01  zcr_median_01  zcr_min_01  \\\n",
       "0              5.758890    0.459473     0.085629       0.071289    0.000000   \n",
       "1              2.824694    0.466309     0.084578       0.063965    0.000000   \n",
       "2              6.808415    0.375000     0.053114       0.041504    0.000000   \n",
       "3             21.434212    0.452148     0.077515       0.071777    0.000000   \n",
       "4             16.669037    0.469727     0.047225       0.040039    0.000977   \n",
       "...                 ...         ...          ...            ...         ...   \n",
       "106569         4.448255    0.172852     0.028773       0.028320    0.003906   \n",
       "106570         3.270612    0.196289     0.031116       0.027832    0.002441   \n",
       "106571         2.356727    0.212891     0.038450       0.037109    0.003418   \n",
       "106572         6.188604    0.167480     0.041480       0.038086    0.004883   \n",
       "106573        21.756050    0.845215     0.075141       0.044434    0.004395   \n",
       "\n",
       "        zcr_skew_01  zcr_std_01  track_id  \n",
       "0          2.089872    0.061448         2  \n",
       "1          1.716724    0.069330         3  \n",
       "2          2.193303    0.044861         5  \n",
       "3          3.542325    0.040800        10  \n",
       "4          3.189831    0.030993        20  \n",
       "...             ...         ...       ...  \n",
       "106569     0.955388    0.012385    155316  \n",
       "106570     1.283060    0.019059    155317  \n",
       "106571     0.828569    0.017904    155318  \n",
       "106572     1.818740    0.020133    155319  \n",
       "106573     4.687204    0.137205    155320  \n",
       "\n",
       "[106574 rows x 84 columns]"
      ]
     },
     "execution_count": 43,
     "metadata": {},
     "output_type": "execute_result"
    }
   ],
   "source": [
    "final_features"
   ]
  },
  {
   "cell_type": "markdown",
   "metadata": {},
   "source": [
    "Once we got all the datasets well filled and standardized, we can start merging them using as key the **track_id** column."
   ]
  },
  {
   "cell_type": "code",
   "execution_count": 44,
   "metadata": {},
   "outputs": [
    {
     "name": "stdout",
     "output_type": "stream",
     "text": [
      "(13129, 154)\n"
     ]
    },
    {
     "data": {
      "text/html": [
       "<div>\n",
       "<style scoped>\n",
       "    .dataframe tbody tr th:only-of-type {\n",
       "        vertical-align: middle;\n",
       "    }\n",
       "\n",
       "    .dataframe tbody tr th {\n",
       "        vertical-align: top;\n",
       "    }\n",
       "\n",
       "    .dataframe thead th {\n",
       "        text-align: right;\n",
       "    }\n",
       "</style>\n",
       "<table border=\"1\" class=\"dataframe\">\n",
       "  <thead>\n",
       "    <tr style=\"text-align: right;\">\n",
       "      <th></th>\n",
       "      <th>track_id</th>\n",
       "      <th>album_id</th>\n",
       "      <th>artist_id</th>\n",
       "      <th>artist_location</th>\n",
       "      <th>track_bit_rate</th>\n",
       "      <th>track_duration</th>\n",
       "      <th>track_listens</th>\n",
       "      <th>track_language_code</th>\n",
       "      <th>track_favorites</th>\n",
       "      <th>track_genre_top</th>\n",
       "      <th>...</th>\n",
       "      <th>ranks_artist_discovery_rank</th>\n",
       "      <th>ranks_artist_familiarity_rank</th>\n",
       "      <th>ranks_artist_hotttnesss_rank</th>\n",
       "      <th>ranks_song_currency_rank</th>\n",
       "      <th>ranks_song_hotttnesss_rank</th>\n",
       "      <th>social_features_artist_discovery</th>\n",
       "      <th>social_features_artist_familiarity</th>\n",
       "      <th>social_features_artist_hotttnesss</th>\n",
       "      <th>social_features_song_currency</th>\n",
       "      <th>social_features_song_hotttnesss</th>\n",
       "    </tr>\n",
       "  </thead>\n",
       "  <tbody>\n",
       "    <tr>\n",
       "      <th>0</th>\n",
       "      <td>2</td>\n",
       "      <td>1</td>\n",
       "      <td>1</td>\n",
       "      <td>New Jersey</td>\n",
       "      <td>256000</td>\n",
       "      <td>168</td>\n",
       "      <td>1293</td>\n",
       "      <td>en</td>\n",
       "      <td>2</td>\n",
       "      <td>Hip-Hop</td>\n",
       "      <td>...</td>\n",
       "      <td>211113.570265</td>\n",
       "      <td>144690.666903</td>\n",
       "      <td>234148.305595</td>\n",
       "      <td>2.919776e+06</td>\n",
       "      <td>2.325537e+06</td>\n",
       "      <td>0.388990</td>\n",
       "      <td>0.386740</td>\n",
       "      <td>0.406370</td>\n",
       "      <td>0.000000</td>\n",
       "      <td>0.000000</td>\n",
       "    </tr>\n",
       "    <tr>\n",
       "      <th>1</th>\n",
       "      <td>3</td>\n",
       "      <td>1</td>\n",
       "      <td>1</td>\n",
       "      <td>New Jersey</td>\n",
       "      <td>256000</td>\n",
       "      <td>237</td>\n",
       "      <td>514</td>\n",
       "      <td>en</td>\n",
       "      <td>1</td>\n",
       "      <td>Hip-Hop</td>\n",
       "      <td>...</td>\n",
       "      <td>211113.570265</td>\n",
       "      <td>144690.666903</td>\n",
       "      <td>234148.305595</td>\n",
       "      <td>2.919776e+06</td>\n",
       "      <td>2.325537e+06</td>\n",
       "      <td>0.388990</td>\n",
       "      <td>0.386740</td>\n",
       "      <td>0.406370</td>\n",
       "      <td>0.000000</td>\n",
       "      <td>0.000000</td>\n",
       "    </tr>\n",
       "    <tr>\n",
       "      <th>2</th>\n",
       "      <td>5</td>\n",
       "      <td>1</td>\n",
       "      <td>1</td>\n",
       "      <td>New Jersey</td>\n",
       "      <td>256000</td>\n",
       "      <td>206</td>\n",
       "      <td>1151</td>\n",
       "      <td>en</td>\n",
       "      <td>6</td>\n",
       "      <td>Hip-Hop</td>\n",
       "      <td>...</td>\n",
       "      <td>211113.570265</td>\n",
       "      <td>144690.666903</td>\n",
       "      <td>234148.305595</td>\n",
       "      <td>2.919776e+06</td>\n",
       "      <td>2.325537e+06</td>\n",
       "      <td>0.388990</td>\n",
       "      <td>0.386740</td>\n",
       "      <td>0.406370</td>\n",
       "      <td>0.000000</td>\n",
       "      <td>0.000000</td>\n",
       "    </tr>\n",
       "    <tr>\n",
       "      <th>3</th>\n",
       "      <td>10</td>\n",
       "      <td>6</td>\n",
       "      <td>6</td>\n",
       "      <td></td>\n",
       "      <td>192000</td>\n",
       "      <td>161</td>\n",
       "      <td>50135</td>\n",
       "      <td>en</td>\n",
       "      <td>178</td>\n",
       "      <td>Pop</td>\n",
       "      <td>...</td>\n",
       "      <td>2635.000000</td>\n",
       "      <td>2544.000000</td>\n",
       "      <td>397.000000</td>\n",
       "      <td>1.156910e+05</td>\n",
       "      <td>6.760900e+04</td>\n",
       "      <td>0.557339</td>\n",
       "      <td>0.614272</td>\n",
       "      <td>0.798387</td>\n",
       "      <td>0.005158</td>\n",
       "      <td>0.354516</td>\n",
       "    </tr>\n",
       "    <tr>\n",
       "      <th>4</th>\n",
       "      <td>134</td>\n",
       "      <td>1</td>\n",
       "      <td>1</td>\n",
       "      <td>New Jersey</td>\n",
       "      <td>256000</td>\n",
       "      <td>207</td>\n",
       "      <td>943</td>\n",
       "      <td>en</td>\n",
       "      <td>3</td>\n",
       "      <td>Hip-Hop</td>\n",
       "      <td>...</td>\n",
       "      <td>211113.570265</td>\n",
       "      <td>144690.666903</td>\n",
       "      <td>234148.305595</td>\n",
       "      <td>2.919776e+06</td>\n",
       "      <td>2.325537e+06</td>\n",
       "      <td>0.388990</td>\n",
       "      <td>0.386740</td>\n",
       "      <td>0.406370</td>\n",
       "      <td>0.000000</td>\n",
       "      <td>0.000000</td>\n",
       "    </tr>\n",
       "  </tbody>\n",
       "</table>\n",
       "<p>5 rows × 154 columns</p>\n",
       "</div>"
      ],
      "text/plain": [
       "   track_id  album_id  artist_id artist_location  track_bit_rate  \\\n",
       "0         2         1          1      New Jersey          256000   \n",
       "1         3         1          1      New Jersey          256000   \n",
       "2         5         1          1      New Jersey          256000   \n",
       "3        10         6          6                          192000   \n",
       "4       134         1          1      New Jersey          256000   \n",
       "\n",
       "   track_duration  track_listens track_language_code  track_favorites  \\\n",
       "0             168           1293                  en                2   \n",
       "1             237            514                  en                1   \n",
       "2             206           1151                  en                6   \n",
       "3             161          50135                  en              178   \n",
       "4             207            943                  en                3   \n",
       "\n",
       "  track_genre_top  ... ranks_artist_discovery_rank  \\\n",
       "0         Hip-Hop  ...               211113.570265   \n",
       "1         Hip-Hop  ...               211113.570265   \n",
       "2         Hip-Hop  ...               211113.570265   \n",
       "3             Pop  ...                 2635.000000   \n",
       "4         Hip-Hop  ...               211113.570265   \n",
       "\n",
       "  ranks_artist_familiarity_rank ranks_artist_hotttnesss_rank  \\\n",
       "0                 144690.666903                234148.305595   \n",
       "1                 144690.666903                234148.305595   \n",
       "2                 144690.666903                234148.305595   \n",
       "3                   2544.000000                   397.000000   \n",
       "4                 144690.666903                234148.305595   \n",
       "\n",
       "  ranks_song_currency_rank  ranks_song_hotttnesss_rank  \\\n",
       "0             2.919776e+06                2.325537e+06   \n",
       "1             2.919776e+06                2.325537e+06   \n",
       "2             2.919776e+06                2.325537e+06   \n",
       "3             1.156910e+05                6.760900e+04   \n",
       "4             2.919776e+06                2.325537e+06   \n",
       "\n",
       "   social_features_artist_discovery  social_features_artist_familiarity  \\\n",
       "0                          0.388990                            0.386740   \n",
       "1                          0.388990                            0.386740   \n",
       "2                          0.388990                            0.386740   \n",
       "3                          0.557339                            0.614272   \n",
       "4                          0.388990                            0.386740   \n",
       "\n",
       "   social_features_artist_hotttnesss  social_features_song_currency  \\\n",
       "0                           0.406370                       0.000000   \n",
       "1                           0.406370                       0.000000   \n",
       "2                           0.406370                       0.000000   \n",
       "3                           0.798387                       0.005158   \n",
       "4                           0.406370                       0.000000   \n",
       "\n",
       "   social_features_song_hotttnesss  \n",
       "0                         0.000000  \n",
       "1                         0.000000  \n",
       "2                         0.000000  \n",
       "3                         0.354516  \n",
       "4                         0.000000  \n",
       "\n",
       "[5 rows x 154 columns]"
      ]
     },
     "execution_count": 44,
     "metadata": {},
     "output_type": "execute_result"
    }
   ],
   "source": [
    "final = final_tracks.merge(final_features.merge(final_echonest, on = \"track_id\"), on = \"track_id\")\n",
    "print(final.shape)\n",
    "final.head()"
   ]
  },
  {
   "cell_type": "markdown",
   "metadata": {},
   "source": [
    "As we can see, the number of rows is almost 13k, as demanded."
   ]
  },
  {
   "cell_type": "markdown",
   "metadata": {},
   "source": [
    "## 2.3 K-Means"
   ]
  },
  {
   "cell_type": "markdown",
   "metadata": {},
   "source": [
    "By the fact that the k-means algorithm doesn't handle string type objects, I make a copy of the dataset containing only numerical type variables."
   ]
  },
  {
   "cell_type": "code",
   "execution_count": 45,
   "metadata": {},
   "outputs": [
    {
     "data": {
      "text/plain": [
       "(13129, 142)"
      ]
     },
     "execution_count": 45,
     "metadata": {},
     "output_type": "execute_result"
    }
   ],
   "source": [
    "final_num = final.select_dtypes(exclude = 'object')\n",
    "final_num.shape"
   ]
  },
  {
   "cell_type": "markdown",
   "metadata": {},
   "source": [
    "Now I can implement the algorithm which will give me in return the clusters formed."
   ]
  },
  {
   "cell_type": "code",
   "execution_count": 68,
   "metadata": {},
   "outputs": [],
   "source": [
    "def kmeans(x,k, no_of_iterations = 100):\n",
    "    array = np.array(x).reshape(x.shape[0], x.shape[1])\n",
    "    \n",
    "    n = array.shape[0]     # Number of rows\n",
    "    m = array.shape[1]     # Number of columns\n",
    "    \n",
    "    # Picking randomly the first centroids\n",
    "    centroids = array[np.random.choice(n, size = k, replace = False)]\n",
    "     \n",
    "    #finding the distance between centroids and all the data points\n",
    "    distances = dist.cdist(x, centroids ,'euclidean') #Step 2\n",
    "     \n",
    "    #Centroid with the minimum Distance\n",
    "    points = np.array([np.argmin(i) for i in distances]) #Step 3\n",
    "     \n",
    "    #Repeating the above steps for a defined number of iterations\n",
    "    #Step 4\n",
    "    for _ in range(no_of_iterations): \n",
    "        centroids = []\n",
    "        for idx in range(k):\n",
    "            #Updating Centroids by taking mean of Cluster it belongs to\n",
    "            temp_cent = x[points==idx].mean(axis=0)\n",
    "            elementi = []\n",
    "            for elem in temp_cent:\n",
    "                elementi.append(elem)\n",
    "            centroids.append(elementi)\n",
    "        centroids = np.vstack(centroids) #Updated Centroids \n",
    "        distances = dist.cdist(x,centroids,'euclidean')\n",
    "        points = np.array([np.argmin(i) for i in distances])\n",
    "         \n",
    "    return points, centroids, distances "
   ]
  },
  {
   "cell_type": "code",
   "execution_count": 86,
   "metadata": {},
   "outputs": [],
   "source": [
    "p, c, d= kmeans(final_num, 4)"
   ]
  },
  {
   "cell_type": "code",
   "execution_count": 87,
   "metadata": {},
   "outputs": [
    {
     "data": {
      "text/plain": [
       "{0: 631, 1: 11295, 2: 438, 3: 765}"
      ]
     },
     "execution_count": 87,
     "metadata": {},
     "output_type": "execute_result"
    }
   ],
   "source": [
    "unique, counts = np.unique(p, return_counts=True)\n",
    "dict(zip(unique, counts))"
   ]
  },
  {
   "cell_type": "markdown",
   "metadata": {},
   "source": [
    "To find an optimal number of clusters we decided to use these 2 different methods:\n",
    " - **Elbow Method**\n",
    " - **Silhouette Coefficient**"
   ]
  },
  {
   "cell_type": "markdown",
   "metadata": {},
   "source": [
    "### Elbow Method"
   ]
  },
  {
   "cell_type": "markdown",
   "metadata": {},
   "source": [
    "Elbow Method is one of the mst famous methods used for the selection of right values of k and for boosting the performance of the model. \n",
    "\n",
    "It is used to find the best value of k in this way: it picks up a range of values and takes the best among them by computing the sum of the square of the points ad calculating the average distance.\n",
    "\n",
    "In the end we will plot a graph of the k-values and examining it we can notice that at some point it will decrease abruptly, that point can be considered the most suitable value of k."
   ]
  },
  {
   "cell_type": "code",
   "execution_count": 71,
   "metadata": {},
   "outputs": [],
   "source": [
    "def elbow_method(x, k_min , k_max):\n",
    "    inertia = []\n",
    "    K = []\n",
    "    for k in range(k_min, k_max+1):\n",
    "        labels, centroids, count  = kmeans(x,k)\n",
    "        cent = np.array([centroids[i] for i in labels])\n",
    "        distance = np.linalg.norm(x-cent, axis = 1)\n",
    "        sum_d = np.sum(distance)\n",
    "        inertia.append(sum_d)\n",
    "        K.append(k)\n",
    "        print(k)\n",
    "    plt.plot(K, inertia)\n",
    "    plt.xlabel(\"K values\")\n",
    "    plt.ylabel(\"Inertia values\")\n",
    "    plt.show()\n",
    "    return K, inertia"
   ]
  },
  {
   "cell_type": "code",
   "execution_count": 72,
   "metadata": {},
   "outputs": [
    {
     "name": "stdout",
     "output_type": "stream",
     "text": [
      "1\n",
      "2\n",
      "3\n",
      "4\n",
      "5\n",
      "6\n",
      "7\n",
      "8\n",
      "9\n",
      "10\n"
     ]
    },
    {
     "data": {
      "image/png": "[encoded data removed]",
      "text/plain": [
       "<Figure size 576x396 with 1 Axes>"
      ]
     },
     "metadata": {},
     "output_type": "display_data"
    }
   ],
   "source": [
    "k, inertia = elbow_method(final_num, 1, 10)"
   ]
  },
  {
   "cell_type": "markdown",
   "metadata": {},
   "source": [
    "As we can see the point of interest are 4 or 6 given that there the graph abruptly decrease."
   ]
  },
  {
   "cell_type": "markdown",
   "metadata": {},
   "source": [
    "We now utilize the KMeans version from sklearn to compare the results:"
   ]
  },
  {
   "cell_type": "code",
   "execution_count": 78,
   "metadata": {},
   "outputs": [],
   "source": [
    "from sklearn.cluster import KMeans\n",
    "KM = KMeans(n_clusters=4, random_state=0).fit(final_num)\n",
    "cluster_labels = KM.labels_"
   ]
  },
  {
   "cell_type": "code",
   "execution_count": 79,
   "metadata": {},
   "outputs": [
    {
     "data": {
      "text/plain": [
       "{0: 630, 1: 11296, 2: 765, 3: 438}"
      ]
     },
     "execution_count": 79,
     "metadata": {},
     "output_type": "execute_result"
    }
   ],
   "source": [
    "unique, counts = np.unique(cluster_labels, return_counts=True)\n",
    "dict(zip(unique, counts))"
   ]
  },
  {
   "cell_type": "markdown",
   "metadata": {},
   "source": [
    "As we can see the cluster's elements are the same in ours and in the sklearn's k-means algorithm.\n",
    "\n",
    "The fact that are distributed differently is due to the random choice we did in our algorithm.\n",
    "Let's now look at the difference in the elbow_method using the sklearn's KMeans:"
   ]
  },
  {
   "cell_type": "code",
   "execution_count": 54,
   "metadata": {},
   "outputs": [],
   "source": [
    "def elbow_method(x, k_min , k_max):\n",
    "    inertia = []\n",
    "    K = []\n",
    "    for k in range(k_min, k_max+1):\n",
    "        kmeans =  KMeans(k, random_state=0).fit(final_num)\n",
    "        labels = kmeans.labels_\n",
    "        centroids = kmeans.cluster_centers_\n",
    "        cent = np.array([centroids[i] for i in labels])\n",
    "        distance = np.linalg.norm(x-cent, axis = 1)\n",
    "        sum_d = np.sum(distance)\n",
    "        inertia.append(sum_d)\n",
    "        K.append(k)\n",
    "        print(k)\n",
    "    plt.plot(K, inertia)\n",
    "    plt.xlabel(\"K values\")\n",
    "    plt.ylabel(\"Inertia values\")\n",
    "    plt.show()\n",
    "    return K, inertia"
   ]
  },
  {
   "cell_type": "code",
   "execution_count": 55,
   "metadata": {
    "scrolled": true
   },
   "outputs": [
    {
     "name": "stdout",
     "output_type": "stream",
     "text": [
      "1\n",
      "2\n",
      "3\n",
      "4\n",
      "5\n",
      "6\n",
      "7\n",
      "8\n",
      "9\n",
      "10\n"
     ]
    },
    {
     "data": {
      "image/png": "[encoded data removed]",
      "text/plain": [
       "<Figure size 576x396 with 1 Axes>"
      ]
     },
     "metadata": {},
     "output_type": "display_data"
    }
   ],
   "source": [
    "k, inertia = elbow_method(final_num, 1, 10)"
   ]
  },
  {
   "cell_type": "markdown",
   "metadata": {},
   "source": [
    "Even if the graphs are not exactly identical, we can see the similitude between the two and the elbow point is practically the same."
   ]
  },
  {
   "cell_type": "markdown",
   "metadata": {},
   "source": [
    "### Silhouette Score Method"
   ]
  },
  {
   "cell_type": "markdown",
   "metadata": {},
   "source": [
    "Silhouette Score (or Coefficient) method has the same purpose of the Elbow Method: find the optimal number of clusters.\n",
    "\n",
    "Its values range between -1 and 1:\n",
    "- If a value is close to 1 than it means that the clusters will be clearly distinguished.\n",
    "- Else, if the value is close to -1 than it means that clusters are assigned in the wrong way.\n",
    "\n",
    "Given a data point $i\\in C_I$ (where $C_I$ is a cluster), then the **Silhouette Score** is given by:\n",
    "\n",
    "$$\n",
    "    s(i) = \\frac{b(i) - a(i)}{max\\{a(i),b(i)\\}}\n",
    "$$\n",
    "\n",
    "Where:\n",
    "- $a(i)$ is the mean distance between the data point $i$ and all the other data points in the same cluster;\n",
    "- $b(i)$ is the smallest mean distance between the data point $i$ and all points in any other cluster.\n",
    "\n",
    "In the end, the **Total Silhouette Coefficient** for a set of exampled is given by the mean of the Silhouette Coefficient for each example."
   ]
  },
  {
   "cell_type": "code",
   "execution_count": 138,
   "metadata": {},
   "outputs": [],
   "source": [
    "def silhouette_score(x, labels, centroids):\n",
    "    cent = np.array([centroids[k] for k in labels])    \n",
    "    distance = np.linalg.norm(x-cent, axis = 1)\n",
    "    intra_cluster = np.mean(distance)\n",
    "    \n",
    "    temp_near=[]\n",
    "    for i in range(len(centroids)) : \n",
    "        ci = centroids[i]\n",
    "        for j in range(i+1, len(centroids)) : # avoid to compute the distance twice\n",
    "            cj = centroids[j]\n",
    "            if (ci != cj).any() :\n",
    "                temp_near.append(np.linalg.norm(ci-cj))\n",
    "    near_cluster = np.mean(np.array(temp_near))\n",
    "    \n",
    "    score = (near_cluster - intra_cluster) / max(intra_cluster, near_cluster)\n",
    "    return score\n",
    "    "
   ]
  },
  {
   "cell_type": "code",
   "execution_count": 139,
   "metadata": {},
   "outputs": [],
   "source": [
    "clusters, centroids, count = kmeans(final_num, 10)"
   ]
  },
  {
   "cell_type": "code",
   "execution_count": 140,
   "metadata": {},
   "outputs": [
    {
     "data": {
      "text/plain": [
       "0.9362103172390124"
      ]
     },
     "execution_count": 140,
     "metadata": {},
     "output_type": "execute_result"
    }
   ],
   "source": [
    "silhouette_score(final_num, clusters, centroids)"
   ]
  },
  {
   "cell_type": "code",
   "execution_count": 141,
   "metadata": {},
   "outputs": [],
   "source": [
    "def silhouette_method(x, k_min, k_max):\n",
    "    scores = []\n",
    "    k_values = []\n",
    "    for k in range(k_min, k_max + 1):\n",
    "        labels, cetroids, distances  = kmeans(x,k)\n",
    "        score = silhouette_score(x, labels, centroids)\n",
    "        scores.append(score)\n",
    "        k_values.append(k)\n",
    "        print(k)\n",
    "    plt.plot(k_values, scores)\n",
    "    plt.xlabel(\"K values\")\n",
    "    plt.ylabel(\"Silhouette Scores\")\n",
    "    plt.show()\n",
    "    return k_values, scores"
   ]
  },
  {
   "cell_type": "code",
   "execution_count": 135,
   "metadata": {},
   "outputs": [
    {
     "name": "stdout",
     "output_type": "stream",
     "text": [
      "1\n",
      "2\n",
      "3\n",
      "4\n",
      "5\n",
      "6\n",
      "7\n",
      "8\n",
      "9\n",
      "10\n"
     ]
    },
    {
     "data": {
      "image/png": "[encoded data removed]",
      "text/plain": [
       "<Figure size 576x396 with 1 Axes>"
      ]
     },
     "metadata": {},
     "output_type": "display_data"
    }
   ],
   "source": [
    "K, silhouette_scores = silhouette_method(final_num, 1, 10)"
   ]
  },
  {
   "cell_type": "markdown",
   "metadata": {},
   "source": [
    "The Silhouette Coefficient graph indicates that the correct number of cluster to pick is 4, as deduced in the Elbow Method."
   ]
  },
  {
   "cell_type": "markdown",
   "metadata": {},
   "source": [
    "Now we will use the already implemented version of K-Means to compare the results obtained from scratch.\n",
    "\n",
    "We are also using the yellowbrick \"KElbowVisualizer\" to compare the graph and see the real optimal number of clusters. "
   ]
  },
  {
   "cell_type": "code",
   "execution_count": 137,
   "metadata": {},
   "outputs": [
    {
     "data": {
      "image/png": "[encoded data removed]",
      "text/plain": [
       "<Figure size 576x396 with 2 Axes>"
      ]
     },
     "metadata": {},
     "output_type": "display_data"
    },
    {
     "data": {
      "text/plain": [
       "<AxesSubplot:title={'center':'Distortion Score Elbow for KMeans Clustering'}, xlabel='k', ylabel='distortion score'>"
      ]
     },
     "execution_count": 137,
     "metadata": {},
     "output_type": "execute_result"
    }
   ],
   "source": [
    "model = KMeans(init='k-means++')\n",
    "visualizer = KElbowVisualizer(model, k = (1,15), metric = \"distortion\")\n",
    "visualizer.fit(final_num)\n",
    "visualizer.show()"
   ]
  },
  {
   "cell_type": "markdown",
   "metadata": {},
   "source": [
    "As we can see, the optimal number of clusters here is 4, the exact value of k returned by our methods. "
   ]
  }
 ],
 "metadata": {
  "kernelspec": {
   "display_name": "Python 3 (ipykernel)",
   "language": "python",
   "name": "python3"
  },
  "language_info": {
   "codemirror_mode": {
    "name": "ipython",
    "version": 3
   },
   "file_extension": ".py",
   "mimetype": "text/x-python",
   "name": "python",
   "nbconvert_exporter": "python",
   "pygments_lexer": "ipython3",
   "version": "3.8.8"
  }
 },
 "nbformat": 4,
 "nbformat_minor": 4
}
