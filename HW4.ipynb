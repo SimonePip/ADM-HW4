{
 "cells": [
  {
   "cell_type": "markdown",
   "id": "3c8fe98a-4d2d-4d7a-8523-6cd1ab7a06e4",
   "metadata": {},
   "source": [
    "# Part 3"
   ]
  },
  {
   "cell_type": "markdown",
   "id": "6785dfe1-dcea-4309-a9a4-c1fa8d334524",
   "metadata": {},
   "source": [
    "You are given a list of integers, A, and another integer s. Write an algorithm that outputs all the pairs in A that equal s.\n",
    "For example, if\n",
    "A = [7, -2, 8, 2, 6, 4, -7, 2, 1, 3, -3] and s = 4\n",
    "the algorithm should output: (7, -3), (-2, 6), (2, 2), (3, 1)."
   ]
  },
  {
   "cell_type": "code",
   "execution_count": 1,
   "id": "4c1d30ea-a19f-4147-9486-d5b99298c7ee",
   "metadata": {},
   "outputs": [],
   "source": [
    "from random import randint"
   ]
  },
  {
   "cell_type": "markdown",
   "id": "08045b27-7059-4c0d-83fe-8dd794d6baf1",
   "metadata": {},
   "source": [
    "The easy way to solve the problem would be implementing a brute force method, which would lead to a complexity equal to $O(n^2)$.\\\n",
    "We managed to implement an algorithm that, making use of sort method of a list ($O(n\\, log(n)$) and a cycle in which we use two indexes (more details in the code, below) solves the problem in $O(n\\, log(n))$ [removing constants]."
   ]
  },
  {
   "cell_type": "code",
   "execution_count": 2,
   "id": "5d2cbb1f-06da-4601-b9be-a2228a772d71",
   "metadata": {},
   "outputs": [],
   "source": [
    "def findPairs(A,s):\n",
    "    pairs=[]\n",
    "    A.sort                                   #First sort the array O(nlogn)\n",
    "    start=0                                  #We define 2 indexes to go through the list A, and verify wheter the sum\n",
    "    end=len(A)-1                             #of A[index1=start]+A[index2=end] is equal to the given sum, in the case it\n",
    "                                             #is we store the value and keep looking for other values\n",
    "                                             #if it's not we check if that's greater or not of the given sum:\n",
    "    while start<end:                         #in the case it is we decrease the second index (end) while in the other\n",
    "                                             #case we increase the first index (start)\n",
    "        if A[start]+A[end]==s: \n",
    "            pairs.append((A[start],A[end]))\n",
    "            start+=1\n",
    "    \n",
    "        elif A[start]+A[end]<s:\n",
    "            start+=1\n",
    "            \n",
    "        else:\n",
    "            end-=1\n",
    "            \n",
    "    return pairs"
   ]
  },
  {
   "cell_type": "code",
   "execution_count": 3,
   "id": "baad051f-9388-43a5-959e-0524b7e9a8da",
   "metadata": {},
   "outputs": [
    {
     "name": "stdout",
     "output_type": "stream",
     "text": [
      "10\n",
      "1.2 µs ± 16.7 ns per loop (mean ± std. dev. of 7 runs, 1000000 loops each)\n",
      "100\n",
      "12.9 µs ± 251 ns per loop (mean ± std. dev. of 7 runs, 100000 loops each)\n",
      "1000\n",
      "134 µs ± 4.16 µs per loop (mean ± std. dev. of 7 runs, 10000 loops each)\n",
      "10000\n",
      "1.35 ms ± 19.7 µs per loop (mean ± std. dev. of 7 runs, 1000 loops each)\n",
      "100000\n",
      "13.6 ms ± 203 µs per loop (mean ± std. dev. of 7 runs, 100 loops each)\n"
     ]
    }
   ],
   "source": [
    "N=10\n",
    "for i in range(5):\n",
    "    A=[]\n",
    "    if i!=0: N*=10\n",
    "    for i in range(N):\n",
    "        A.append(randint(-50, 50))\n",
    "    print(N)\n",
    "    %timeit pairs=findPairs(A,10)"
   ]
  },
  {
   "cell_type": "code",
   "execution_count": null,
   "id": "9c7f5cd3-48b8-48b8-9998-7560ceb45d7a",
   "metadata": {},
   "outputs": [],
   "source": []
  }
 ],
 "metadata": {
  "kernelspec": {
   "display_name": "Python 3 (ipykernel)",
   "language": "python",
   "name": "python3"
  },
  "language_info": {
   "codemirror_mode": {
    "name": "ipython",
    "version": 3
   },
   "file_extension": ".py",
   "mimetype": "text/x-python",
   "name": "python",
   "nbconvert_exporter": "python",
   "pygments_lexer": "ipython3",
   "version": "3.9.7"
  }
 },
 "nbformat": 4,
 "nbformat_minor": 5
}
